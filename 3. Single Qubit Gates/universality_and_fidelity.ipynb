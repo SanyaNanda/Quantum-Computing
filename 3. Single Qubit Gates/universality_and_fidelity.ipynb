{
 "cells": [
  {
   "cell_type": "markdown",
   "metadata": {},
   "source": [
    "# Single Qubit Gates"
   ]
  },
  {
   "cell_type": "markdown",
   "metadata": {},
   "source": [
    "We have studied many single qubits till now, namely: Pauli X, Y and Z, H, Rx, Ry, Rz, S, T and P Gates.\n",
    "\n",
    "If we look deeper every gate is simply a rotation on the bloch sphere. Our initial state gets rotated to a new output state on the application of a Gate. We also know that we can represent any qubit on the bloch sphere by merely specifying $\\theta$ and $\\phi$ angles. So now we will be looking at exactly this, a universal gate U, whichcan be used to create any of the single qubit gates mentioned earlier and more."
   ]
  },
  {
   "cell_type": "markdown",
   "metadata": {},
   "source": [
    "## U Gate"
   ]
  },
  {
   "cell_type": "markdown",
   "metadata": {},
   "source": [
    "$U(\\theta, \\phi, \\lambda) = \\begin{bmatrix}cos(\\frac{\\theta}{2}) & -e^{i\\lambda}sin(\\frac{\\theta}{2}) \\\\ e^{i\\phi}sin(\\frac{\\theta}{2}) & e^{i(\\phi + \\lambda)}cos(\\frac{\\theta}{2}) \\end{bmatrix}$\n",
    "\n",
    "where:\n",
    "\n",
    "$\\theta$ is the angle of the qubit with respect to z axis (0 ≤ θ ≤ π)\n",
    "\n",
    "$\\phi$ and $\\lambda$ are Phase angles (0 ≤ ϕ < 2π, 0 ≤ λ < 2π)"
   ]
  },
  {
   "cell_type": "markdown",
   "metadata": {},
   "source": [
    "### u3(θ, ϕ , λ) = U(θ, ϕ , λ)"
   ]
  },
  {
   "cell_type": "code",
   "execution_count": 1,
   "metadata": {},
   "outputs": [
    {
     "data": {
      "text/latex": [
       "$$\n",
       "\n",
       "\\begin{bmatrix}\n",
       "0 & 0.707(-1 - i)  \\\\\n",
       " i & 0  \\\\\n",
       " \\end{bmatrix}\n",
       "$$"
      ],
      "text/plain": [
       "<IPython.core.display.Latex object>"
      ]
     },
     "execution_count": 1,
     "metadata": {},
     "output_type": "execute_result"
    }
   ],
   "source": [
    "from qiskit import QuantumCircuit, execute, BasicAer\n",
    "from qiskit.visualization import array_to_latex\n",
    "from math import pi\n",
    "\n",
    "qc = QuantumCircuit(1)\n",
    "# qc.u(theta, phi, lambda, index of qubit)\n",
    "qc.u(pi,pi/2,pi/4,0)\n",
    "job = execute(qc, BasicAer.get_backend('unitary_simulator'))\n",
    "array_to_latex(job.result().get_unitary(qc, decimals=3))"
   ]
  },
  {
   "cell_type": "markdown",
   "metadata": {},
   "source": [
    "### u2( ϕ , λ) = u3(π / 2, ϕ , λ)\n",
    "$U2(\\theta, \\phi, \\lambda) = \\begin{bmatrix}1 & -e^{i\\lambda} \\\\ e^{i\\phi} & e^{i(\\phi + \\lambda)} \\end{bmatrix}$"
   ]
  },
  {
   "cell_type": "code",
   "execution_count": 2,
   "metadata": {},
   "outputs": [
    {
     "name": "stderr",
     "output_type": "stream",
     "text": [
      "<ipython-input-2-42aafbc3e0a1>:4: DeprecationWarning: The QuantumCircuit.u2 method is deprecated as of 0.16.0. It will be removed no earlier than 3 months after the release date. You can use the general 1-qubit gate QuantumCircuit.u instead: u2(φ,λ) = u(π/2, φ, λ). Alternatively, you can decompose it interms of QuantumCircuit.p and QuantumCircuit.sx: u2(φ,λ) = p(π/2+φ) sx p(λ-π/2) (1 pulse on hardware).\n",
      "  qc.u2(pi/2,pi/4,0)\n"
     ]
    },
    {
     "data": {
      "text/latex": [
       "$$\n",
       "\n",
       "\\begin{bmatrix}\n",
       "0.707 & \\tfrac{1}{2}(-1 - i)  \\\\\n",
       " 0.707i & \\tfrac{1}{2}(-1 + i)  \\\\\n",
       " \\end{bmatrix}\n",
       "$$"
      ],
      "text/plain": [
       "<IPython.core.display.Latex object>"
      ]
     },
     "execution_count": 2,
     "metadata": {},
     "output_type": "execute_result"
    }
   ],
   "source": [
    "qc = QuantumCircuit(1)\n",
    "# theta = pi/2\n",
    "# qc.u2(phi, lambda, index of qubit)\n",
    "qc.u2(pi/2,pi/4,0)\n",
    "job = execute(qc, BasicAer.get_backend('unitary_simulator'))\n",
    "array_to_latex(job.result().get_unitary(qc, decimals=3))"
   ]
  },
  {
   "cell_type": "markdown",
   "metadata": {},
   "source": [
    "### p(λ) = u1(0, 0, λ) The Phase Gate\n",
    "$$P(\\lambda) =\\begin{bmatrix} 1 & 0  \\\\ 0 & e^{i\\lambda}  \\end{bmatrix}$$"
   ]
  },
  {
   "cell_type": "code",
   "execution_count": 3,
   "metadata": {},
   "outputs": [
    {
     "name": "stderr",
     "output_type": "stream",
     "text": [
      "<ipython-input-3-79c50960b243>:4: DeprecationWarning: The QuantumCircuit.u1 method is deprecated as of 0.16.0. It will be removed no earlier than 3 months after the release date. You should use the QuantumCircuit.p method instead, which acts identically.\n",
      "  qc.u1(pi/2,0) # or qc.p(pi/2, 0)\n"
     ]
    },
    {
     "data": {
      "text/latex": [
       "$$\n",
       "\n",
       "\\begin{bmatrix}\n",
       "1 & 0  \\\\\n",
       " 0 & i  \\\\\n",
       " \\end{bmatrix}\n",
       "$$"
      ],
      "text/plain": [
       "<IPython.core.display.Latex object>"
      ]
     },
     "execution_count": 3,
     "metadata": {},
     "output_type": "execute_result"
    }
   ],
   "source": [
    "qc = QuantumCircuit(1)\n",
    "# theta, phi = 0\n",
    "# qc.u1(lambda, index of qubit)\n",
    "qc.u1(pi/2,0) # or qc.p(pi/2, 0)\n",
    "job = execute(qc, BasicAer.get_backend('unitary_simulator'))\n",
    "array_to_latex(job.result().get_unitary(qc, decimals=3))"
   ]
  },
  {
   "cell_type": "markdown",
   "metadata": {},
   "source": [
    "### I = u0(1)"
   ]
  },
  {
   "cell_type": "code",
   "execution_count": 4,
   "metadata": {},
   "outputs": [
    {
     "data": {
      "text/latex": [
       "$$\n",
       "\n",
       "\\begin{bmatrix}\n",
       "1 & 0  \\\\\n",
       " 0 & 1  \\\\\n",
       " \\end{bmatrix}\n",
       "$$"
      ],
      "text/plain": [
       "<IPython.core.display.Latex object>"
      ]
     },
     "execution_count": 4,
     "metadata": {},
     "output_type": "execute_result"
    }
   ],
   "source": [
    "qc = QuantumCircuit(1)\n",
    "qc.id(0)\n",
    "job = execute(qc, BasicAer.get_backend('unitary_simulator'))\n",
    "array_to_latex(job.result().get_unitary(qc, decimals=3))"
   ]
  },
  {
   "cell_type": "markdown",
   "metadata": {},
   "source": [
    "## Summary\n",
    "#### 1. u3(θ, ϕ , λ) = U(θ, ϕ , λ) ( [exploratory resource](https://pragyakatyayan.medium.com/how-to-find-correct-angle-values-for-parametrized-quantum-u3-gates-and-controlled-u3-gates-using-659c92f46ce7))\n",
    "#### 2. u2( ϕ , λ) = u3(π / 2, ϕ , λ)\n",
    "#### 3. p(λ) = u1(0, 0, λ) \n",
    "#### 4. I = u0(1)"
   ]
  },
  {
   "cell_type": "markdown",
   "metadata": {},
   "source": [
    "## Pauli Gates\n",
    "180 degree rotation about X, Z and Y axes respectively"
   ]
  },
  {
   "cell_type": "markdown",
   "metadata": {},
   "source": [
    "### X = u3(π, 0, π)"
   ]
  },
  {
   "cell_type": "code",
   "execution_count": 5,
   "metadata": {},
   "outputs": [
    {
     "name": "stderr",
     "output_type": "stream",
     "text": [
      "<ipython-input-5-08ec626476f1>:3: DeprecationWarning: The QuantumCircuit.u3 method is deprecated as of 0.16.0. It will be removed no earlier than 3 months after the release date. You should use QuantumCircuit.u instead, which acts identically. Alternatively, you can decompose u3 in terms of QuantumCircuit.p and QuantumCircuit.sx: u3(ϴ,φ,λ) = p(φ+π) sx p(ϴ+π) sx p(λ) (2 pulses on hardware).\n",
      "  qc.u3(pi,0,pi,0) # or qc.u(pi,0,pi,0)\n"
     ]
    },
    {
     "data": {
      "text/latex": [
       "$$\n",
       "\n",
       "\\begin{bmatrix}\n",
       "0 & 1  \\\\\n",
       " 1 & 0  \\\\\n",
       " \\end{bmatrix}\n",
       "$$"
      ],
      "text/plain": [
       "<IPython.core.display.Latex object>"
      ]
     },
     "execution_count": 5,
     "metadata": {},
     "output_type": "execute_result"
    }
   ],
   "source": [
    "qc = QuantumCircuit(1)\n",
    "# qc.u(theta, phi, lambda, index of qubit)\n",
    "qc.u3(pi,0,pi,0) # or qc.u(pi,0,pi,0)\n",
    "job = execute(qc, BasicAer.get_backend('unitary_simulator'))\n",
    "array_to_latex(job.result().get_unitary(qc, decimals=3))"
   ]
  },
  {
   "cell_type": "markdown",
   "metadata": {},
   "source": [
    "### Z = u1(π)"
   ]
  },
  {
   "cell_type": "code",
   "execution_count": 6,
   "metadata": {},
   "outputs": [
    {
     "data": {
      "text/latex": [
       "$$\n",
       "\n",
       "\\begin{bmatrix}\n",
       "1 & 0  \\\\\n",
       " 0 & -1  \\\\\n",
       " \\end{bmatrix}\n",
       "$$"
      ],
      "text/plain": [
       "<IPython.core.display.Latex object>"
      ]
     },
     "execution_count": 6,
     "metadata": {},
     "output_type": "execute_result"
    }
   ],
   "source": [
    "qc = QuantumCircuit(1)\n",
    "qc.u1(pi,0) # or qc.p(pi,0)\n",
    "job = execute(qc, BasicAer.get_backend('unitary_simulator'))\n",
    "array_to_latex(job.result().get_unitary(qc, decimals=3))"
   ]
  },
  {
   "cell_type": "markdown",
   "metadata": {},
   "source": [
    "### Y = u3(π, π / 2, π / 2)"
   ]
  },
  {
   "cell_type": "code",
   "execution_count": 7,
   "metadata": {},
   "outputs": [
    {
     "data": {
      "text/latex": [
       "$$\n",
       "\n",
       "\\begin{bmatrix}\n",
       "0 & -i  \\\\\n",
       " i & 0  \\\\\n",
       " \\end{bmatrix}\n",
       "$$"
      ],
      "text/plain": [
       "<IPython.core.display.Latex object>"
      ]
     },
     "execution_count": 7,
     "metadata": {},
     "output_type": "execute_result"
    }
   ],
   "source": [
    "qc = QuantumCircuit(1)\n",
    "qc.u(pi,pi/2,pi/2,0) # or qc.u3(pi,pi/2,pi/2,0)\n",
    "job = execute(qc, BasicAer.get_backend('unitary_simulator'))\n",
    "array_to_latex(job.result().get_unitary(qc, decimals=3))"
   ]
  },
  {
   "cell_type": "markdown",
   "metadata": {},
   "source": [
    "## Clifford gates\n",
    "meaning"
   ]
  },
  {
   "cell_type": "markdown",
   "metadata": {},
   "source": [
    "### H = u2(0, π)"
   ]
  },
  {
   "cell_type": "code",
   "execution_count": 8,
   "metadata": {},
   "outputs": [
    {
     "data": {
      "text/latex": [
       "$$\n",
       "\n",
       "\\begin{bmatrix}\n",
       "0.707 & 0.707  \\\\\n",
       " 0.707 & -0.707  \\\\\n",
       " \\end{bmatrix}\n",
       "$$"
      ],
      "text/plain": [
       "<IPython.core.display.Latex object>"
      ]
     },
     "execution_count": 8,
     "metadata": {},
     "output_type": "execute_result"
    }
   ],
   "source": [
    "qc = QuantumCircuit(1)\n",
    "qc.u2(0,pi, 0)\n",
    "job = execute(qc, BasicAer.get_backend('unitary_simulator'))\n",
    "array_to_latex(job.result().get_unitary(qc, decimals=3))"
   ]
  },
  {
   "cell_type": "markdown",
   "metadata": {},
   "source": [
    "### S = u1(π / 2)"
   ]
  },
  {
   "cell_type": "code",
   "execution_count": 9,
   "metadata": {},
   "outputs": [
    {
     "data": {
      "text/latex": [
       "$$\n",
       "\n",
       "\\begin{bmatrix}\n",
       "1 & 0  \\\\\n",
       " 0 & i  \\\\\n",
       " \\end{bmatrix}\n",
       "$$"
      ],
      "text/plain": [
       "<IPython.core.display.Latex object>"
      ]
     },
     "execution_count": 9,
     "metadata": {},
     "output_type": "execute_result"
    }
   ],
   "source": [
    "qc = QuantumCircuit(1)\n",
    "qc.u1(pi/2, 0) # or qc.p(pi/2,0)\n",
    "job = execute(qc, BasicAer.get_backend('unitary_simulator'))\n",
    "array_to_latex(job.result().get_unitary(qc, decimals=3))"
   ]
  },
  {
   "cell_type": "markdown",
   "metadata": {},
   "source": [
    "### S$^{\\dagger}$ = u1( − π / 2)"
   ]
  },
  {
   "cell_type": "code",
   "execution_count": 10,
   "metadata": {},
   "outputs": [
    {
     "data": {
      "text/latex": [
       "$$\n",
       "\n",
       "\\begin{bmatrix}\n",
       "1 & 0  \\\\\n",
       " 0 & -i  \\\\\n",
       " \\end{bmatrix}\n",
       "$$"
      ],
      "text/plain": [
       "<IPython.core.display.Latex object>"
      ]
     },
     "execution_count": 10,
     "metadata": {},
     "output_type": "execute_result"
    }
   ],
   "source": [
    "qc = QuantumCircuit(1)\n",
    "qc.u1(-pi/2, 0) # or qc.p(-pi/2,0) or use sdg gate\n",
    "job = execute(qc, BasicAer.get_backend('unitary_simulator'))\n",
    "array_to_latex(job.result().get_unitary(qc, decimals=3))"
   ]
  },
  {
   "cell_type": "markdown",
   "metadata": {},
   "source": [
    "## C3 gates\n",
    "meaning"
   ]
  },
  {
   "cell_type": "markdown",
   "metadata": {},
   "source": [
    "### T = u1(π / 4)"
   ]
  },
  {
   "cell_type": "code",
   "execution_count": 11,
   "metadata": {},
   "outputs": [
    {
     "data": {
      "text/latex": [
       "$$\n",
       "\n",
       "\\begin{bmatrix}\n",
       "1 & 0  \\\\\n",
       " 0 & 0.707(1 + i)  \\\\\n",
       " \\end{bmatrix}\n",
       "$$"
      ],
      "text/plain": [
       "<IPython.core.display.Latex object>"
      ]
     },
     "execution_count": 11,
     "metadata": {},
     "output_type": "execute_result"
    }
   ],
   "source": [
    "qc = QuantumCircuit(1)\n",
    "qc.u1(pi/4, 0) # or qc.p(pi/4,0)\n",
    "job = execute(qc, BasicAer.get_backend('unitary_simulator'))\n",
    "array_to_latex(job.result().get_unitary(qc, decimals=3))"
   ]
  },
  {
   "cell_type": "markdown",
   "metadata": {},
   "source": [
    "### T = u1(-π / 4)"
   ]
  },
  {
   "cell_type": "code",
   "execution_count": 12,
   "metadata": {},
   "outputs": [
    {
     "data": {
      "text/latex": [
       "$$\n",
       "\n",
       "\\begin{bmatrix}\n",
       "1 & 0  \\\\\n",
       " 0 & 0.707(1 - i)  \\\\\n",
       " \\end{bmatrix}\n",
       "$$"
      ],
      "text/plain": [
       "<IPython.core.display.Latex object>"
      ]
     },
     "execution_count": 12,
     "metadata": {},
     "output_type": "execute_result"
    }
   ],
   "source": [
    "qc = QuantumCircuit(1)\n",
    "qc.u1(-pi/4, 0) # or qc.p(-pi/4,0)\n",
    "job = execute(qc, BasicAer.get_backend('unitary_simulator'))\n",
    "array_to_latex(job.result().get_unitary(qc, decimals=3))"
   ]
  },
  {
   "cell_type": "markdown",
   "metadata": {},
   "source": [
    "## Standard Rotations"
   ]
  },
  {
   "cell_type": "markdown",
   "metadata": {},
   "source": [
    "You can put any value of the variable angle and verify"
   ]
  },
  {
   "cell_type": "markdown",
   "metadata": {},
   "source": [
    "### Rx = u3(θ, − π / 2, π / 2)\n",
    "$$Rx(\\theta) =\\begin{bmatrix} cos(\\frac{\\theta}{2}) & -isin(\\frac{\\theta}{2})   \\\\ -isin(\\frac{\\theta}{2}) & cos(\\frac{\\theta}{2}) \\end{bmatrix}$$"
   ]
  },
  {
   "cell_type": "markdown",
   "metadata": {},
   "source": [
    "### Rz = u1( ϕ )\n",
    "$$Ry(\\theta) =\\begin{bmatrix} e^{\\frac{-i\\phi}{2}} & 0   \\\\ 0 & e^{\\frac{i\\phi}{2}} \\end{bmatrix}$$"
   ]
  },
  {
   "cell_type": "markdown",
   "metadata": {},
   "source": [
    "### Ry = u3(θ, 0, 0)\n",
    "$$Ry(\\theta) =\\begin{bmatrix} cos(\\frac{\\theta}{2}) & -sin(\\frac{\\theta}{2})   \\\\ sin(\\frac{\\theta}{2}) & cos(\\frac{\\theta}{2}) \\end{bmatrix}$$"
   ]
  },
  {
   "cell_type": "markdown",
   "metadata": {},
   "source": [
    "## Fidelity"
   ]
  },
  {
   "cell_type": "markdown",
   "metadata": {},
   "source": [
    "#### Process or Gate fidelity compares how \"close\" two gates (or operations) are to each other. It measures if operation of 2 different comination of gates are equivalent or not, inclusive of the noise\n",
    "#### If fidelity value from average_gate_fidelity and process_fidelity is 1 or close to it, then the relation is equivalent."
   ]
  },
  {
   "cell_type": "markdown",
   "metadata": {},
   "source": [
    "## Universality: H, S, T Gates\n",
    "#### All gates can be decomposed into a comination of the universal gates"
   ]
  },
  {
   "cell_type": "code",
   "execution_count": 13,
   "metadata": {},
   "outputs": [],
   "source": [
    "from qiskit.quantum_info.operators import Operator\n",
    "from qiskit.quantum_info import average_gate_fidelity, process_fidelity, state_fidelity\n",
    "from qiskit.circuit.library import SGate, ZGate, HGate, XGate, TGate, SdgGate, YGate, RYGate, RZGate"
   ]
  },
  {
   "cell_type": "markdown",
   "metadata": {},
   "source": [
    "### 1. Z = SS = $S^{2}$\n",
    "$$SS =\\begin{bmatrix} 1 & 0   \\\\ 0 & i \\end{bmatrix}X\\begin{bmatrix} 1 & 0   \\\\ 0 & i \\end{bmatrix} = \\begin{bmatrix} 1 & 0   \\\\ 0 & -1 \\end{bmatrix} = Z$$"
   ]
  },
  {
   "cell_type": "code",
   "execution_count": 14,
   "metadata": {
    "scrolled": true
   },
   "outputs": [
    {
     "name": "stdout",
     "output_type": "stream",
     "text": [
      "Average Gate Fidelity: 1.0\n",
      "Process Fidelity: 1.0\n"
     ]
    }
   ],
   "source": [
    "gate1 = Operator(SGate())**2\n",
    "gate2 = Operator(ZGate())\n",
    "print('Average Gate Fidelity: {}'.format(average_gate_fidelity(gate1, gate2)))\n",
    "print('Process Fidelity: {}'.format(process_fidelity(gate1, gate2)))"
   ]
  },
  {
   "cell_type": "markdown",
   "metadata": {},
   "source": [
    "### 2. S = TT = $T^2$\n",
    "$$TT = \\begin{bmatrix} 1 & 0   \\\\ 0 & e^{\\frac{i\\pi}{4}} \\end{bmatrix} X \\begin{bmatrix} 1 & 0   \\\\ 0 & e^{\\frac{i\\pi}{4}} \\end{bmatrix} =\\begin{bmatrix} 1 & 0   \\\\ 0 & i \\end{bmatrix} = S$$"
   ]
  },
  {
   "cell_type": "code",
   "execution_count": 15,
   "metadata": {},
   "outputs": [
    {
     "name": "stdout",
     "output_type": "stream",
     "text": [
      "Average Gate Fidelity: 0.9999999999999999\n",
      "Process Fidelity: 0.9999999999999998\n"
     ]
    }
   ],
   "source": [
    "gate1 = Operator(TGate())**2\n",
    "gate2 = Operator(SGate())\n",
    "print('Average Gate Fidelity: {}'.format(average_gate_fidelity(gate1, gate2)))\n",
    "print('Process Fidelity: {}'.format(process_fidelity(gate1, gate2)))"
   ]
  },
  {
   "cell_type": "markdown",
   "metadata": {},
   "source": [
    "### 3. Z = TTTT = $T^4$"
   ]
  },
  {
   "cell_type": "code",
   "execution_count": 16,
   "metadata": {},
   "outputs": [
    {
     "name": "stdout",
     "output_type": "stream",
     "text": [
      "Average Gate Fidelity: 0.9999999999999997\n",
      "Process Fidelity: 0.9999999999999996\n"
     ]
    }
   ],
   "source": [
    "gate1 = Operator(TGate())**4\n",
    "gate2 = Operator(ZGate())\n",
    "print('Average Gate Fidelity: {}'.format(average_gate_fidelity(gate1, gate2)))\n",
    "print('Process Fidelity: {}'.format(process_fidelity(gate1, gate2)))"
   ]
  },
  {
   "cell_type": "markdown",
   "metadata": {},
   "source": [
    "### 4. X = HZH\n",
    "$$HZH = \\frac{1}{\\sqrt{2}}\\begin{bmatrix} 1 & 1   \\\\ 1 & -1 \\end{bmatrix}X\\begin{bmatrix} 1 & 0   \\\\ 0 & -1 \\end{bmatrix}X\\frac{1}{\\sqrt{2}}\\begin{bmatrix} 1 & 1   \\\\ 1 & -1 \\end{bmatrix} = \\begin{bmatrix} 0 & 1   \\\\ 1 & 0\\end{bmatrix} = X$$"
   ]
  },
  {
   "cell_type": "code",
   "execution_count": 17,
   "metadata": {},
   "outputs": [
    {
     "name": "stdout",
     "output_type": "stream",
     "text": [
      "Average Gate Fidelity: 0.9999999999999997\n",
      "Process Fidelity: 0.9999999999999996\n"
     ]
    },
    {
     "name": "stderr",
     "output_type": "stream",
     "text": [
      "<ipython-input-17-f5e3a6632f0b>:1: DeprecationWarning: Using the `__mul__` operator `A * B` as shorthand for `A.dot(B)` is deprecated as of version 0.17.0 and will be  removed no earlier than 3 months after the release date. As an alternative, use the compose operator `B & A` in place of `A * B` as a replacement.\n",
      "  gate1 = Operator(HGate())*Operator(ZGate())*Operator(HGate())\n"
     ]
    }
   ],
   "source": [
    "gate1 = Operator(HGate())*Operator(ZGate())*Operator(HGate())\n",
    "gate2 = Operator(XGate())\n",
    "print('Average Gate Fidelity: {}'.format(average_gate_fidelity(gate1, gate2)))\n",
    "print('Process Fidelity: {}'.format(process_fidelity(gate1, gate2)))"
   ]
  },
  {
   "cell_type": "markdown",
   "metadata": {},
   "source": [
    "### 5. X = HSSH\n",
    "$$HSSH = \\frac{1}{\\sqrt{2}}\\begin{bmatrix} 1 & 1   \\\\ 1 & -1 \\end{bmatrix}X\\begin{bmatrix} 1 & 0   \\\\ 0 & i \\end{bmatrix}X\\begin{bmatrix} 1 & 0   \\\\ 0 & i \\end{bmatrix}X\\frac{1}{\\sqrt{2}}\\begin{bmatrix} 1 & 1   \\\\ 1 & -1 \\end{bmatrix} = \\begin{bmatrix} 0 & 1   \\\\ 1 & 0\\end{bmatrix} = X$$\n",
    "\n",
    "#### Further it can decompose to:\n",
    "#### 6. X = HTTTTH"
   ]
  },
  {
   "cell_type": "code",
   "execution_count": 18,
   "metadata": {},
   "outputs": [
    {
     "name": "stdout",
     "output_type": "stream",
     "text": [
      "Average Gate Fidelity: 0.9999999999999997\n",
      "Process Fidelity: 0.9999999999999996\n"
     ]
    }
   ],
   "source": [
    "gate1 = Operator(HGate())*(Operator(SGate())**2)*Operator(HGate())\n",
    "gate2 = Operator(XGate())\n",
    "print('Average Gate Fidelity: {}'.format(average_gate_fidelity(gate1, gate2)))\n",
    "print('Process Fidelity: {}'.format(process_fidelity(gate1, gate2)))"
   ]
  },
  {
   "cell_type": "markdown",
   "metadata": {},
   "source": [
    "### 7. Y = SXS'\n",
    "$$SXS' = \\begin{bmatrix} 1 & 0   \\\\ 0 & i \\end{bmatrix}X\\begin{bmatrix} 0 & 1   \\\\ 1 & 0\\end{bmatrix}X\\begin{bmatrix} 1 & 0   \\\\ 0 & -i \\end{bmatrix} = \\begin{bmatrix} 0 & -i   \\\\ i & 0 \\end{bmatrix} = Y$$\n",
    "\n",
    "#### Further it can decompose to:\n",
    "#### 8. Y = SHSSHS'\n",
    "#### 9. Y = SHTTTTHS'"
   ]
  },
  {
   "cell_type": "code",
   "execution_count": 19,
   "metadata": {},
   "outputs": [
    {
     "name": "stdout",
     "output_type": "stream",
     "text": [
      "Average Gate Fidelity: 1.0\n",
      "Process Fidelity: 1.0\n"
     ]
    }
   ],
   "source": [
    "gate1 = Operator(SGate())*Operator(XGate())*Operator(SdgGate())\n",
    "gate2 = Operator(YGate())\n",
    "print('Average Gate Fidelity: {}'.format(average_gate_fidelity(gate1, gate2)))\n",
    "print('Process Fidelity: {}'.format(process_fidelity(gate1, gate2)))"
   ]
  },
  {
   "cell_type": "markdown",
   "metadata": {},
   "source": [
    "## Pauli Gates composed from the Universal Gates as\n",
    "### Z = TTTT\n",
    "### X = HTTTTH\n",
    "### Y = SHTTTTHS'"
   ]
  },
  {
   "cell_type": "markdown",
   "metadata": {},
   "source": [
    "## Other Relations"
   ]
  },
  {
   "cell_type": "markdown",
   "metadata": {},
   "source": [
    "### 10. Z = HXH\n",
    "$$HXH = \\frac{1}{\\sqrt{2}}\\begin{bmatrix} 1 & 1   \\\\ 1 & -1 \\end{bmatrix}X\\begin{bmatrix} 0 & 1   \\\\ 1 & 0 \\end{bmatrix}X\\frac{1}{\\sqrt{2}}\\begin{bmatrix} 1 & 1   \\\\ 1 & -1 \\end{bmatrix} = \\begin{bmatrix} 1 & 0   \\\\ 0 & -1 \\end{bmatrix} = Z$$"
   ]
  },
  {
   "cell_type": "code",
   "execution_count": 20,
   "metadata": {},
   "outputs": [
    {
     "name": "stdout",
     "output_type": "stream",
     "text": [
      "Average Gate Fidelity: 0.9999999999999997\n",
      "Process Fidelity: 0.9999999999999996\n"
     ]
    }
   ],
   "source": [
    "gate1 = Operator(HGate())*Operator(XGate())*Operator(HGate())\n",
    "gate2 = Operator(ZGate())\n",
    "print('Average Gate Fidelity: {}'.format(average_gate_fidelity(gate1, gate2)))\n",
    "print('Process Fidelity: {}'.format(process_fidelity(gate1, gate2)))"
   ]
  },
  {
   "cell_type": "markdown",
   "metadata": {},
   "source": [
    "### 11. H = $Z(Y^{-\\frac{1}{2}})$"
   ]
  },
  {
   "cell_type": "code",
   "execution_count": 21,
   "metadata": {},
   "outputs": [
    {
     "name": "stdout",
     "output_type": "stream",
     "text": [
      "Average Gate Fidelity: 0.9999999999999999\n",
      "Process Fidelity: 0.9999999999999998\n"
     ]
    }
   ],
   "source": [
    "gate1 = Operator(ZGate())*(Operator(RYGate(-pi/2)))\n",
    "gate2 = Operator(HGate())\n",
    "print('Average Gate Fidelity: {}'.format(average_gate_fidelity(gate1, gate2)))\n",
    "print('Process Fidelity: {}'.format(process_fidelity(gate1, gate2)))"
   ]
  },
  {
   "cell_type": "markdown",
   "metadata": {},
   "source": [
    "### 12. H = $X(Y^{\\frac{1}{2}})$"
   ]
  },
  {
   "cell_type": "code",
   "execution_count": 22,
   "metadata": {},
   "outputs": [
    {
     "name": "stdout",
     "output_type": "stream",
     "text": [
      "Average Gate Fidelity: 0.9999999999999999\n",
      "Process Fidelity: 0.9999999999999998\n"
     ]
    }
   ],
   "source": [
    "gate1 = Operator(XGate())*(Operator(RYGate(pi/2)))\n",
    "gate2 = Operator(HGate())\n",
    "print('Average Gate Fidelity: {}'.format(average_gate_fidelity(gate1, gate2)))\n",
    "print('Process Fidelity: {}'.format(process_fidelity(gate1, gate2)))"
   ]
  },
  {
   "cell_type": "markdown",
   "metadata": {},
   "source": [
    "## Proving that global phase is ignorable\n",
    "From Phase Gates we established that $P(\\theta) = e^{\\frac{i\\theta}{2}}Rz(\\theta)$\n",
    "\n",
    "Let's take $\\theta = \\frac{\\pi}{2}$ and verify using fidelity\n",
    "\n",
    "#### Using State, Process and Gate Fidelity\n",
    "We already know what process and gate fidelity are.\n",
    "\n",
    "State Fidelity measures closeness between two quantum states (statevectors or density matrix objects)"
   ]
  },
  {
   "cell_type": "code",
   "execution_count": 23,
   "metadata": {},
   "outputs": [
    {
     "name": "stdout",
     "output_type": "stream",
     "text": [
      "State Fidelity: 1.0\n"
     ]
    }
   ],
   "source": [
    "from qiskit import QuantumCircuit, Aer, execute\n",
    "\n",
    "# applying p gate\n",
    "qc1 = QuantumCircuit(1)\n",
    "qc1.p(pi/2,0)\n",
    "\n",
    "# applying Rz Gate\n",
    "qc2 = QuantumCircuit(1)\n",
    "qc2.rz(pi/2,0)\n",
    "\n",
    "backend = Aer.get_backend('statevector_simulator')\n",
    "\n",
    "sv1 = execute(qc1, backend).result().get_statevector(qc1)\n",
    "sv2 = execute(qc2, backend).result().get_statevector(qc2)\n",
    "\n",
    "# State Fidelity\n",
    "# measures closeness between two quantum states (statevectors or density matrix objects)\n",
    "\n",
    "print('State Fidelity: {}'.format(state_fidelity(sv1, sv2)))"
   ]
  },
  {
   "cell_type": "code",
   "execution_count": 24,
   "metadata": {},
   "outputs": [
    {
     "name": "stdout",
     "output_type": "stream",
     "text": [
      "Average Gate Fidelity: 1.0\n",
      "Process Fidelity: 1.0\n",
      "Therefore, the global phase is ignorable as fidelity suggests equality\n"
     ]
    }
   ],
   "source": [
    "from math import e\n",
    "gate2 = Operator(RZGate(pi/2))\n",
    "gate1 = (e**(1.j*pi/4))*gate2\n",
    "\n",
    "print('Average Gate Fidelity: {}'.format(average_gate_fidelity(gate1, gate2)))\n",
    "print('Process Fidelity: {}'.format(process_fidelity(gate1, gate2)))\n",
    "print(\"Therefore, the global phase is ignorable as fidelity suggests equality\")"
   ]
  },
  {
   "cell_type": "code",
   "execution_count": 25,
   "metadata": {},
   "outputs": [
    {
     "name": "stdout",
     "output_type": "stream",
     "text": [
      "P Gate\n"
     ]
    },
    {
     "data": {
      "text/latex": [
       "$$\n",
       "\n",
       "\\begin{bmatrix}\n",
       "1 & 0  \\\\\n",
       " 0 & i  \\\\\n",
       " \\end{bmatrix}\n",
       "$$"
      ],
      "text/plain": [
       "<IPython.core.display.Latex object>"
      ]
     },
     "metadata": {},
     "output_type": "display_data"
    },
    {
     "name": "stdout",
     "output_type": "stream",
     "text": [
      "Rz Gate\n"
     ]
    },
    {
     "data": {
      "text/latex": [
       "$$\n",
       "\n",
       "\\begin{bmatrix}\n",
       "\\tfrac{1}{\\sqrt{2}}(1 - i) & 0  \\\\\n",
       " 0 & \\tfrac{1}{\\sqrt{2}}(1 + i)  \\\\\n",
       " \\end{bmatrix}\n",
       "$$"
      ],
      "text/plain": [
       "<IPython.core.display.Latex object>"
      ]
     },
     "metadata": {},
     "output_type": "display_data"
    },
    {
     "name": "stdout",
     "output_type": "stream",
     "text": [
      "Average Gate Fidelity: 0.9999999999999999\n",
      "Process Fidelity: 0.9999999999999998\n"
     ]
    }
   ],
   "source": [
    "from qiskit.visualization import array_to_latex\n",
    "gate1 = Operator(qc1)\n",
    "print('P Gate')\n",
    "display(array_to_latex(gate1.data))\n",
    "gate2 = Operator(qc2)\n",
    "print('Rz Gate')\n",
    "display(array_to_latex(gate2.data))\n",
    "\n",
    "print('Average Gate Fidelity: {}'.format(average_gate_fidelity(gate1, gate2)))\n",
    "print('Process Fidelity: {}'.format(process_fidelity(gate1, gate2)))"
   ]
  }
 ],
 "metadata": {
  "kernelspec": {
   "display_name": "Qiskit v0.34.1 (ipykernel)",
   "language": "python",
   "name": "python3"
  },
  "language_info": {
   "codemirror_mode": {
    "name": "ipython",
    "version": 3
   },
   "file_extension": ".py",
   "mimetype": "text/x-python",
   "name": "python",
   "nbconvert_exporter": "python",
   "pygments_lexer": "ipython3",
   "version": "3.8.12"
  },
  "widgets": {
   "application/vnd.jupyter.widget-state+json": {
    "state": {},
    "version_major": 2,
    "version_minor": 0
   }
  }
 },
 "nbformat": 4,
 "nbformat_minor": 4
}
