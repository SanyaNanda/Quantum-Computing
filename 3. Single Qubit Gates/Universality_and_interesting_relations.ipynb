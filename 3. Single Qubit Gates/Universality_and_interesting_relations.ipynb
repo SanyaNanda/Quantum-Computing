{
 "cells": [
  {
   "cell_type": "markdown",
   "metadata": {},
   "source": [
    "# Single Qubit Gates"
   ]
  },
  {
   "cell_type": "markdown",
   "metadata": {},
   "source": [
    "We have studied many single qubits till now, namely: Pauli X, Y and Z, H, Rx, Ry, Rz, S, T and P Gates.\n",
    "\n",
    "If we look deeper every gate is simply a rotation on the bloch sphere. Our initial state gets rotated to a new output state on the application of a Gate. We also know that we can represent any qubit on the bloch sphere by merely specifying $\\theta$ and $\\phi$ angles. So now we will be looking at exactly this, a universal gate U, whichcan be used to create any of the single qubit gates mentioned earlier and more."
   ]
  },
  {
   "cell_type": "markdown",
   "metadata": {},
   "source": [
    "## U Gate"
   ]
  },
  {
   "cell_type": "markdown",
   "metadata": {},
   "source": [
    "$U(\\theta, \\phi, \\lambda) = \\begin{bmatrix}cos(\\frac{\\theta}{2}) & -e^{i\\lambda}sin(\\frac{\\theta}{2}) \\\\ e^{i\\phi}sin(\\frac{\\theta}{2}) & e^{i(\\phi + \\lambda)}cos(\\frac{\\theta}{2}) \\end{bmatrix}$\n",
    "\n",
    "where:\n",
    "\n",
    "$\\theta$ is the angle of the qubit with respect to z axis\n",
    "\n",
    "$\\phi$ is the angle of the qubit with respect to x axis\n",
    "\n",
    "$\\lambda$ is the angle of the qubit with respect to y axis"
   ]
  },
  {
   "cell_type": "code",
   "execution_count": null,
   "metadata": {},
   "outputs": [],
   "source": []
  },
  {
   "cell_type": "code",
   "execution_count": null,
   "metadata": {},
   "outputs": [],
   "source": []
  },
  {
   "cell_type": "markdown",
   "metadata": {},
   "source": [
    "## Universality\n",
    "### H, S, T Gates"
   ]
  },
  {
   "cell_type": "code",
   "execution_count": null,
   "metadata": {},
   "outputs": [],
   "source": []
  },
  {
   "cell_type": "code",
   "execution_count": null,
   "metadata": {},
   "outputs": [],
   "source": []
  },
  {
   "cell_type": "markdown",
   "metadata": {},
   "source": [
    "## Fidelity"
   ]
  },
  {
   "cell_type": "code",
   "execution_count": null,
   "metadata": {},
   "outputs": [],
   "source": []
  }
 ],
 "metadata": {
  "kernelspec": {
   "display_name": "Python 3",
   "language": "python",
   "name": "python3"
  },
  "language_info": {
   "codemirror_mode": {
    "name": "ipython",
    "version": 3
   },
   "file_extension": ".py",
   "mimetype": "text/x-python",
   "name": "python",
   "nbconvert_exporter": "python",
   "pygments_lexer": "ipython3",
   "version": "3.8.10"
  }
 },
 "nbformat": 4,
 "nbformat_minor": 4
}
