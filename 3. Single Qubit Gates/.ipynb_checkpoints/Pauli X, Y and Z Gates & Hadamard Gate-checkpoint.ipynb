{
 "cells": [
  {
   "cell_type": "markdown",
   "metadata": {},
   "source": [
    "# Single Qubit Gates"
   ]
  },
  {
   "cell_type": "markdown",
   "metadata": {},
   "source": [
    "Single Qubit Gates can transform any qubit to a new quantum state, the same can visualised as a rotation on the bloch sphere of the initial state to a new state.\n",
    "\n",
    "We know that a quantum system can be represented as a qubit using the Dirac Notation (Bra-Ket Notation), which essentially means that the qubit can be represented as a ket (2 element column matrix) or a bra (2 element row matrix).\n",
    "\n",
    "So to transform a quantum state to another, we need to multiply a matrix to our initial state and that's what application of a single qubit gate does. \n",
    "\n",
    "Single qubit gates are 2X2 matrices which when applied or multiplied to the initial statevector, then we get a new transformed statevector.\n",
    "\n",
    "If we have more than one qubit, then size of the statevector and the Gate changes (Details on this in Multi Qubit Gate section)"
   ]
  },
  {
   "cell_type": "code",
   "execution_count": 1,
   "metadata": {},
   "outputs": [],
   "source": [
    "# importing dependencies\n",
    "from qiskit import QuantumCircuit, ClassicalRegister, QuantumRegister, transpile\n",
    "from qiskit.tools.visualization import circuit_drawer\n",
    "from qiskit.quantum_info import state_fidelity\n",
    "from qiskit import BasicAer\n",
    "from qiskit import Aer, execute, visualization\n",
    "import matplotlib.pyplot as plt\n",
    "import numpy as np\n",
    "from math import pi\n",
    "from IPython.display import Video"
   ]
  },
  {
   "cell_type": "markdown",
   "metadata": {},
   "source": [
    "## Pauli X Gate"
   ]
  },
  {
   "cell_type": "markdown",
   "metadata": {},
   "source": [
    "<center><b>Pauli X Gate</b></center>\n",
    "<center><b>180 degree rotation about x axis, also known as quantum bit flip gate</b></center>\n",
    "$$\\newcommand{\\ket}[1]{|#1\\rangle}$$\n",
    "$$\\newcommand{\\bra}[1]{\\langle#1|}$$\n",
    "<center><b> X Gate matrix</b></center>\n",
    "$$X =\\begin{bmatrix} 0 & 1   \\\\ 1 & 0 \\end{bmatrix}$$\n",
    "<br/>\n",
    "<center><b>State Transformation</b></center>\n",
    "$$X\\ket{0} = \\ket{1}$$\n",
    "$$X\\ket{1} = \\ket{0}$$\n",
    "<br/>\n",
    "<center><b>Applying X gate on |0></b></center>\n",
    "$$X\\ket{0} = \\begin{bmatrix} 0 & 1   \\\\ 1 & 0 \\end{bmatrix}\\begin{bmatrix} 1 \\\\ 0\\end{bmatrix}$$\n",
    "\n",
    "$$X\\ket{0} = \\begin{bmatrix} 0 \\\\ 1\\end{bmatrix}$$\n",
    "\n",
    "$$X\\ket{0} = \\ket{1}$$\n",
    "<br/>\n",
    "<center><b>Applying X gate on |1></b></center>\n",
    "$$X\\ket{1} = \\begin{bmatrix} 0 & 1   \\\\ 1 & 0 \\end{bmatrix}\\begin{bmatrix} 0 \\\\ 1\\end{bmatrix}$$\n",
    "\n",
    "$$X\\ket{1} = \\begin{bmatrix} 1 \\\\ 0\\end{bmatrix}$$\n",
    "\n",
    "$$X\\ket{1} = \\ket{0}$$\n",
    "<br/>\n",
    "<center><b>Quantum Bit Flip</b></center>\n",
    "$$X\\ket{0} = \\ket{1}$$\n",
    "$$X\\ket{1} = \\ket{0}$$\n",
    "<br/>"
   ]
  },
  {
   "cell_type": "markdown",
   "metadata": {},
   "source": [
    "![SegmentLocal](bloch_transformations/x_gate.gif \"segment\")"
   ]
  },
  {
   "cell_type": "code",
   "execution_count": 2,
   "metadata": {
    "scrolled": true
   },
   "outputs": [
    {
     "data": {
      "image/png": "[encoded data removed]",
      "text/plain": [
       "<Figure size 146.507x84.28 with 1 Axes>"
      ]
     },
     "metadata": {},
     "output_type": "display_data"
    }
   ],
   "source": [
    "# x gate in quantum circuit\n",
    "q = QuantumRegister(1)\n",
    "qc = QuantumCircuit(q)\n",
    "qc.x(q)\n",
    "display(qc.draw(output=\"mpl\"))"
   ]
  },
  {
   "cell_type": "code",
   "execution_count": 3,
   "metadata": {},
   "outputs": [],
   "source": [
    "# executing the circuit\n",
    "backend = Aer.get_backend('statevector_simulator')\n",
    "b = BasicAer.get_backend('unitary_simulator')\n",
    "job = execute(qc, backend)\n",
    "result = job.result()"
   ]
  },
  {
   "cell_type": "code",
   "execution_count": 4,
   "metadata": {},
   "outputs": [
    {
     "data": {
      "image/png": "[encoded data removed]",
      "text/plain": [
       "<Figure size 504x360 with 1 Axes>"
      ]
     },
     "metadata": {},
     "output_type": "display_data"
    }
   ],
   "source": [
    "# probability of output state\n",
    "counts = result.get_counts(qc)\n",
    "graph = visualization.plot_histogram(counts)\n",
    "display(graph)"
   ]
  },
  {
   "cell_type": "markdown",
   "metadata": {},
   "source": [
    "#### Application by example"
   ]
  },
  {
   "cell_type": "markdown",
   "metadata": {},
   "source": [
    "#### Example 1\n",
    "<center><b>Applying X gate on |0></b></center>\n",
    "$$X\\ket{0} = \\begin{bmatrix} 0 & 1   \\\\ 1 & 0 \\end{bmatrix}\\begin{bmatrix} 1 \\\\ 0\\end{bmatrix}$$\n",
    "\n",
    "$$X\\ket{0} = \\begin{bmatrix} 0 \\\\ 1\\end{bmatrix}$$\n",
    "\n",
    "$$X\\ket{0} = \\ket{1}$$\n",
    "<br/>"
   ]
  },
  {
   "cell_type": "code",
   "execution_count": 5,
   "metadata": {
    "scrolled": true
   },
   "outputs": [
    {
     "name": "stdout",
     "output_type": "stream",
     "text": [
      "|0> \n",
      "[[1.+0.j]\n",
      " [0.+0.j]]\n",
      "\n",
      "Pauli X Gate \n",
      "[[0.+0.j 1.+0.j]\n",
      " [1.+0.j 0.+0.j]]\n",
      "\n",
      "Applying Pauli X gate on 0 ket gives \n",
      "[[0.+0.j]\n",
      " [1.+0.j]]\n",
      " which is equal to |1>\n"
     ]
    }
   ],
   "source": [
    "zero_state = np.matrix([[1.+0.j],[0.+0.j]])\n",
    "print(\"|0> \\n{}\\n\".format(zero_state))\n",
    "\n",
    "x_gate = b.run(transpile(qc, b)).result().get_unitary(qc, decimals=3)\n",
    "x_gate = np.matrix(x_gate)\n",
    "print(\"Pauli X Gate \\n{}\\n\".format(x_gate))\n",
    "\n",
    "output = x_gate*zero_state\n",
    "print(\"Applying Pauli X gate on 0 ket gives \\n{}\\n which is equal to |1>\".format(output))"
   ]
  },
  {
   "cell_type": "markdown",
   "metadata": {},
   "source": [
    "#### Example 2\n",
    "<center><b>Applying X gate on |1></b></center>\n",
    "$$X\\ket{1} = \\begin{bmatrix} 0 & 1   \\\\ 1 & 0 \\end{bmatrix}\\begin{bmatrix} 0 \\\\ 1\\end{bmatrix}$$\n",
    "\n",
    "$$X\\ket{1} = \\begin{bmatrix} 1 \\\\ 0\\end{bmatrix}$$\n",
    "\n",
    "$$X\\ket{1} = \\ket{0}$$\n",
    "<br/>"
   ]
  },
  {
   "cell_type": "code",
   "execution_count": 6,
   "metadata": {},
   "outputs": [
    {
     "name": "stdout",
     "output_type": "stream",
     "text": [
      "|1> \n",
      "[[0.+0.j]\n",
      " [1.+0.j]]\n",
      "\n",
      "Pauli X Gate \n",
      "[[0.+0.j 1.+0.j]\n",
      " [1.+0.j 0.+0.j]]\n",
      "\n",
      "Applying Pauli X gate on 1 ket gives \n",
      "[[1.+0.j]\n",
      " [0.+0.j]]\n",
      " which is equal to |0>\n"
     ]
    }
   ],
   "source": [
    "one_state = np.matrix([[0.+0.j],[1.+0.j]])\n",
    "print(\"|1> \\n{}\\n\".format(one_state))\n",
    "\n",
    "x_gate = b.run(transpile(qc, b)).result().get_unitary(qc, decimals=3)\n",
    "x_gate = np.matrix(x_gate)\n",
    "print(\"Pauli X Gate \\n{}\\n\".format(x_gate))\n",
    "\n",
    "output = x_gate*one_state\n",
    "print(\"Applying Pauli X gate on 1 ket gives \\n{}\\n which is equal to |0>\".format(output))"
   ]
  },
  {
   "cell_type": "markdown",
   "metadata": {},
   "source": [
    "#### Two properties that most of the Gates follow are:\n",
    "#### 1. Hermitian\n",
    "#### 2. Unitary\n",
    "\n",
    "<br>\n",
    "<center><b>1. Hermitian</b></center>\n",
    "<center><b>When a gate is equivalent to its conjugate transpose</b></center>\n",
    "\n",
    "$$X^\\dagger =\\begin{bmatrix} 0 & 1   \\\\ 1 & 0 \\end{bmatrix}$$\n",
    "\n",
    "$$X = X^\\dagger$$\n",
    "<center><b>X gate is Hermitian</b></center>\n",
    "<br/>\n",
    "<center><b>2. Unitary</b></center>\n",
    "<center><b>When product of a gate and its conjugate transpose is equal to identity matrix, </b></center>\n",
    "<center><b>conjugate transpose acts as inverse of the gate</b></center>\n",
    "<br/>\n",
    "$$XX^\\dagger = \\begin{bmatrix} 0 & 1 \\\\ 1 & 0 \\end{bmatrix}\\begin{bmatrix} 0 & 1   \\\\ 1 & 0 \\end{bmatrix}$$\n",
    "\n",
    "$$XX^\\dagger = \\begin{bmatrix} 1 & 0 \\\\ 0 & 1 \\end{bmatrix}$$\n",
    "\n",
    "$$XX^\\dagger = I$$\n",
    "\n",
    "<center><b>X gate is Unitary</b></center>\n",
    "\n",
    "$$X^\\dagger=X^{-1}$$\n",
    "$$We\\space know,\\space X = X^\\dagger$$\n",
    "<center><b>So X is inverse of itself</b></center>"
   ]
  },
  {
   "cell_type": "markdown",
   "metadata": {},
   "source": [
    "#### Hermitian Check"
   ]
  },
  {
   "cell_type": "code",
   "execution_count": 7,
   "metadata": {},
   "outputs": [
    {
     "name": "stdout",
     "output_type": "stream",
     "text": [
      "It is Hermitian\n"
     ]
    }
   ],
   "source": [
    "def check_hermitian(gate):\n",
    "    conjugate_transpose = gate.H\n",
    "    if (gate == conjugate_transpose).all():\n",
    "        print(\"It is Hermitian\")\n",
    "    else:\n",
    "        print(\"It is not Hermitian\")\n",
    "check_hermitian(x_gate)"
   ]
  },
  {
   "cell_type": "markdown",
   "metadata": {},
   "source": [
    "#### Unitary Check"
   ]
  },
  {
   "cell_type": "code",
   "execution_count": 8,
   "metadata": {},
   "outputs": [
    {
     "name": "stdout",
     "output_type": "stream",
     "text": [
      "It is Unitary\n"
     ]
    }
   ],
   "source": [
    "def check_unitary(gate):\n",
    "    conjugate_transpose = gate.H\n",
    "    if (gate*conjugate_transpose == np.identity(len(gate))).all():\n",
    "        print(\"It is Unitary\")\n",
    "    else:\n",
    "        print(\"It is not Unitary\")\n",
    "check_unitary(x_gate)"
   ]
  },
  {
   "cell_type": "markdown",
   "metadata": {},
   "source": [
    "<center><b>Deriving the X gate matrix from Intuition</b></center>\n",
    "\n",
    "If we know the eigenvetors and eigenvalues of a matrix then it is fairly simple to find the corresponding matrix.\n",
    "\n",
    "We want to derive the matrix of X gate by its definition and how it is expected to rotate qubit states.Intuitively speaking, we can find X operation's eigenvetors by taking into account those points that do not rotate (or change their position) on applying a 180 degree rotation about the X axis. We can rightly imagine the qubits represented by positive and negative x directions on the bloch sphere as its eigenvectors, as they are not affected by a rotation about the x axis, because they are parallel and cinciding to the x axis. So $\\ket{+}$ and $\\ket{-}$ are the eigenvectors of X operation, without even knowing the X matrix.\n",
    "\n",
    "We can verify this mathematically by calculating the eigenvectors and eigenvalues of X gate mathematically, just to verify the intuitive result. \n",
    "\n",
    "$$X\\ket{+} = \\begin{bmatrix} 0 & 1   \\\\ 1 & 0 \\end{bmatrix}\\begin{bmatrix} \\frac{1}{\\sqrt{2}}  \\\\ \\frac{1}{\\sqrt{2}} \\end{bmatrix} = \\begin{bmatrix} \\frac{1}{\\sqrt{2}}  \\\\ \\frac{1}{\\sqrt{2}} \\end{bmatrix} $$\n",
    "\n",
    "$$X\\ket{+} = \\ket{+}$$\n",
    "\n",
    "$$X\\ket{-} = \\begin{bmatrix} 0 & 1   \\\\ 1 & 0 \\end{bmatrix}\\begin{bmatrix} \\frac{1}{\\sqrt{2}}  \\\\ -\\frac{1}{\\sqrt{2}} \\end{bmatrix} = \\begin{bmatrix}- \\frac{1}{\\sqrt{2}}  \\\\ \\frac{1}{\\sqrt{2}} \\end{bmatrix} = -\\begin{bmatrix} \\frac{1}{\\sqrt{2}}  \\\\ -\\frac{1}{\\sqrt{2}} \\end{bmatrix} $$\n",
    "\n",
    "$$X\\ket{-} = -\\ket{-}$$\n",
    "<table>\n",
    "<thead>\n",
    "<tr>\n",
    "<th>Eigenstate</th>\n",
    "<th>Eigenvalue</th>\n",
    "</tr>\n",
    "</thead>\n",
    "<tbody>\n",
    "<tr>\n",
    "<td>$\\ket{+}$</td>\n",
    "<td>+1</td>\n",
    "</tr>\n",
    "<tr>\n",
    "<td>$\\ket{-}$</td>\n",
    "<td>-1</td>\n",
    "</tr>\n",
    "</tbody>\n",
    "</table>\n",
    "<center><b>So $\\ket{+}$ is eigenstate and 1 is eigenvale of Matrix X</b></center>\n",
    "<center><b>So $\\ket{-}$ is eigenstate and -1 is eigenvale of Matrix X</b></center>\n",
    "<br />\n",
    "So now that we know the eigenvectors and corresponding eigenvalues of X operation it is easy to find the X matrix, via the expression formed below and its simplification.\n",
    "$$X\\ket{+} = \\ket{+}$$\n",
    "$$X = \\ket{+}\\bra{+}$$\n",
    "\n",
    "$$X\\ket{-} = -\\ket{-}$$\n",
    "$$X = -\\ket{-}\\bra{-}$$\n",
    "\n",
    "$$X = \\ket{+}\\bra{+}\\space -\\space\\ket{-}\\bra{-}$$ \n",
    "<br />\n",
    "<center><b>Replacing by the following equations</b></center>\n",
    "$$\\ket{+} = \\frac{1}{\\sqrt{2}}(\\ket{0} + \\ket{1})$$\n",
    "$$\\bra{+} = \\frac{1}{\\sqrt{2}}(\\bra{0} + \\bra{1})$$\n",
    "$$\\ket{-} = \\frac{1}{\\sqrt{2}}(\\ket{0} - \\ket{1})$$\n",
    "$$\\bra{-} = \\frac{1}{\\sqrt{2}}(\\bra{0} - \\bra{1})$$\n",
    "<br />\n",
    "<center><b>On simplifying we get</b></center>\n",
    "<br />\n",
    "$$X = \\ket{0}\\bra{1} + \\ket{1}\\bra{0}$$\n",
    "\n",
    "$$X = \\begin{bmatrix} 1 \\\\  0\\end{bmatrix} \\begin{bmatrix} 0 & 1\\end{bmatrix} + \\begin{bmatrix} 0 \\\\ 1\\end{bmatrix} \\begin{bmatrix} 1 & 0\\end{bmatrix} $$\n",
    "\n",
    "$$X = \\begin{bmatrix} 0 & 1 \\\\ 0 & 0\\end{bmatrix} + \\begin{bmatrix} 0 & 0\\\\ 1 & 0\\end{bmatrix}$$\n",
    "\n",
    "$$X =\\begin{bmatrix} 0 & 1   \\\\ 1 & 0 \\end{bmatrix} $$\n",
    "<br/>\n",
    "\n",
    "Therefore, we have established the X gate matrix from its definition just as it is expected to be"
   ]
  },
  {
   "cell_type": "markdown",
   "metadata": {},
   "source": [
    "## Pauli Z Gate"
   ]
  },
  {
   "cell_type": "markdown",
   "metadata": {},
   "source": [
    "<center><b>Pauli Z Gate</b></center>\n",
    "<center><b>180 degree rotation about z axis, also known as quantum phase flip gate</b></center>\n",
    "$$\\newcommand{\\ket}[1]{|#1\\rangle}$$\n",
    "$$\\newcommand{\\bra}[1]{\\langle#1|}$$\n",
    "<center><b> Z Gate matrix</b></center>\n",
    "$$Z =\\begin{bmatrix} 1 & 0   \\\\ 0 & -1 \\end{bmatrix}$$\n",
    "<br/>\n",
    "<center><b>State Transformation</b></center>\n",
    "$$Z\\ket{+} = \\ket{-}$$\n",
    "$$Z\\ket{-} = \\ket{+}$$\n",
    "<br/>\n",
    "<center><b>Applying Z gate on $\\ket{+}$</b></center>\n",
    "$$Z\\ket{+} = \\begin{bmatrix} 1 & 0   \\\\ 0 & -1 \\end{bmatrix}\\begin{bmatrix} \\frac{1}{\\sqrt{2}} \\\\ \\frac{1}{\\sqrt{2}}\\end{bmatrix}$$\n",
    "\n",
    "$$Z\\ket{+} = \\begin{bmatrix} \\frac{1}{\\sqrt{2}} \\\\ -\\frac{1}{\\sqrt{2}}\\end{bmatrix}$$\n",
    "\n",
    "$$Z\\ket{+} = \\ket{-}$$\n",
    "<br/>\n",
    "<center><b>Applying Z gate on $\\ket{-}$</b></center>\n",
    "$$Z\\ket{-} = \\begin{bmatrix} 1 & 0   \\\\ 0 & -1 \\end{bmatrix}\\begin{bmatrix} \\frac{1}{\\sqrt{2}} \\\\ -\\frac{1}{\\sqrt{2}}\\end{bmatrix}$$\n",
    "\n",
    "$$Z\\ket{-} = \\begin{bmatrix} \\frac{1}{\\sqrt{2}} \\\\ \\frac{1}{\\sqrt{2}}\\end{bmatrix}$$\n",
    "\n",
    "$$Z\\ket{-} = \\ket{+}$$\n",
    "<br/>\n",
    "<center><b>Quantum Phase Flip</b></center>\n",
    "$$Z\\ket{+} = \\ket{-}$$\n",
    "$$Z\\ket{-} = \\ket{+}$$\n",
    "<br/>"
   ]
  },
  {
   "cell_type": "markdown",
   "metadata": {},
   "source": [
    "![SegmentLocal](bloch_transformations/z_gate.gif \"segment\")"
   ]
  },
  {
   "cell_type": "code",
   "execution_count": 9,
   "metadata": {},
   "outputs": [
    {
     "data": {
      "image/png": "[encoded data removed]",
      "text/plain": [
       "<Figure size 219.978x84.28 with 1 Axes>"
      ]
     },
     "metadata": {},
     "output_type": "display_data"
    }
   ],
   "source": [
    "# z gate in quantum circuit\n",
    "q = QuantumRegister(1)\n",
    "qc = QuantumCircuit(q)\n",
    "qc.h(q)\n",
    "qc.z(q)\n",
    "display(qc.draw(output=\"mpl\"))"
   ]
  },
  {
   "cell_type": "code",
   "execution_count": 10,
   "metadata": {},
   "outputs": [],
   "source": [
    "# executing the circuit\n",
    "backend = Aer.get_backend('statevector_simulator')\n",
    "b = BasicAer.get_backend('unitary_simulator')\n",
    "job = execute(qc, backend)\n",
    "result = job.result()"
   ]
  },
  {
   "cell_type": "code",
   "execution_count": 11,
   "metadata": {},
   "outputs": [
    {
     "data": {
      "image/png": "[encoded data removed]",
      "text/plain": [
       "<Figure size 504x360 with 1 Axes>"
      ]
     },
     "metadata": {},
     "output_type": "display_data"
    }
   ],
   "source": [
    "# probability of output state\n",
    "counts = result.get_counts(qc)\n",
    "graph = visualization.plot_histogram(counts)\n",
    "display(graph)"
   ]
  },
  {
   "cell_type": "markdown",
   "metadata": {},
   "source": [
    "#### Application by Example"
   ]
  },
  {
   "cell_type": "markdown",
   "metadata": {},
   "source": [
    "#### Example 1\n",
    "<center><b>Applying Z gate on $\\ket{+}$</b></center>\n",
    "$$Z\\ket{+} = \\begin{bmatrix} 1 & 0   \\\\ 0 & -1 \\end{bmatrix}\\begin{bmatrix} \\frac{1}{\\sqrt{2}} \\\\ \\frac{1}{\\sqrt{2}}\\end{bmatrix}$$\n",
    "\n",
    "$$Z\\ket{+} = \\begin{bmatrix} \\frac{1}{\\sqrt{2}} \\\\ -\\frac{1}{\\sqrt{2}}\\end{bmatrix}$$\n",
    "\n",
    "$$Z\\ket{+} = \\ket{-}$$\n",
    "<br/>"
   ]
  },
  {
   "cell_type": "code",
   "execution_count": 12,
   "metadata": {},
   "outputs": [
    {
     "name": "stdout",
     "output_type": "stream",
     "text": [
      "|+> \n",
      "[[0.707+0.j]\n",
      " [0.707+0.j]]\n",
      "\n",
      "Pauli Z Gate \n",
      "[[ 1  0]\n",
      " [ 0 -1]]\n",
      "\n",
      "Applying Pauli Z gate on + ket gives \n",
      "[[ 0.707+0.j]\n",
      " [-0.707+0.j]]\n",
      " which is equal to |->\n"
     ]
    }
   ],
   "source": [
    "plus_state = np.matrix([[ 0.707+0.j],[ 0.707+0.j]])\n",
    "print(\"|+> \\n{}\\n\".format(plus_state))\n",
    "\n",
    "z_gate = np.matrix([[1,0],[0,-1]])\n",
    "print(\"Pauli Z Gate \\n{}\\n\".format(z_gate))\n",
    "\n",
    "output = z_gate*plus_state\n",
    "print(\"Applying Pauli Z gate on + ket gives \\n{}\\n which is equal to |->\".format(output))"
   ]
  },
  {
   "cell_type": "code",
   "execution_count": 13,
   "metadata": {},
   "outputs": [
    {
     "name": "stdout",
     "output_type": "stream",
     "text": [
      "|0> \n",
      "[[1.+0.j]\n",
      " [0.+0.j]]\n",
      "\n",
      "H and Pauli Z Gate \n",
      "[[ 0.707+0.j  0.707+0.j]\n",
      " [-0.707-0.j  0.707+0.j]]\n",
      "\n",
      "Applying H and Pauli Z gate on 0 ket gives \n",
      "[[ 0.707+0.j]\n",
      " [-0.707+0.j]]\n",
      " which is equal to |->\n"
     ]
    }
   ],
   "source": [
    "zero_state = np.matrix([[1.+0.j],[0.+0.j]])\n",
    "print(\"|0> \\n{}\\n\".format(zero_state))\n",
    "\n",
    "hz_gate = b.run(transpile(qc, b)).result().get_unitary(qc, decimals=3)\n",
    "hz_gate = np.matrix(hz_gate)\n",
    "print(\"H and Pauli Z Gate \\n{}\\n\".format(hz_gate))\n",
    "\n",
    "output = hz_gate*zero_state\n",
    "print(\"Applying H and Pauli Z gate on 0 ket gives \\n{}\\n which is equal to |->\".format(output))"
   ]
  },
  {
   "cell_type": "markdown",
   "metadata": {},
   "source": [
    "<center><b>Hermitian</b></center>\n",
    "<center><b>When a gate is equivalent to its conjugate transpose</b></center>\n",
    "\n",
    "$$Z^\\dagger =\\begin{bmatrix} 1 & 0   \\\\ 0 & -1 \\end{bmatrix}$$\n",
    "\n",
    "$$Z = Z^\\dagger$$\n",
    "<center><b>Z gate is Hermitian</b></center>\n",
    "<br/>\n",
    "<center><b>Unitary</b></center>\n",
    "<center><b>When product of a gate and its conjugate transpose is equal to identity matrix, </b></center>\n",
    "<center><b>conjugate transpose acts as inverse of the gate</b></center>\n",
    "<br/>\n",
    "$$ZZ^\\dagger = \\begin{bmatrix}1 & 0   \\\\ 0 & -1 \\end{bmatrix}\\begin{bmatrix} 1 & 0   \\\\ 0 & -1 \\end{bmatrix}$$\n",
    "\n",
    "$$ZZ^\\dagger = \\begin{bmatrix} 1 & 0 \\\\ 0 & 1 \\end{bmatrix}$$\n",
    "\n",
    "$$ZZ^\\dagger = I$$\n",
    "\n",
    "<center><b>Z gate is Unitary</b></center>\n",
    "\n",
    "$$Z^\\dagger=Z^{-1}$$\n",
    "$$We\\space know,\\space Z = Z^\\dagger$$\n",
    "<center><b>So Z is inverse of itself</b></center>"
   ]
  },
  {
   "cell_type": "markdown",
   "metadata": {},
   "source": [
    "#### Hermitian and Unitary check"
   ]
  },
  {
   "cell_type": "code",
   "execution_count": 14,
   "metadata": {
    "scrolled": false
   },
   "outputs": [
    {
     "name": "stdout",
     "output_type": "stream",
     "text": [
      "It is Hermitian\n",
      "It is Unitary\n"
     ]
    }
   ],
   "source": [
    "check_hermitian(z_gate)\n",
    "check_unitary(z_gate)"
   ]
  },
  {
   "cell_type": "markdown",
   "metadata": {},
   "source": [
    "We can derive the Z gate from its definition by the same logic applied for the X gate. We have omitted the logic over here and just shown the mathematics to find the Z gate\n",
    "<center><b>Derivation from Result</b></center>\n",
    "$$Z\\ket{0} = \\begin{bmatrix} 1 & 0   \\\\ 0 & -1 \\end{bmatrix}\\begin{bmatrix} 1  \\\\ 0 \\end{bmatrix} = \\begin{bmatrix} 1  \\\\ 0 \\end{bmatrix} $$\n",
    "\n",
    "$$Z\\ket{0} = \\ket{0}$$\n",
    "\n",
    "$$Z\\ket{1} = \\begin{bmatrix} 1 & 0   \\\\ 0 & -1 \\end{bmatrix}\\begin{bmatrix} 0  \\\\ 1 \\end{bmatrix} = \\begin{bmatrix} 0  \\\\ -1 \\end{bmatrix} = -\\begin{bmatrix} 0  \\\\ 1 \\end{bmatrix} $$\n",
    "\n",
    "$$Z\\ket{1} = -\\ket{1}$$\n",
    "<table>\n",
    "<thead>\n",
    "<tr>\n",
    "<th>Eigenstate</th>\n",
    "<th>Eigenvalue</th>\n",
    "</tr>\n",
    "</thead>\n",
    "<tbody>\n",
    "<tr>\n",
    "<td>$\\ket{0}$</td>\n",
    "<td>+1</td>\n",
    "</tr>\n",
    "<tr>\n",
    "<td>$\\ket{1}$</td>\n",
    "<td>-1</td>\n",
    "</tr>\n",
    "</tbody>\n",
    "</table>\n",
    "<center><b>So $\\ket{0}$ is eigenstate and 1 is eigenvale of Matrix Z</b></center>\n",
    "<center><b>So $\\ket{1}$ is eigenstate and -1 is eigenvale of Matrix Z</b></center>\n",
    "<br />\n",
    "$$Z\\ket{0} = \\ket{0}$$\n",
    "$$Z = \\ket{0}\\bra{0}$$\n",
    "\n",
    "$$Z\\ket{1} = -\\ket{1}$$\n",
    "$$Z = -\\ket{1}\\bra{1}$$\n",
    "\n",
    "$$Z = \\ket{0}\\bra{0} - \\ket{1}\\bra{1}$$\n",
    "\n",
    "$$Z = \\begin{bmatrix} 1 \\\\  0\\end{bmatrix} \\begin{bmatrix} 1 & 0\\end{bmatrix} - \\begin{bmatrix} 0 \\\\ 1\\end{bmatrix} \\begin{bmatrix} 0 & 1\\end{bmatrix} $$\n",
    "\n",
    "$$Z = \\begin{bmatrix} 1 & 0 \\\\ 0 & 0\\end{bmatrix} - \\begin{bmatrix} 0 & 0\\\\ 0 & 1\\end{bmatrix}$$\n",
    "\n",
    "$$Z =\\begin{bmatrix} 1 & 0   \\\\ 0 & -1 \\end{bmatrix} $$\n",
    "<br/>"
   ]
  },
  {
   "cell_type": "markdown",
   "metadata": {},
   "source": [
    "## Pauli Y Gate"
   ]
  },
  {
   "cell_type": "markdown",
   "metadata": {},
   "source": [
    "<center><b>Pauli Y Gate</center></b>\n",
    "<center><b>180 degree rotation about y axis, also known as quantum bit and phase flip gate</center></b>\n",
    "$$\\newcommand{\\ket}[1]{|#1\\rangle}$$\n",
    "$$\\newcommand{\\bra}[1]{\\langle#1|}$$\n",
    "<center><b> Y Gate matrix</b></center>\n",
    "$$Y =\\begin{bmatrix} 0 & -i   \\\\ i & 0 \\end{bmatrix}$$\n",
    "<br/>\n",
    "<center><b>State Transformation</b></center>\n",
    "$$X\\ket{0} = i\\ket{1}$$\n",
    "$$X\\ket{1} = -i\\ket{0}$$\n",
    "<br/>\n",
    "<center><b>Applying Y gate on |0></b></center>\n",
    "$$Y\\ket{0} = \\begin{bmatrix} 0 & -i  \\\\ i & 0 \\end{bmatrix}\\begin{bmatrix} 1 \\\\ 0\\end{bmatrix}$$\n",
    "\n",
    "$$Y\\ket{0} = i\\begin{bmatrix} 0 \\\\ 1\\end{bmatrix}$$\n",
    "\n",
    "$$Y\\ket{0} = i\\ket{1}$$\n",
    "<br/>\n",
    "<center><b>Applying Y gate on |1></b></center>\n",
    "$$Y\\ket{1} = \\begin{bmatrix} 0 & -i  \\\\ i & 0 \\end{bmatrix}\\begin{bmatrix} 0 \\\\ 1\\end{bmatrix}$$\n",
    "\n",
    "$$Y\\ket{1} = -i\\begin{bmatrix} 1 \\\\ 0\\end{bmatrix}$$\n",
    "\n",
    "$$X\\ket{1} = -i\\ket{0}$$\n",
    "<br/>\n",
    "<center><b>Quantum Bit Phase Flip</b></center>\n",
    "$$X\\ket{0} = i\\ket{1}$$\n",
    "$$X\\ket{1} = -i\\ket{0}$$\n",
    "<br/>"
   ]
  },
  {
   "cell_type": "markdown",
   "metadata": {},
   "source": [
    "![SegmentLocal](bloch_transformations/y_gate.gif \"segment\")"
   ]
  },
  {
   "cell_type": "code",
   "execution_count": 15,
   "metadata": {},
   "outputs": [
    {
     "data": {
      "image/png": "[encoded data removed]",
      "text/plain": [
       "<Figure size 159.923x84.28 with 1 Axes>"
      ]
     },
     "metadata": {},
     "output_type": "display_data"
    }
   ],
   "source": [
    "# z gate in quantum circuit\n",
    "q = QuantumRegister(1)\n",
    "qc = QuantumCircuit(q)\n",
    "qc.y(q)\n",
    "display(qc.draw(output=\"mpl\"))"
   ]
  },
  {
   "cell_type": "code",
   "execution_count": 16,
   "metadata": {},
   "outputs": [],
   "source": [
    "# executing the circuit\n",
    "backend = Aer.get_backend('statevector_simulator')\n",
    "b = BasicAer.get_backend('unitary_simulator')\n",
    "job = execute(qc, backend)\n",
    "result = job.result()"
   ]
  },
  {
   "cell_type": "code",
   "execution_count": 17,
   "metadata": {},
   "outputs": [
    {
     "data": {
      "image/png": "[encoded data removed]",
      "text/plain": [
       "<Figure size 504x360 with 1 Axes>"
      ]
     },
     "metadata": {},
     "output_type": "display_data"
    }
   ],
   "source": [
    "# probability of output state\n",
    "counts = result.get_counts(qc)\n",
    "graph = visualization.plot_histogram(counts)\n",
    "display(graph)"
   ]
  },
  {
   "cell_type": "markdown",
   "metadata": {},
   "source": [
    "#### Application by Example"
   ]
  },
  {
   "cell_type": "markdown",
   "metadata": {},
   "source": [
    "#### Example 1\n",
    "<center><b>Applying Y gate on |0></b></center>\n",
    "$$Y\\ket{0} = \\begin{bmatrix} 0 & -i  \\\\ i & 0 \\end{bmatrix}\\begin{bmatrix} 1 \\\\ 0\\end{bmatrix}$$\n",
    "\n",
    "$$Y\\ket{0} = i\\begin{bmatrix} 0 \\\\ 1\\end{bmatrix}$$\n",
    "\n",
    "$$Y\\ket{0} = i\\ket{1}$$\n",
    "<br/>"
   ]
  },
  {
   "cell_type": "code",
   "execution_count": 18,
   "metadata": {},
   "outputs": [
    {
     "name": "stdout",
     "output_type": "stream",
     "text": [
      "|0> \n",
      "[[1.+0.j]\n",
      " [0.+0.j]]\n",
      "\n",
      "Pauli Y Gate \n",
      "[[ 0.+0.j -0.-1.j]\n",
      " [ 0.+1.j  0.+0.j]]\n",
      "\n",
      "Applying Pauli Y gate on 0 ket gives \n",
      "[[0.+0.j]\n",
      " [0.+1.j]]\n",
      " which is equal to i|1>\n"
     ]
    }
   ],
   "source": [
    "zero_state = np.matrix([[1.+0.j],[0.+0.j]])\n",
    "print(\"|0> \\n{}\\n\".format(zero_state))\n",
    "\n",
    "y_gate = b.run(transpile(qc, b)).result().get_unitary(qc, decimals=3)\n",
    "y_gate = np.matrix(y_gate)\n",
    "print(\"Pauli Y Gate \\n{}\\n\".format(y_gate))\n",
    "\n",
    "output = y_gate*zero_state\n",
    "print(\"Applying Pauli Y gate on 0 ket gives \\n{}\\n which is equal to i|1>\".format(output))"
   ]
  },
  {
   "cell_type": "markdown",
   "metadata": {},
   "source": [
    "#### Example 2 \n",
    "<center><b>Applying Y gate on |1></b></center>\n",
    "$$Y\\ket{1} = \\begin{bmatrix} 0 & -i  \\\\ i & 0 \\end{bmatrix}\\begin{bmatrix} 0 \\\\ 1\\end{bmatrix}$$\n",
    "\n",
    "$$Y\\ket{1} = -i\\begin{bmatrix} 1 \\\\ 0\\end{bmatrix}$$\n",
    "\n",
    "$$X\\ket{1} = -i\\ket{0}$$\n",
    "<br/>"
   ]
  },
  {
   "cell_type": "code",
   "execution_count": 19,
   "metadata": {},
   "outputs": [
    {
     "name": "stdout",
     "output_type": "stream",
     "text": [
      "|1> \n",
      "[[0.+0.j]\n",
      " [1.+0.j]]\n",
      "\n",
      "Pauli Y Gate \n",
      "[[ 0.+0.j -0.-1.j]\n",
      " [ 0.+1.j  0.+0.j]]\n",
      "\n",
      "Applying Pauli Y gate on 1 ket gives \n",
      "[[0.-1.j]\n",
      " [0.+0.j]]\n",
      " which is equal to -i|0>\n"
     ]
    }
   ],
   "source": [
    "one_state = np.matrix([[0.+0.j],[1.+0.j]])\n",
    "print(\"|1> \\n{}\\n\".format(one_state))\n",
    "\n",
    "y_gate = b.run(transpile(qc, b)).result().get_unitary(qc, decimals=3)\n",
    "y_gate = np.matrix(y_gate)\n",
    "print(\"Pauli Y Gate \\n{}\\n\".format(y_gate))\n",
    "\n",
    "output = y_gate*one_state\n",
    "print(\"Applying Pauli Y gate on 1 ket gives \\n{}\\n which is equal to -i|0>\".format(output))"
   ]
  },
  {
   "cell_type": "markdown",
   "metadata": {},
   "source": [
    "<center><b>Hermitian</b></center>\n",
    "<center><b>When a gate is equivalent to its conjugate transpose</b></center>\n",
    "\n",
    "$$Y^\\dagger =\\begin{bmatrix} 0 & -i  \\\\ i & 0 \\end{bmatrix}$$\n",
    "\n",
    "$$Y = Y^\\dagger$$\n",
    "<center><b>Y gate is Hermitian</b></center>\n",
    "<br/>\n",
    "<center><b>Unitary</b></center>\n",
    "<center><b>When product of a gate and its conjugate transpose is equal to identity matrix, </b></center>\n",
    "<center><b>conjugate transpose acts as inverse of the gate</b></center>\n",
    "<br/>\n",
    "$$YY^\\dagger = \\begin{bmatrix} 0 & -i  \\\\ i & 0 \\end{bmatrix}\\begin{bmatrix} 0 & -i  \\\\ i & 0 \\end{bmatrix}$$\n",
    "\n",
    "$$YY^\\dagger = \\begin{bmatrix} 1 & 0 \\\\ 0 & 1 \\end{bmatrix}$$\n",
    "\n",
    "$$YY^\\dagger = I$$\n",
    "\n",
    "$$Y^\\dagger=Y^{-1}$$\n",
    "\n",
    "<center><b>Y gate is Unitary</b></center>\n",
    "\n",
    "$$Y^\\dagger=Y^{-1}$$\n",
    "$$We\\space know,\\space Y = Y^\\dagger$$\n",
    "<center><b>So Y is inverse of itself</b></center>"
   ]
  },
  {
   "cell_type": "markdown",
   "metadata": {},
   "source": [
    "#### Hermitian and Unitary check"
   ]
  },
  {
   "cell_type": "code",
   "execution_count": 20,
   "metadata": {
    "scrolled": true
   },
   "outputs": [
    {
     "name": "stdout",
     "output_type": "stream",
     "text": [
      "It is Hermitian\n",
      "It is Unitary\n"
     ]
    }
   ],
   "source": [
    "check_hermitian(y_gate)\n",
    "check_unitary(y_gate)"
   ]
  },
  {
   "cell_type": "markdown",
   "metadata": {},
   "source": [
    "We can derive the Y gate from its definition by the same logic applied for the Y gate. We have omitted the logic over here and just shown the mathematics to find the Y gate<center><b>Derivation from Result</b></center>\n",
    "$$Y\\ket{+i} = \\begin{bmatrix} 0 & -i   \\\\ i & 0 \\end{bmatrix}\\begin{bmatrix} \\frac{1}{\\sqrt{2}}  \\\\ i\\frac{1}{\\sqrt{2}} \\end{bmatrix} = \\begin{bmatrix} \\frac{1}{\\sqrt{2}}  \\\\ i\\frac{1}{\\sqrt{2}} \\end{bmatrix} $$\n",
    "\n",
    "$$Y\\ket{+i} = \\ket{+i}$$\n",
    "\n",
    "$$Y\\ket{-i} = \\begin{bmatrix} 0 & -i   \\\\ i & 0 \\end{bmatrix}\\begin{bmatrix} \\frac{1}{\\sqrt{2}}  \\\\ -i\\frac{1}{\\sqrt{2}} \\end{bmatrix} = \\begin{bmatrix}- \\frac{1}{\\sqrt{2}}  \\\\ i\\frac{1}{\\sqrt{2}} \\end{bmatrix} = -\\begin{bmatrix} \\frac{1}{\\sqrt{2}}  \\\\ -i\\frac{1}{\\sqrt{2}} \\end{bmatrix} $$\n",
    "\n",
    "$$Y\\ket{-i} = -\\ket{-i}$$\n",
    "<table>\n",
    "<thead>\n",
    "<tr>\n",
    "<th>Eigenstate</th>\n",
    "<th>Eigenvalue</th>\n",
    "</tr>\n",
    "</thead>\n",
    "<tbody>\n",
    "<tr>\n",
    "<td>$\\ket{+i}$</td>\n",
    "<td>+1</td>\n",
    "</tr>\n",
    "<tr>\n",
    "<td>$\\ket{-i}$</td>\n",
    "<td>-1</td>\n",
    "</tr>\n",
    "</tbody>\n",
    "</table>\n",
    "<center><b>So $\\ket{+i}$ is eigenstate and 1 is eigenvale of Matrix Y</b></center>\n",
    "<center><b>So $\\ket{-i}$ is eigenstate and -1 is eigenvale of Matrix Y</b></center>\n",
    "<br />\n",
    "$$Y\\ket{+i} = \\ket{+i}$$\n",
    "$$Y = \\ket{+i}\\bra{+i}$$\n",
    "\n",
    "$$Y\\ket{-i} = -\\ket{-i}$$\n",
    "$$Y = -\\ket{-i}\\bra{-i}$$\n",
    "\n",
    "$$X = \\ket{+i}\\bra{+i}\\space -\\space\\ket{-i}\\bra{-i}$$ \n",
    "<br />\n",
    "<center><b>Replacing by the following equations</b></center>\n",
    "$$\\ket{+i} = \\frac{1}{\\sqrt{2}}(\\ket{0} + i\\ket{1})$$\n",
    "$$\\bra{+i} = \\frac{1}{\\sqrt{2}}(\\bra{0} + i\\bra{1})$$\n",
    "$$\\ket{-i} = \\frac{1}{\\sqrt{2}}(\\ket{0} - i\\ket{1})$$\n",
    "$$\\bra{-i} = \\frac{1}{\\sqrt{2}}(\\bra{0} - i\\bra{1})$$\n",
    "<br />\n",
    "<center><b>On simplifying we get</b></center>\n",
    "$$Y = i(\\ket{1}\\bra{0} - \\ket{0}\\bra{1})$$\n",
    "\n",
    "$$Y = i\\begin{bmatrix} 0 \\\\  1\\end{bmatrix} \\begin{bmatrix} 1 & 0\\end{bmatrix} - i\\begin{bmatrix} 1 \\\\ 0\\end{bmatrix} \\begin{bmatrix} 0 & 1\\end{bmatrix} $$\n",
    "\n",
    "$$Y = \\begin{bmatrix} 0 & 0 \\\\ i & 0\\end{bmatrix} + \\begin{bmatrix} 0 & -i\\\\ 0 & 0\\end{bmatrix}$$\n",
    "\n",
    "$$Y =\\begin{bmatrix} 0 & -i  \\\\ i & 0 \\end{bmatrix} $$\n",
    "<br/>"
   ]
  },
  {
   "cell_type": "markdown",
   "metadata": {},
   "source": [
    "## Hadamard Gate"
   ]
  },
  {
   "cell_type": "markdown",
   "metadata": {},
   "source": [
    "<center><b>Hadamard Gate</b></center>\n",
    "<center><b>Transforms z basis to x basis</b></center>\n",
    "$$\\newcommand{\\ket}[1]{|#1\\rangle}$$\n",
    "$$\\newcommand{\\bra}[1]{\\langle#1|}$$\n",
    "<center><b> H Gate matrix</b></center>\n",
    "$$H =\\frac{1}{\\sqrt{2}}\\begin{bmatrix} 1 & 1   \\\\ 1 & -1 \\end{bmatrix}$$\n",
    "<br/>\n",
    "<center><b>State Transformation</b></center>\n",
    "$$H\\ket{0} = \\ket{+}$$\n",
    "$$H\\ket{1} = \\ket{-}$$\n",
    "<br/>\n",
    "<center><b>Applying H gate on |0></b></center>\n",
    "$$H\\ket{0} = \\frac{1}{\\sqrt{2}}\\begin{bmatrix} 1 & 1   \\\\ 1 & -1 \\end{bmatrix}\\begin{bmatrix} 1 \\\\ 0\\end{bmatrix}$$\n",
    "\n",
    "$$H\\ket{0} = \\frac{1}{\\sqrt{2}}\\begin{bmatrix} 1 \\\\ 1\\end{bmatrix}= \\frac{1}{\\sqrt{2}}(\\begin{bmatrix} 1 \\\\ 0\\end{bmatrix} + \\begin{bmatrix} 0 \\\\ 1\\end{bmatrix}) = \\frac{1}{\\sqrt{2}}(\\ket{0} + \\ket{1})$$\n",
    "\n",
    "$$H\\ket{0} = \\ket{+}$$\n",
    "<br/>\n",
    "<center><b>Applying H gate on |1></b></center>\n",
    "$$H\\ket{1} = \\frac{1}{\\sqrt{2}}\\begin{bmatrix} 1 & 1   \\\\ 1 & -1 \\end{bmatrix}\\begin{bmatrix} 0 \\\\ 1\\end{bmatrix}$$\n",
    "\n",
    "$$H\\ket{1} = \\frac{1}{\\sqrt{2}}\\begin{bmatrix} 1 \\\\ -1\\end{bmatrix} = \\frac{1}{\\sqrt{2}}(\\begin{bmatrix} 1 \\\\ 0\\end{bmatrix} - \\begin{bmatrix} 0 \\\\ 1\\end{bmatrix}) = \\frac{1}{\\sqrt{2}}(\\ket{0} - \\ket{1})$$\n",
    "\n",
    "$$H\\ket{1} = \\ket{-}$$\n",
    "<br/>"
   ]
  },
  {
   "cell_type": "markdown",
   "metadata": {},
   "source": [
    "![SegmentLocal](bloch_transformations/h_gate.gif \"segment\")"
   ]
  },
  {
   "cell_type": "code",
   "execution_count": 21,
   "metadata": {},
   "outputs": [
    {
     "data": {
      "image/png": "[encoded data removed]",
      "text/plain": [
       "<Figure size 160.069x84.28 with 1 Axes>"
      ]
     },
     "metadata": {},
     "output_type": "display_data"
    }
   ],
   "source": [
    "# H gate in quantum circuit\n",
    "q = QuantumRegister(1)\n",
    "qc = QuantumCircuit(q)\n",
    "qc.h(q)\n",
    "display(qc.draw(output=\"mpl\"))"
   ]
  },
  {
   "cell_type": "code",
   "execution_count": 22,
   "metadata": {},
   "outputs": [],
   "source": [
    "# executing the circuit\n",
    "backend = Aer.get_backend('statevector_simulator')\n",
    "b = BasicAer.get_backend('unitary_simulator')\n",
    "job = execute(qc, backend)\n",
    "result = job.result()"
   ]
  },
  {
   "cell_type": "code",
   "execution_count": 23,
   "metadata": {},
   "outputs": [
    {
     "data": {
      "image/png": "[encoded data removed]",
      "text/plain": [
       "<Figure size 504x360 with 1 Axes>"
      ]
     },
     "metadata": {},
     "output_type": "display_data"
    }
   ],
   "source": [
    "# probability of output state\n",
    "counts = result.get_counts(qc)\n",
    "graph = visualization.plot_histogram(counts)\n",
    "display(graph)"
   ]
  },
  {
   "cell_type": "markdown",
   "metadata": {},
   "source": [
    "#### Application by Example"
   ]
  },
  {
   "cell_type": "markdown",
   "metadata": {},
   "source": [
    "#### Example 1\n",
    "<center><b>Applying H gate on |0></b></center>\n",
    "$$H\\ket{0} = \\frac{1}{\\sqrt{2}}\\begin{bmatrix} 1 & 1   \\\\ 1 & -1 \\end{bmatrix}\\begin{bmatrix} 1 \\\\ 0\\end{bmatrix}$$\n",
    "\n",
    "$$H\\ket{0} = \\frac{1}{\\sqrt{2}}\\begin{bmatrix} 1 \\\\ 1\\end{bmatrix}= \\frac{1}{\\sqrt{2}}(\\begin{bmatrix} 1 \\\\ 0\\end{bmatrix} + \\begin{bmatrix} 0 \\\\ 1\\end{bmatrix}) = \\frac{1}{\\sqrt{2}}(\\ket{0} + \\ket{1})$$\n",
    "\n",
    "$$H\\ket{0} = \\ket{+}$$"
   ]
  },
  {
   "cell_type": "code",
   "execution_count": 24,
   "metadata": {},
   "outputs": [
    {
     "name": "stdout",
     "output_type": "stream",
     "text": [
      "|0> \n",
      "[[1.+0.j]\n",
      " [0.+0.j]]\n",
      "\n",
      "H Gate \n",
      "[[ 0.707+0.j  0.707-0.j]\n",
      " [ 0.707+0.j -0.707+0.j]]\n",
      "\n",
      "Applying H gate on 0 ket gives \n",
      "[[0.707+0.j]\n",
      " [0.707+0.j]]\n",
      " which is equal to |+>\n"
     ]
    }
   ],
   "source": [
    "zero_state = np.matrix([[1.+0.j],[0.+0.j]])\n",
    "print(\"|0> \\n{}\\n\".format(zero_state))\n",
    "\n",
    "h_gate = b.run(transpile(qc, b)).result().get_unitary(qc, decimals=3)\n",
    "h_gate = np.matrix(h_gate)\n",
    "print(\"H Gate \\n{}\\n\".format(h_gate))\n",
    "\n",
    "output = h_gate*zero_state\n",
    "print(\"Applying H gate on 0 ket gives \\n{}\\n which is equal to |+>\".format(output))"
   ]
  },
  {
   "cell_type": "markdown",
   "metadata": {},
   "source": [
    "#### Example 2 \n",
    "<center><b>Applying H gate on |1></b></center>\n",
    "$$H\\ket{1} = \\frac{1}{\\sqrt{2}}\\begin{bmatrix} 1 & 1   \\\\ 1 & -1 \\end{bmatrix}\\begin{bmatrix} 0 \\\\ 1\\end{bmatrix}$$\n",
    "\n",
    "$$H\\ket{1} = \\frac{1}{\\sqrt{2}}\\begin{bmatrix} 1 \\\\ -1\\end{bmatrix} = \\frac{1}{\\sqrt{2}}(\\begin{bmatrix} 1 \\\\ 0\\end{bmatrix} - \\begin{bmatrix} 0 \\\\ 1\\end{bmatrix}) = \\frac{1}{\\sqrt{2}}(\\ket{0} - \\ket{1})$$\n",
    "\n",
    "$$H\\ket{1} = \\ket{-}$$\n",
    "<br/>"
   ]
  },
  {
   "cell_type": "code",
   "execution_count": 25,
   "metadata": {},
   "outputs": [
    {
     "name": "stdout",
     "output_type": "stream",
     "text": [
      "|1> \n",
      "[[0.+0.j]\n",
      " [1.+0.j]]\n",
      "\n",
      "H Gate \n",
      "[[ 0.707+0.j  0.707-0.j]\n",
      " [ 0.707+0.j -0.707+0.j]]\n",
      "\n",
      "Applying H gate on 1 ket gives \n",
      "[[ 0.707+0.j]\n",
      " [-0.707+0.j]]\n",
      " which is equal to |->\n"
     ]
    }
   ],
   "source": [
    "one_state = np.matrix([[0.+0.j],[1.+0.j]])\n",
    "print(\"|1> \\n{}\\n\".format(one_state))\n",
    "\n",
    "h_gate = b.run(transpile(qc, b)).result().get_unitary(qc, decimals=3)\n",
    "h_gate = np.matrix(h_gate)\n",
    "print(\"H Gate \\n{}\\n\".format(h_gate))\n",
    "\n",
    "output = h_gate*one_state\n",
    "print(\"Applying H gate on 1 ket gives \\n{}\\n which is equal to |->\".format(output))"
   ]
  },
  {
   "cell_type": "markdown",
   "metadata": {},
   "source": [
    "<center><b>Hermitian</b></center>\n",
    "<center><b>When a gate is equivalent to its conjugate transpose</b></center>\n",
    "\n",
    "$$H^\\dagger =\\frac{1}{\\sqrt{2}}\\begin{bmatrix} 1 & 1   \\\\ 1 & -1 \\end{bmatrix}$$\n",
    "\n",
    "$$H = H^\\dagger$$\n",
    "<center><b>H gate is Hermitian</b></center>\n",
    "<br/>\n",
    "<center><b>Unitary</b></center>\n",
    "<center><b>When product of a gate and its conjugate transpose is equal to identity matrix, </b></center>\n",
    "<center><b>conjugate transpose acts as inverse of the gate</b></center>\n",
    "<br/>\n",
    "$$HH^\\dagger = \\frac{1}{\\sqrt{2}}\\begin{bmatrix} 1 & 1   \\\\ 1 & -1 \\end{bmatrix}\\frac{1}{\\sqrt{2}}\\begin{bmatrix} 1 & 1   \\\\ 1 & -1 \\end{bmatrix}$$\n",
    "\n",
    "$$HH^\\dagger = \\begin{bmatrix} 1 & 0 \\\\ 0 & 1 \\end{bmatrix}$$\n",
    "\n",
    "$$HH^\\dagger = I$$\n",
    "\n",
    "<center><b>H gate is Unitary</b></center>\n",
    "\n",
    "$$H^\\dagger=H^{-1}$$\n",
    "$$We\\space know,\\space H = H^\\dagger$$\n",
    "<center><b>So H is inverse of itself</b></center>"
   ]
  },
  {
   "cell_type": "markdown",
   "metadata": {},
   "source": [
    "#### Hermitian and Unitary check"
   ]
  },
  {
   "cell_type": "code",
   "execution_count": 26,
   "metadata": {
    "scrolled": false
   },
   "outputs": [
    {
     "name": "stdout",
     "output_type": "stream",
     "text": [
      "It is Hermitian\n",
      "It is Unitary\n"
     ]
    }
   ],
   "source": [
    "check_hermitian(z_gate)\n",
    "check_unitary(z_gate)"
   ]
  },
  {
   "cell_type": "markdown",
   "metadata": {},
   "source": [
    "<center><b>Derivation</b></center>\n",
    "$$H = \\ket{+}\\bra{0} + \\ket{-}\\bra{1}$$ \n",
    "\n",
    "<center>( Equation from eigenvectors and corresponding eigenvalues )</center>\n",
    "\n",
    "$$H = \\frac{1}{\\sqrt{2}}(\\ket{0} + \\ket{1})\\bra{0} + \\frac{1}{\\sqrt{2}}(\\ket{0} - \\ket{1})\\bra{1}$$\n",
    "\n",
    "$$H = \\frac{1}{\\sqrt{2}}(\\ket{0}\\bra{0} + \\ket{1}\\bra{0} + \\ket{0}\\bra{1} - \\ket{1}\\bra{1})$$\n",
    "\n",
    "$$H = \\frac{1}{\\sqrt{2}}(\\begin{bmatrix} 1 \\\\ 0\\end{bmatrix}\\begin{bmatrix} 1 & 0\\end{bmatrix} + \\begin{bmatrix} 0 \\\\ 1\\end{bmatrix}\\begin{bmatrix} 1 & 0\\end{bmatrix} + \\begin{bmatrix} 1 \\\\ 0\\end{bmatrix}\\begin{bmatrix} 0 & 1\\end{bmatrix} - \\begin{bmatrix} 0 \\\\ 1\\end{bmatrix}\\begin{bmatrix} 0 & 1\\end{bmatrix})$$\n",
    "\n",
    "$$H = \\frac{1}{\\sqrt{2}}(\\begin{bmatrix} 1 &  0 \\\\ 0 & 0\\end{bmatrix} + \\begin{bmatrix} 0 &  0 \\\\ 1 & 0\\end{bmatrix} + \\begin{bmatrix} 0 &  1 \\\\ 0 & 0\\end{bmatrix} - \\begin{bmatrix} 0 &  0 \\\\ 0 & 1\\end{bmatrix} $$\n",
    "\n",
    "$$H =\\frac{1}{\\sqrt{2}}\\begin{bmatrix} 1 & 1   \\\\ 1 & -1 \\end{bmatrix}$$\n",
    "<br/>"
   ]
  },
  {
   "cell_type": "code",
   "execution_count": null,
   "metadata": {},
   "outputs": [],
   "source": []
  }
 ],
 "metadata": {
  "kernelspec": {
   "display_name": "Python 3",
   "language": "python",
   "name": "python3"
  },
  "language_info": {
   "codemirror_mode": {
    "name": "ipython",
    "version": 3
   },
   "file_extension": ".py",
   "mimetype": "text/x-python",
   "name": "python",
   "nbconvert_exporter": "python",
   "pygments_lexer": "ipython3",
   "version": "3.8.10"
  }
 },
 "nbformat": 4,
 "nbformat_minor": 4
}
