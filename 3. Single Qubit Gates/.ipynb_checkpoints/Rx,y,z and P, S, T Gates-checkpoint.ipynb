{
 "cells": [
  {
   "cell_type": "markdown",
   "metadata": {},
   "source": [
    "# Single Qubit Gates"
   ]
  },
  {
   "cell_type": "code",
   "execution_count": 1,
   "metadata": {},
   "outputs": [],
   "source": [
    "# importing dependencies\n",
    "from qiskit import QuantumCircuit, ClassicalRegister, QuantumRegister, transpile\n",
    "from qiskit.tools.visualization import circuit_drawer\n",
    "from qiskit.quantum_info import state_fidelity\n",
    "from qiskit import BasicAer\n",
    "from qiskit import Aer, execute, visualization\n",
    "import matplotlib.pyplot as plt\n",
    "import numpy as np\n",
    "from math import pi\n",
    "from math import sqrt "
   ]
  },
  {
   "cell_type": "markdown",
   "metadata": {},
   "source": [
    "## Rx Gate"
   ]
  },
  {
   "cell_type": "markdown",
   "metadata": {},
   "source": [
    "<center><b>Rx($\\theta$) Gate</center></b>\n",
    "<center><b>$\\theta$ degree rotation about x axis,</center></b>\n",
    "$$\\newcommand{\\ket}[1]{|#1\\rangle}$$\n",
    "$$\\newcommand{\\bra}[1]{\\langle#1|}$$\n",
    "<center><b> Rx($\\theta$) Gate matrix</b></center>\n",
    "$$Rx(\\theta) =\\begin{bmatrix} cos(\\frac{\\theta}{2}) & -isin(\\frac{\\theta}{2})   \\\\ -isin(\\frac{\\theta}{2}) & cos(\\frac{\\theta}{2}) \\end{bmatrix}$$\n",
    "<br/>\n",
    "<center><b>Derivation</b></center>\n",
    "$$Rx(\\theta) = e^{-\\frac{i\\theta X}{2}}$$\n",
    "\n",
    "$$Rx(\\theta) = cos(\\frac{\\theta}{2})I -isin(\\frac{\\theta}{2})X$$\n",
    "\n",
    "$$Rx(\\theta) = cos(\\frac{\\theta}{2})\\begin{bmatrix} 1 & 0 \\\\ 0 & 1 \\end{bmatrix} -isin(\\frac{\\theta}{2})\\begin{bmatrix} 0 & 1   \\\\ 1 & 0 \\end{bmatrix}$$\n",
    "\n",
    "$$Rx(\\theta) =\\begin{bmatrix} cos(\\frac{\\theta}{2}) & -isin(\\frac{\\theta}{2})   \\\\ -isin(\\frac{\\theta}{2}) & cos(\\frac{\\theta}{2}) \\end{bmatrix}$$\n",
    "<br/>"
   ]
  },
  {
   "cell_type": "code",
   "execution_count": 2,
   "metadata": {},
   "outputs": [
    {
     "data": {
      "image/png": "[encoded data removed]",
      "text/plain": [
       "<Figure size 146.507x84.28 with 1 Axes>"
      ]
     },
     "metadata": {},
     "output_type": "display_data"
    }
   ],
   "source": [
    "# Rx gate in quantum circuit when theta=pi\n",
    "q = QuantumRegister(1)\n",
    "qc = QuantumCircuit(q)\n",
    "qc.rx(pi, q)\n",
    "display(qc.draw(output=\"mpl\"))"
   ]
  },
  {
   "cell_type": "code",
   "execution_count": 3,
   "metadata": {},
   "outputs": [],
   "source": [
    "# executing the circuit\n",
    "backend = Aer.get_backend('statevector_simulator')\n",
    "b = BasicAer.get_backend('unitary_simulator')\n",
    "job = execute(qc, backend)\n",
    "result = job.result()"
   ]
  },
  {
   "cell_type": "code",
   "execution_count": 4,
   "metadata": {},
   "outputs": [
    {
     "data": {
      "image/png": "[encoded data removed]",
      "text/plain": [
       "<Figure size 504x360 with 1 Axes>"
      ]
     },
     "metadata": {},
     "output_type": "display_data"
    }
   ],
   "source": [
    "# probability of output state\n",
    "counts = result.get_counts(qc)\n",
    "graph = visualization.plot_histogram(counts)\n",
    "display(graph)"
   ]
  },
  {
   "cell_type": "markdown",
   "metadata": {},
   "source": [
    "#### Application by example"
   ]
  },
  {
   "cell_type": "markdown",
   "metadata": {},
   "source": [
    "#### Example 1\n",
    "<center><b>Applying Rx gate on |0> where $\\theta$ = $\\pi$</b></center>\n",
    "$$Rx(\\pi)\\ket{0} = \\begin{bmatrix} 0 & -i   \\\\ -i & 0 \\end{bmatrix}\\begin{bmatrix} 1 \\\\ 0\\end{bmatrix}$$\n",
    "\n",
    "$$Rx(\\pi)\\ket{0} = -i\\begin{bmatrix} 0 \\\\ 1\\end{bmatrix}$$\n",
    "\n",
    "$$Rx(\\pi)\\ket{0} = -i\\ket{1}$$"
   ]
  },
  {
   "cell_type": "markdown",
   "metadata": {},
   "source": [
    "![SegmentLocal](bloch_transformations/rx1_gate.gif \"segment\")"
   ]
  },
  {
   "cell_type": "code",
   "execution_count": 5,
   "metadata": {},
   "outputs": [
    {
     "name": "stdout",
     "output_type": "stream",
     "text": [
      "Initial State \n",
      "[[1.+0.j]\n",
      " [0.+0.j]]\n",
      "\n",
      "Rx Gate when theta=pi \n",
      "[[ 0.+0.j -0.-1.j]\n",
      " [ 0.-1.j  0.+0.j]]\n",
      "\n",
      "Output State  \n",
      "[[0.+0.j]\n",
      " [0.-1.j]]\n",
      "\n"
     ]
    }
   ],
   "source": [
    "zero_state = np.matrix([[1.+0.j],[0.+0.j]])\n",
    "print(\"Initial State \\n{}\\n\".format(zero_state))\n",
    "\n",
    "rx_gate = b.run(transpile(qc, b)).result().get_unitary(qc, decimals=3)\n",
    "rx_gate = np.matrix(rx_gate)\n",
    "print(\"Rx Gate when theta=pi \\n{}\\n\".format(rx_gate))\n",
    "\n",
    "output = rx_gate*zero_state\n",
    "print(\"Output State  \\n{}\\n\".format(output))"
   ]
  },
  {
   "cell_type": "markdown",
   "metadata": {},
   "source": [
    "#### Example 2\n",
    "<center><b>Applying Rx gate on |1> where $\\theta$ = $\\pi$</b></center>\n",
    "$$Rx(\\pi)\\ket{1} = \\begin{bmatrix} 0 & -i   \\\\ -i & 0 \\end{bmatrix}\\begin{bmatrix} 0 \\\\ 1\\end{bmatrix}$$\n",
    "\n",
    "$$Rx(\\pi)\\ket{1} = \\begin{bmatrix} -i \\\\ 0\\end{bmatrix}$$\n",
    "\n",
    "$$Rx(\\pi)\\ket{1} = -i\\ket{0}$$\n",
    "<br/>"
   ]
  },
  {
   "cell_type": "code",
   "execution_count": 6,
   "metadata": {},
   "outputs": [
    {
     "name": "stdout",
     "output_type": "stream",
     "text": [
      "Initial State \n",
      "[[0.+0.j]\n",
      " [1.+0.j]]\n",
      "\n",
      "Rx Gate when theta=pi\n",
      "[[ 0.+0.j -0.-1.j]\n",
      " [ 0.-1.j  0.+0.j]]\n",
      "\n",
      "Output State \n",
      "[[0.-1.j]\n",
      " [0.+0.j]]\n",
      "\n"
     ]
    }
   ],
   "source": [
    "one_state = np.matrix([[0.+0.j],[1.+0.j]])\n",
    "print(\"Initial State \\n{}\\n\".format(one_state))\n",
    "\n",
    "rx_gate = b.run(transpile(qc, b)).result().get_unitary(qc, decimals=3)\n",
    "rx_gate = np.matrix(rx_gate)\n",
    "print(\"Rx Gate when theta=pi\\n{}\\n\".format(rx_gate))\n",
    "\n",
    "output = rx_gate*one_state\n",
    "print(\"Output State \\n{}\\n\".format(output))"
   ]
  },
  {
   "cell_type": "markdown",
   "metadata": {},
   "source": [
    "<center><b>Note:</b></center>\n",
    "$$Rx(\\pi)\\ket{0} = -i\\ket{1} = \\ket{1}\\space (Global\\space Phase \\space can \\space be \\space ignored)$$\n",
    "$$Rx(\\pi)\\ket{1} = -i\\ket{0} = \\ket{0}\\space (Global\\space Phase \\space can \\space be \\space ignored)$$\n",
    "<center><b>Rx($\\pi$) is equivalent to X gate</b></center>\n",
    "<br/>"
   ]
  },
  {
   "cell_type": "markdown",
   "metadata": {},
   "source": [
    "#### Example 3\n",
    "<center><b>Applying Rx gate on |0> where $\\theta$ = $\\frac{\\pi}{2}$</b></center>\n",
    "$$Rx(\\frac{\\pi}{2})\\ket{0} = \\frac{1}{\\sqrt{2}}\\begin{bmatrix} 1 & -i   \\\\ -i & 1\\end{bmatrix}\\begin{bmatrix} 1 \\\\ 0\\end{bmatrix}$$\n",
    "\n",
    "$$Rx(\\frac{\\pi}{2})\\ket{0} = \\frac{1}{\\sqrt{2}}\\begin{bmatrix} 1 \\\\ -i\\end{bmatrix}$$\n",
    "<br/>"
   ]
  },
  {
   "cell_type": "markdown",
   "metadata": {},
   "source": [
    "![SegmentLocal](bloch_transformations/rx2_gate.gif \"segment\")"
   ]
  },
  {
   "cell_type": "code",
   "execution_count": 7,
   "metadata": {
    "scrolled": true
   },
   "outputs": [
    {
     "name": "stdout",
     "output_type": "stream",
     "text": [
      "Initial State \n",
      "[[1.+0.j]\n",
      " [0.+0.j]]\n",
      "\n",
      "Rx Gate when theta=pi/2\n",
      "[[ 0.707+0.j    -0.   -0.707j]\n",
      " [ 0.   -0.707j  0.707+0.j   ]]\n",
      "\n",
      "Output State  \n",
      "[[0.707+0.j   ]\n",
      " [0.   -0.707j]]\n",
      "\n"
     ]
    }
   ],
   "source": [
    "# Rx gate in quantum circuit when theta=pi/2\n",
    "q = QuantumRegister(1)\n",
    "qc = QuantumCircuit(q)\n",
    "qc.rx(pi/2, q)\n",
    "\n",
    "zero_state = np.matrix([[1.+0.j],[0.+0.j]])\n",
    "print(\"Initial State \\n{}\\n\".format(zero_state))\n",
    "\n",
    "rx_gate = b.run(transpile(qc, b)).result().get_unitary(qc, decimals=3)\n",
    "rx_gate = np.matrix(rx_gate)\n",
    "print(\"Rx Gate when theta=pi/2\\n{}\\n\".format(rx_gate))\n",
    "\n",
    "output = rx_gate*zero_state\n",
    "print(\"Output State  \\n{}\\n\".format(output))"
   ]
  },
  {
   "cell_type": "markdown",
   "metadata": {},
   "source": [
    "#### Example 4\n",
    "<center><b>Applying Rx gate on |0> where $\\theta$ = $\\frac{\\pi}{4}$</b></center>\n",
    "$$Rx(\\frac{\\pi}{4})\\ket{0} =\\begin{bmatrix} 0.9238 & -i0.3827   \\\\ -i0.3827 & 0.9238\\end{bmatrix}\\begin{bmatrix} 1 \\\\ 0\\end{bmatrix}$$\n",
    "\n",
    "$$Rx(\\frac{\\pi}{4})\\ket{0} = \\begin{bmatrix} 0.9238 \\\\ -i0.3827\\end{bmatrix}$$\n",
    "<br/>"
   ]
  },
  {
   "cell_type": "markdown",
   "metadata": {},
   "source": [
    "![SegmentLocal](bloch_transformations/rx3_gate.gif \"segment\")"
   ]
  },
  {
   "cell_type": "code",
   "execution_count": 8,
   "metadata": {
    "scrolled": true
   },
   "outputs": [
    {
     "name": "stdout",
     "output_type": "stream",
     "text": [
      "Initial State  \n",
      "[[1.+0.j]\n",
      " [0.+0.j]]\n",
      "\n",
      "Rx Gate when theta=pi/4 \n",
      "[[ 0.924+0.j    -0.   -0.383j]\n",
      " [ 0.   -0.383j  0.924+0.j   ]]\n",
      "\n",
      "Output State \n",
      "[[0.924+0.j   ]\n",
      " [0.   -0.383j]]\n",
      "\n"
     ]
    }
   ],
   "source": [
    "# Rx gate in quantum circuit theta=pi/4\n",
    "q = QuantumRegister(1)\n",
    "qc = QuantumCircuit(q)\n",
    "qc.rx(pi/4, q)\n",
    "\n",
    "zero_state = np.matrix([[1.+0.j],[0.+0.j]])\n",
    "print(\"Initial State  \\n{}\\n\".format(zero_state))\n",
    "\n",
    "rx_gate = b.run(transpile(qc, b)).result().get_unitary(qc, decimals=3)\n",
    "rx_gate = np.matrix(rx_gate)\n",
    "print(\"Rx Gate when theta=pi/4 \\n{}\\n\".format(rx_gate))\n",
    "\n",
    "output = rx_gate*zero_state\n",
    "print(\"Output State \\n{}\\n\".format(output))"
   ]
  },
  {
   "cell_type": "markdown",
   "metadata": {},
   "source": [
    "<center><b>Hermitian</b></center>\n",
    "<center><b>When a gate is equivalent to its conjugate transpose</b></center>\n",
    "\n",
    "$$Rx(\\theta)^\\dagger =\\begin{bmatrix} cos(\\frac{\\theta}{2}) & isin(\\frac{\\theta}{2})   \\\\ isin(\\frac{\\theta}{2}) & cos(\\frac{\\theta}{2}) \\end{bmatrix}$$\n",
    "\n",
    "<center><b>Rx gate is Hermitian when the value of $\\theta$ lets $$Rx(\\theta) = Rx(\\theta)^\\dagger$$</b></center>\n",
    "<br/>\n",
    "<center><b>Unitary</b></center>\n",
    "<center><b>When product of a gate and its conjugate transpose is equal to identity matrix, </b></center>\n",
    "<center><b>conjugate transpose acts as inverse of the gate</b></center>\n",
    "<br/>\n",
    "$$Rx(\\theta)Rx(\\theta)^\\dagger = \\begin{bmatrix} cos(\\frac{\\theta}{2}) & -isin(\\frac{\\theta}{2})   \\\\ -isin(\\frac{\\theta}{2}) & cos(\\frac{\\theta}{2}) \\end{bmatrix}\\begin{bmatrix} cos(\\frac{\\theta}{2}) & isin(\\frac{\\theta}{2})   \\\\ isin(\\frac{\\theta}{2}) & cos(\\frac{\\theta}{2}) \\end{bmatrix}$$\n",
    "\n",
    "$$Rx(\\theta)Rx(\\theta)^\\dagger = \\begin{bmatrix} 1 & 0 \\\\ 0 & 1 \\end{bmatrix}$$\n",
    "\n",
    "$$Rx(\\theta)Rx(\\theta)^\\dagger = I$$\n",
    "<center><b>Rx($\\theta$) gate is Unitary</b></center>\n",
    "\n",
    "$$Rx(\\theta)^\\dagger=Rx(\\theta)^{-1}$$"
   ]
  },
  {
   "cell_type": "markdown",
   "metadata": {},
   "source": [
    "## Ry Gate"
   ]
  },
  {
   "cell_type": "markdown",
   "metadata": {},
   "source": [
    "<center><b>Ry($\\theta$) Gate</center></b>\n",
    "<center><b>$\\theta$ degree rotation about y axis</center></b>\n",
    "$$\\newcommand{\\ket}[1]{|#1\\rangle}$$\n",
    "$$\\newcommand{\\bra}[1]{\\langle#1|}$$\n",
    "<center><b> Ry($\\theta$) Gate matrix</b></center>\n",
    "$$Ry(\\theta) =\\begin{bmatrix} cos(\\frac{\\theta}{2}) & -sin(\\frac{\\theta}{2})   \\\\ sin(\\frac{\\theta}{2}) & cos(\\frac{\\theta}{2}) \\end{bmatrix}$$\n",
    "<br/>\n",
    "<center><b>Derivation</b></center>\n",
    "$$Ry(\\theta) = e^{-\\frac{i\\theta Y}{2}}$$\n",
    "\n",
    "$$Ry(\\theta) = cos(\\frac{\\theta}{2})I -isin(\\frac{\\theta}{2})Y$$\n",
    "\n",
    "$$Ry(\\theta) = cos(\\frac{\\theta}{2})\\begin{bmatrix} 1 & 0 \\\\ 0 & 1 \\end{bmatrix} -isin(\\frac{\\theta}{2})\\begin{bmatrix} 0 & -i   \\\\ i & 0 \\end{bmatrix}$$\n",
    "\n",
    "$$Ry(\\theta) =\\begin{bmatrix} cos(\\frac{\\theta}{2}) & -sin(\\frac{\\theta}{2})   \\\\ sin(\\frac{\\theta}{2}) & cos(\\frac{\\theta}{2}) \\end{bmatrix}$$\n",
    "<br/>"
   ]
  },
  {
   "cell_type": "code",
   "execution_count": 9,
   "metadata": {},
   "outputs": [
    {
     "data": {
      "image/png": "[encoded data removed]",
      "text/plain": [
       "<Figure size 159.923x84.28 with 1 Axes>"
      ]
     },
     "metadata": {},
     "output_type": "display_data"
    },
    {
     "data": {
      "image/png": "[encoded data removed]",
      "text/plain": [
       "<Figure size 504x360 with 1 Axes>"
      ]
     },
     "metadata": {},
     "output_type": "display_data"
    }
   ],
   "source": [
    "# Ry gate in quantum circuit when theta=pi\n",
    "q = QuantumRegister(1)\n",
    "qc = QuantumCircuit(q)\n",
    "qc.ry(pi, q)\n",
    "display(qc.draw(output=\"mpl\"))\n",
    "\n",
    "# executing the circuit\n",
    "backend = Aer.get_backend('statevector_simulator')\n",
    "b = BasicAer.get_backend('unitary_simulator')\n",
    "job = execute(qc, backend)\n",
    "result = job.result()\n",
    "\n",
    "# probability of output state\n",
    "counts = result.get_counts(qc)\n",
    "graph = visualization.plot_histogram(counts)\n",
    "display(graph)"
   ]
  },
  {
   "cell_type": "markdown",
   "metadata": {},
   "source": [
    "#### Application by example"
   ]
  },
  {
   "cell_type": "markdown",
   "metadata": {},
   "source": [
    "#### Example 1\n",
    "<center><b>Applying Ry gate on |0> where $\\theta$ = $\\pi$</b></center>\n",
    "$$Ry(\\pi)\\ket{0} = \\begin{bmatrix} 0 & -1   \\\\ 1 & 0 \\end{bmatrix}\\begin{bmatrix} 1 \\\\ 0\\end{bmatrix}$$\n",
    "\n",
    "$$Ry(\\pi)\\ket{0} = \\begin{bmatrix} 0 \\\\ 1\\end{bmatrix}$$\n",
    "\n",
    "$$Ry(\\pi)\\ket{0} = \\ket{1}$$"
   ]
  },
  {
   "cell_type": "markdown",
   "metadata": {},
   "source": [
    "![SegmentLocal](bloch_transformations/ry1_gate.gif \"segment\")"
   ]
  },
  {
   "cell_type": "code",
   "execution_count": 10,
   "metadata": {},
   "outputs": [
    {
     "name": "stdout",
     "output_type": "stream",
     "text": [
      "Initial State  \n",
      "[[1.+0.j]\n",
      " [0.+0.j]]\n",
      "\n",
      "Ry Gate when theta=pi \n",
      "[[ 0.+0.j -1.+0.j]\n",
      " [ 1.+0.j  0.+0.j]]\n",
      "\n",
      "Output State \n",
      "[[0.+0.j]\n",
      " [1.+0.j]]\n",
      "\n"
     ]
    }
   ],
   "source": [
    "zero_state = np.matrix([[1.+0.j],[0.+0.j]])\n",
    "print(\"Initial State  \\n{}\\n\".format(zero_state))\n",
    "\n",
    "ry_gate = b.run(transpile(qc, b)).result().get_unitary(qc, decimals=3)\n",
    "ry_gate = np.matrix(ry_gate)\n",
    "print(\"Ry Gate when theta=pi \\n{}\\n\".format(ry_gate))\n",
    "\n",
    "output = ry_gate*zero_state\n",
    "print(\"Output State \\n{}\\n\".format(output))"
   ]
  },
  {
   "cell_type": "markdown",
   "metadata": {},
   "source": [
    "#### Example 2\n",
    "<center><b>Applying Ry gate on |1> where $\\theta$ = $\\pi$</b></center>\n",
    "$$Ry(\\pi)\\ket{1} = \\begin{bmatrix} 0 & -1   \\\\ 1 & 0 \\end{bmatrix}\\begin{bmatrix} 0 \\\\ 1\\end{bmatrix}$$\n",
    "\n",
    "$$Ry(\\pi)\\ket{1} = \\begin{bmatrix} -1 \\\\ 0\\end{bmatrix}$$\n",
    "\n",
    "$$Ry(\\pi)\\ket{1} = -\\ket{0}$$\n",
    "<br/>"
   ]
  },
  {
   "cell_type": "code",
   "execution_count": 11,
   "metadata": {},
   "outputs": [
    {
     "name": "stdout",
     "output_type": "stream",
     "text": [
      "Initial State  \n",
      "[[0.+0.j]\n",
      " [1.+0.j]]\n",
      "\n",
      "Ry Gate wheb theta=pi \n",
      "[[ 0.+0.j -1.+0.j]\n",
      " [ 1.+0.j  0.+0.j]]\n",
      "\n",
      "Output State \n",
      "[[-1.+0.j]\n",
      " [ 0.+0.j]]\n",
      "\n"
     ]
    }
   ],
   "source": [
    "one_state = np.matrix([[0.+0.j],[1.+0.j]])\n",
    "print(\"Initial State  \\n{}\\n\".format(one_state))\n",
    "\n",
    "ry_gate = b.run(transpile(qc, b)).result().get_unitary(qc, decimals=3)\n",
    "ry_gate = np.matrix(ry_gate)\n",
    "print(\"Ry Gate wheb theta=pi \\n{}\\n\".format(ry_gate))\n",
    "\n",
    "output = ry_gate*one_state\n",
    "print(\"Output State \\n{}\\n\".format(output))"
   ]
  },
  {
   "cell_type": "markdown",
   "metadata": {},
   "source": [
    "<center><b>Note:</b></center>\n",
    "$$Ry(\\pi)\\ket{0} = \\ket{1} = \\ket{1}\\space (Global\\space Phase \\space can \\space be \\space ignored)$$\n",
    "$$Ry(\\pi)\\ket{1} = -\\ket{0} = \\ket{0}\\space(Global \\space Phase \\space can\\space  be \\space ignored)$$\n",
    "<center><b>Ry($\\pi$) is equivalent to Y gate</b></center>\n",
    "<br/>"
   ]
  },
  {
   "cell_type": "markdown",
   "metadata": {},
   "source": [
    "#### Example 3\n",
    "<center><b>Applying Ry gate on |0> where $\\theta$ = $\\frac{\\pi}{2}$</b></center>\n",
    "$$Ry(\\frac{\\pi}{2})\\ket{0} = \\frac{1}{\\sqrt{2}}\\begin{bmatrix} 1 & -1   \\\\ 1 & 1\\end{bmatrix}\\begin{bmatrix} 1 \\\\ 0\\end{bmatrix}$$\n",
    "\n",
    "$$Ry(\\frac{\\pi}{2})\\ket{0} = \\frac{1}{\\sqrt{2}}\\begin{bmatrix} 1 \\\\ 1\\end{bmatrix}$$\n",
    "\n",
    "$$Ry(\\pi)\\ket{0} = \\ket{+}$$\n",
    "<center><b>Note: Ry($\\frac{\\pi}{2}$) is similar to H gate in terms of end result</b></center>\n",
    "<br/>"
   ]
  },
  {
   "cell_type": "markdown",
   "metadata": {},
   "source": [
    "![SegmentLocal](bloch_transformations/ry2_gate.gif \"segment\")"
   ]
  },
  {
   "cell_type": "code",
   "execution_count": 12,
   "metadata": {
    "scrolled": true
   },
   "outputs": [
    {
     "name": "stdout",
     "output_type": "stream",
     "text": [
      "Initial State  \n",
      "[[1.+0.j]\n",
      " [0.+0.j]]\n",
      "\n",
      "Ry Gate when theta=pi/2 \n",
      "[[ 0.707+0.j -0.707+0.j]\n",
      " [ 0.707+0.j  0.707+0.j]]\n",
      "\n",
      "Output State \n",
      "[[0.707+0.j]\n",
      " [0.707+0.j]]\n",
      "\n"
     ]
    }
   ],
   "source": [
    "# Rx gate in quantum circuit when theta=pi/2\n",
    "q = QuantumRegister(1)\n",
    "qc = QuantumCircuit(q)\n",
    "qc.ry(pi/2, q)\n",
    "\n",
    "zero_state = np.matrix([[1.+0.j],[0.+0.j]])\n",
    "print(\"Initial State  \\n{}\\n\".format(zero_state))\n",
    "\n",
    "ry_gate = b.run(transpile(qc, b)).result().get_unitary(qc, decimals=3)\n",
    "ry_gate = np.matrix(ry_gate)\n",
    "print(\"Ry Gate when theta=pi/2 \\n{}\\n\".format(ry_gate))\n",
    "\n",
    "output = ry_gate*zero_state\n",
    "print(\"Output State \\n{}\\n\".format(output))"
   ]
  },
  {
   "cell_type": "markdown",
   "metadata": {},
   "source": [
    "#### Example 4\n",
    "<center><b>Applying Ry gate on |0> where $\\theta$ = $\\frac{\\pi}{4}$</b></center>\n",
    "$$Ry(\\frac{\\pi}{4})\\ket{0} =\\begin{bmatrix} 0.9238 & -0.3827   \\\\ 0.3827 & 0.9238\\end{bmatrix}\\begin{bmatrix} 1 \\\\ 0\\end{bmatrix}$$\n",
    "\n",
    "$$Ry(\\frac{\\pi}{4})\\ket{0} = \\begin{bmatrix} 0.9238 \\\\ 0.3827\\end{bmatrix}$$\n",
    "<br/>"
   ]
  },
  {
   "cell_type": "markdown",
   "metadata": {},
   "source": [
    "![SegmentLocal](bloch_transformations/ry3_gate.gif \"segment\")"
   ]
  },
  {
   "cell_type": "code",
   "execution_count": 13,
   "metadata": {
    "scrolled": true
   },
   "outputs": [
    {
     "name": "stdout",
     "output_type": "stream",
     "text": [
      "Initial State  \n",
      "[[1.+0.j]\n",
      " [0.+0.j]]\n",
      "\n",
      "Ry Gate when theta=pi/4 \n",
      "[[ 0.924+0.j -0.383+0.j]\n",
      " [ 0.383+0.j  0.924+0.j]]\n",
      "\n",
      "Output State \n",
      "[[0.924+0.j]\n",
      " [0.383+0.j]]\n",
      "\n"
     ]
    }
   ],
   "source": [
    "# Rx gate in quantum circuit when theta=pi/4\n",
    "q = QuantumRegister(1)\n",
    "qc = QuantumCircuit(q)\n",
    "qc.ry(pi/4, q)\n",
    "\n",
    "zero_state = np.matrix([[1.+0.j],[0.+0.j]])\n",
    "print(\"Initial State  \\n{}\\n\".format(zero_state))\n",
    "\n",
    "ry_gate = b.run(transpile(qc, b)).result().get_unitary(qc, decimals=3)\n",
    "ry_gate = np.matrix(ry_gate)\n",
    "print(\"Ry Gate when theta=pi/4 \\n{}\\n\".format(ry_gate))\n",
    "\n",
    "output = ry_gate*zero_state\n",
    "print(\"Output State \\n{}\\n\".format(output))"
   ]
  },
  {
   "cell_type": "markdown",
   "metadata": {},
   "source": [
    "\n",
    "<center><b>Hermitian</b></center>\n",
    "<center><b>When a gate is equivalent to its conjugate transpose</b></center>\n",
    "\n",
    "$$Ry(\\theta)^\\dagger =\\begin{bmatrix} cos(\\frac{\\theta}{2}) & sin(\\frac{\\theta}{2})   \\\\ -sin(\\frac{\\theta}{2}) & cos(\\frac{\\theta}{2}) \\end{bmatrix}$$\n",
    "\n",
    "<center><b>Ry gate is Hermitian when the value of $\\theta$ lets $$Ry(\\theta) = Ry(\\theta)^\\dagger$$</b></center>\n",
    "<br/>\n",
    "<center><b>Unitary</b></center>\n",
    "<center><b>When product of a gate and its conjugate transpose is equal to identity matrix, </b></center>\n",
    "<center><b>conjugate transpose acts as inverse of the gate</b></center>\n",
    "<br/>\n",
    "$$Ry(\\theta)Ry(\\theta)^\\dagger = \\begin{bmatrix} cos(\\frac{\\theta}{2}) & -sin(\\frac{\\theta}{2})   \\\\ sin(\\frac{\\theta}{2}) & cos(\\frac{\\theta}{2}) \\end{bmatrix}\\begin{bmatrix} cos(\\frac{\\theta}{2}) & sin(\\frac{\\theta}{2})   \\\\ -sin(\\frac{\\theta}{2}) & cos(\\frac{\\theta}{2}) \\end{bmatrix}$$\n",
    "\n",
    "$$Ry(\\theta)Ry(\\theta)^\\dagger = \\begin{bmatrix} 1 & 0 \\\\ 0 & 1 \\end{bmatrix}$$\n",
    "\n",
    "$$Ry(\\theta)Ry(\\theta)^\\dagger = I$$\n",
    "<center><b>Ry($\\theta$) gate is Unitary</b></center>\n",
    "\n",
    "$$Ry(\\theta)^\\dagger=Ry(\\theta)^{-1}$$"
   ]
  },
  {
   "cell_type": "markdown",
   "metadata": {},
   "source": [
    "## Rz Gate"
   ]
  },
  {
   "cell_type": "markdown",
   "metadata": {},
   "source": [
    "<center><b>Rz($\\theta$) Gate</center></b>\n",
    "<center><b>$\\theta$ degree rotation about z axis,</center></b>\n",
    "$$\\newcommand{\\ket}[1]{|#1\\rangle}$$\n",
    "$$\\newcommand{\\bra}[1]{\\langle#1|}$$\n",
    "<center><b> Rz($\\theta$) Gate matrix</b></center>\n",
    "$$Rz(\\theta) =\\begin{bmatrix} cos(\\frac{\\theta}{2})-isin(\\frac{\\theta}{2}) & 0  \\\\ 0 & cos(\\frac{\\theta}{2})+isin(\\frac{\\theta}{2})  \\end{bmatrix}$$\n",
    "<br/>\n",
    "<center><b>Derivation</b></center>\n",
    "$$Rz(\\theta) = e^{-\\frac{i\\theta Z}{2}}$$\n",
    "\n",
    "$$Rz(\\theta) = cos(\\frac{\\theta}{2})I -isin(\\frac{\\theta}{2})Z$$\n",
    "\n",
    "$$Rz(\\theta) = cos(\\frac{\\theta}{2})\\begin{bmatrix} 1 & 0 \\\\ 0 & 1 \\end{bmatrix} -isin(\\frac{\\theta}{2})\\begin{bmatrix} 1 & 0   \\\\ 0 & -1 \\end{bmatrix}$$\n",
    "\n",
    "$$Rz(\\theta) =\\begin{bmatrix} cos(\\frac{\\theta}{2})-isin(\\frac{\\theta}{2}) & 0  \\\\ 0 & cos(\\frac{\\theta}{2})+isin(\\frac{\\theta}{2})  \\end{bmatrix}$$\n",
    "<br/>\n",
    "\n",
    "<center><b>Rz($\\pi$) is equivalent to Z gate</b></center>\n",
    "<center><b>Rz($\\frac{\\pi}{2}$) is equivalent to S gate</b></center>\n",
    "<center><b>Rz($\\frac{\\pi}{4}$) is equivalent to T gate</b></center>\n",
    "<br/>"
   ]
  },
  {
   "cell_type": "code",
   "execution_count": 14,
   "metadata": {},
   "outputs": [
    {
     "data": {
      "image/png": "[encoded data removed]",
      "text/plain": [
       "<Figure size 159.923x84.28 with 1 Axes>"
      ]
     },
     "metadata": {},
     "output_type": "display_data"
    },
    {
     "data": {
      "image/png": "[encoded data removed]",
      "text/plain": [
       "<Figure size 504x360 with 1 Axes>"
      ]
     },
     "metadata": {},
     "output_type": "display_data"
    }
   ],
   "source": [
    "# Rz gate in quantum circuit when theta is pi\n",
    "q = QuantumRegister(1)\n",
    "qc = QuantumCircuit(q)\n",
    "qc.rz(pi, q)\n",
    "display(qc.draw(output=\"mpl\"))\n",
    "\n",
    "# executing the circuit\n",
    "backend = Aer.get_backend('statevector_simulator')\n",
    "b = BasicAer.get_backend('unitary_simulator')\n",
    "job = execute(qc, backend)\n",
    "result = job.result()\n",
    "\n",
    "# probability of output state\n",
    "counts = result.get_counts(qc)\n",
    "graph = visualization.plot_histogram(counts)\n",
    "display(graph)"
   ]
  },
  {
   "cell_type": "markdown",
   "metadata": {},
   "source": [
    "#### Application by example"
   ]
  },
  {
   "cell_type": "markdown",
   "metadata": {},
   "source": [
    "#### Example 1\n",
    "<center><b>Applying Rz gate on |+> where $\\theta$ = $\\pi$</b></center>\n",
    "$$Rz(\\pi)\\ket{+} = \\begin{bmatrix} -i & 0   \\\\ 0 & i \\end{bmatrix}\\begin{bmatrix} \\frac{1}{\\sqrt{2}} \\\\ \\frac{1}{\\sqrt{2}}\\end{bmatrix}$$\n",
    "\n",
    "$$Rz(\\pi)\\ket{+} = -i\\begin{bmatrix} \\frac{1}{\\sqrt{2}} \\\\ -\\frac{1}{\\sqrt{2}}\\end{bmatrix}$$\n",
    "\n",
    "$$Rz(\\pi)\\ket{+} = -i\\ket{-}$$"
   ]
  },
  {
   "cell_type": "markdown",
   "metadata": {},
   "source": [
    "![SegmentLocal](bloch_transformations/rz1_gate.gif \"segment\")"
   ]
  },
  {
   "cell_type": "code",
   "execution_count": 15,
   "metadata": {},
   "outputs": [
    {
     "name": "stdout",
     "output_type": "stream",
     "text": [
      "Initial State  \n",
      "[[0.70710678]\n",
      " [0.70710678]]\n",
      "\n",
      "Rz Gate when theta=pi \n",
      "[[0.-1.j 0.+0.j]\n",
      " [0.+0.j 0.+1.j]]\n",
      "\n",
      "Outplut State \n",
      "[[0.-0.70710678j]\n",
      " [0.+0.70710678j]]\n",
      "\n"
     ]
    }
   ],
   "source": [
    "plus_state = np.matrix([[1/sqrt(2)],[1/sqrt(2)]])\n",
    "print(\"Initial State  \\n{}\\n\".format(plus_state))\n",
    "\n",
    "rz_gate = b.run(transpile(qc, b)).result().get_unitary(qc, decimals=3)\n",
    "rz_gate = np.matrix(rz_gate)\n",
    "print(\"Rz Gate when theta=pi \\n{}\\n\".format(rz_gate))\n",
    "\n",
    "output = rz_gate*plus_state\n",
    "print(\"Outplut State \\n{}\\n\".format(output))"
   ]
  },
  {
   "cell_type": "markdown",
   "metadata": {},
   "source": [
    "#### Example 2\n",
    "<center><b>Applying Rx gate on |-> where $\\theta$ = $\\pi$</b></center>\n",
    "$$Rz(\\pi)\\ket{-} = \\begin{bmatrix} -i & 0   \\\\ 0 & i \\end{bmatrix}\\begin{bmatrix} \\frac{1}{\\sqrt{2}} \\\\ -\\frac{1}{\\sqrt{2}}\\end{bmatrix}$$\n",
    "\n",
    "$$Rz(\\pi)\\ket{-} = -i\\begin{bmatrix} \\frac{1}{\\sqrt{2}}\\\\ \\frac{1}{\\sqrt{2}}\\end{bmatrix}$$\n",
    "\n",
    "$$Rz(\\pi)\\ket{-} = -i\\ket{+}$$\n",
    "<br/>"
   ]
  },
  {
   "cell_type": "code",
   "execution_count": 16,
   "metadata": {},
   "outputs": [
    {
     "name": "stdout",
     "output_type": "stream",
     "text": [
      "|-> \n",
      "[[ 0.70710678]\n",
      " [-0.70710678]]\n",
      "\n",
      "Rz Gate wheb theta=pi \n",
      "[[0.-1.j 0.+0.j]\n",
      " [0.+0.j 0.+1.j]]\n",
      "\n",
      "Output State \n",
      "[[0.-0.70710678j]\n",
      " [0.-0.70710678j]]\n",
      "\n"
     ]
    }
   ],
   "source": [
    "minus_state = np.matrix([[1/sqrt(2)],[-1/sqrt(2)]])\n",
    "print(\"|-> \\n{}\\n\".format(minus_state))\n",
    "\n",
    "rz_gate = b.run(transpile(qc, b)).result().get_unitary(qc, decimals=3)\n",
    "rz_gate = np.matrix(rz_gate)\n",
    "print(\"Rz Gate wheb theta=pi \\n{}\\n\".format(rz_gate))\n",
    "\n",
    "output = rz_gate*minus_state\n",
    "print(\"Output State \\n{}\\n\".format(output))"
   ]
  },
  {
   "cell_type": "markdown",
   "metadata": {},
   "source": [
    "<center><b>Note:</b></center>\n",
    "$$Rz(\\pi)\\ket{+} = -i\\ket{-} = \\ket{-}\\space (Global\\space Phase \\space can \\space be \\space ignored)$$\n",
    "$$Rz(\\pi)\\ket{-} = -i\\ket{+} = \\ket{+}\\space (Global\\space Phase \\space can \\space be \\space ignored)$$\n",
    "<center><b>Rz($\\pi$) is equivalent to Z gate</b></center>"
   ]
  },
  {
   "cell_type": "markdown",
   "metadata": {},
   "source": [
    "#### Example 3\n",
    "<center><b>Applying Rz gate on |+> where $\\theta$ = $\\frac{\\pi}{2}$</b></center>\n",
    "$$Rz(\\frac{\\pi}{2})\\ket{+} = \\frac{1}{\\sqrt{2}}\\begin{bmatrix} 1-i & 0   \\\\ 0 & 1+i\\end{bmatrix}\\begin{bmatrix} \\frac{1}{\\sqrt{2}} \\\\ \\frac{1}{\\sqrt{2}}\\end{bmatrix}$$\n",
    "\n",
    "$$Rz(\\frac{\\pi}{2})\\ket{+} = \\frac{1}{{2}}\\begin{bmatrix} 1-i \\\\ 1+i\\end{bmatrix}$$\n",
    "<br/>"
   ]
  },
  {
   "cell_type": "markdown",
   "metadata": {},
   "source": [
    "![SegmentLocal](bloch_transformations/rz2_gate.gif \"segment\")"
   ]
  },
  {
   "cell_type": "code",
   "execution_count": 17,
   "metadata": {
    "scrolled": true
   },
   "outputs": [
    {
     "name": "stdout",
     "output_type": "stream",
     "text": [
      "Initial State  \n",
      "[[0.70710678]\n",
      " [0.70710678]]\n",
      "\n",
      "Rz Gate when theta=pi/2 \n",
      "[[0.707-0.707j 0.   +0.j   ]\n",
      " [0.   +0.j    0.707+0.707j]]\n",
      "\n",
      "Output State \n",
      "[[0.49992449-0.49992449j]\n",
      " [0.49992449+0.49992449j]]\n",
      "\n"
     ]
    }
   ],
   "source": [
    "# Rz gate in quantum circuit when theta=pi/2\n",
    "q = QuantumRegister(1)\n",
    "qc = QuantumCircuit(q)\n",
    "qc.rz(pi/2, q)\n",
    "\n",
    "print(\"Initial State  \\n{}\\n\".format(plus_state))\n",
    "\n",
    "rz_gate = b.run(transpile(qc, b)).result().get_unitary(qc, decimals=3)\n",
    "rz_gate = np.matrix(rz_gate)\n",
    "print(\"Rz Gate when theta=pi/2 \\n{}\\n\".format(rz_gate))\n",
    "\n",
    "output = rz_gate*plus_state\n",
    "print(\"Output State \\n{}\\n\".format(output))"
   ]
  },
  {
   "cell_type": "markdown",
   "metadata": {},
   "source": [
    "#### Example 4\n",
    "<center><b>Applying Rz gate on |+> where $\\theta$ = $\\frac{\\pi}{4}$</b></center>\n",
    "$$Rz(\\frac{\\pi}{4})\\ket{+} =\\begin{bmatrix} 0.9238-i0.3827 & 0   \\\\ 0 & 0.9238+i0.3827\\end{bmatrix}\\begin{bmatrix} \\frac{1}{\\sqrt{2}} \\\\ \\frac{1}{\\sqrt{2}}\\end{bmatrix}$$\n",
    "\n",
    "$$Rz(\\frac{\\pi}{4})\\ket{+} = \\frac{1}{\\sqrt{2}}\\begin{bmatrix} 0.9238-i0.3827 \\\\ 0.9238+i0.3827\\end{bmatrix}$$\n",
    "<br/>"
   ]
  },
  {
   "cell_type": "markdown",
   "metadata": {},
   "source": [
    "![SegmentLocal](bloch_transformations/rz3_gate.gif \"segment\")"
   ]
  },
  {
   "cell_type": "code",
   "execution_count": 18,
   "metadata": {
    "scrolled": true
   },
   "outputs": [
    {
     "name": "stdout",
     "output_type": "stream",
     "text": [
      "Initial State  \n",
      "[[0.70710678]\n",
      " [0.70710678]]\n",
      "\n",
      "Rz Gate when theta=pi/4 \n",
      "[[0.924-0.383j 0.   +0.j   ]\n",
      " [0.   +0.j    0.924+0.383j]]\n",
      "\n",
      "Output State \n",
      "[[0.65336667-0.2708219j]\n",
      " [0.65336667+0.2708219j]]\n",
      "\n"
     ]
    }
   ],
   "source": [
    "# Rx gate in quantum circuit when theta=pi/4\n",
    "q = QuantumRegister(1)\n",
    "qc = QuantumCircuit(q)\n",
    "qc.rz(pi/4, q)\n",
    "\n",
    "print(\"Initial State  \\n{}\\n\".format(plus_state))\n",
    "\n",
    "rz_gate = b.run(transpile(qc, b)).result().get_unitary(qc, decimals=3)\n",
    "rz_gate = np.matrix(rz_gate)\n",
    "print(\"Rz Gate when theta=pi/4 \\n{}\\n\".format(rz_gate))\n",
    "\n",
    "output = rz_gate*plus_state\n",
    "print(\"Output State \\n{}\\n\".format(output))"
   ]
  },
  {
   "cell_type": "markdown",
   "metadata": {},
   "source": [
    "<center><b>Hermitian</b></center>\n",
    "<center><b>When a gate is equivalent to its conjugate transpose</b></center>\n",
    "\n",
    "$$Rz(\\theta)^\\dagger =\\begin{bmatrix} cos(\\frac{\\theta}{2})+isin(\\frac{\\theta}{2}) & 0   \\\\ 0 & cos(\\frac{\\theta}{2})-isin(\\frac{\\theta}{2}) \\end{bmatrix}$$\n",
    "\n",
    "<center><b>Rz gate is Hermitian when the value of $\\theta$ lets $$Rz(\\theta) = Rz(\\theta)^\\dagger$$</b></center>\n",
    "<br/>\n",
    "<center><b>Unitary</b></center>\n",
    "<center><b>When product of a gate and its conjugate transpose is equal to identity matrix, </b></center>\n",
    "<center><b>conjugate transpose acts as inverse of the gate</b></center>\n",
    "<br/>\n",
    "$$Rz(\\theta)Rz(\\theta)^\\dagger = \\begin{bmatrix} cos(\\frac{\\theta}{2})-isin(\\frac{\\theta}{2}) & 0  \\\\ 0 & cos(\\frac{\\theta}{2})+isin(\\frac{\\theta}{2}) \\end{bmatrix}\\begin{bmatrix} cos(\\frac{\\theta}{2})+isin(\\frac{\\theta}{2}) & 0   \\\\ 0 & cos(\\frac{\\theta}{2})-isin(\\frac{\\theta}{2})\\end{bmatrix}$$\n",
    "\n",
    "$$Rz(\\theta)Rz(\\theta)^\\dagger = \\begin{bmatrix} 1 & 0 \\\\ 0 & 1 \\end{bmatrix}$$\n",
    "\n",
    "$$Rz(\\theta)Rz(\\theta)^\\dagger = I$$\n",
    "<center><b>Rz($\\theta$) gate is Unitary</b></center>\n",
    "\n",
    "$$Rz(\\theta)^\\dagger=Rz(\\theta)^{-1}$$"
   ]
  },
  {
   "cell_type": "markdown",
   "metadata": {},
   "source": [
    "## P Gate"
   ]
  },
  {
   "cell_type": "markdown",
   "metadata": {},
   "source": [
    "<center><b>P($\\theta$) Gate</b></center>\n",
    "<center><b>$\\theta$ degree rotation about z axis</b></center>\n",
    "$$\\newcommand{\\ket}[1]{|#1\\rangle}$$\n",
    "$$\\newcommand{\\bra}[1]{\\langle#1|}$$\n",
    "<center><b> P($\\theta$) Gate matrix</b></center>\n",
    "$$P(\\theta) =\\begin{bmatrix} 1 & 0  \\\\ 0 & e^{i\\theta}  \\end{bmatrix}$$\n",
    "<br/>\n",
    "<center><b>Derivation</b></center>\n",
    "$$P(\\theta) = e^{\\frac{i\\theta}{2}}Rz(\\theta)$$\n",
    "<br>\n",
    "\n",
    "<center><b>P($\\pi$) is equivalent to Z gate</b></center>\n",
    "<center><b>P($\\frac{\\pi}{2}$) is equivalent to S gate</b></center>\n",
    "<center><b>P($\\frac{\\pi}{4}$) is equivalent to T gate</b></center>\n",
    "<br/>"
   ]
  },
  {
   "cell_type": "code",
   "execution_count": 19,
   "metadata": {},
   "outputs": [
    {
     "data": {
      "image/png": "[encoded data removed]",
      "text/plain": [
       "<Figure size 159.923x84.28 with 1 Axes>"
      ]
     },
     "metadata": {},
     "output_type": "display_data"
    },
    {
     "data": {
      "image/png": "[encoded data removed]",
      "text/plain": [
       "<Figure size 504x360 with 1 Axes>"
      ]
     },
     "metadata": {},
     "output_type": "display_data"
    }
   ],
   "source": [
    "# P gate in quantum circuit when theta=pi\n",
    "q = QuantumRegister(1)\n",
    "qc = QuantumCircuit(q)\n",
    "qc.p(pi, q)\n",
    "display(qc.draw(output=\"mpl\"))\n",
    "\n",
    "# executing the circuit\n",
    "backend = Aer.get_backend('statevector_simulator')\n",
    "b = BasicAer.get_backend('unitary_simulator')\n",
    "job = execute(qc, backend)\n",
    "result = job.result()\n",
    "\n",
    "# probability of output state\n",
    "counts = result.get_counts(qc)\n",
    "graph = visualization.plot_histogram(counts)\n",
    "display(graph)"
   ]
  },
  {
   "cell_type": "markdown",
   "metadata": {},
   "source": [
    "#### Application by example"
   ]
  },
  {
   "cell_type": "markdown",
   "metadata": {},
   "source": [
    "#### Example 1\n",
    "<center><b>Applying P gate on |+> where $\\theta$ = $\\pi$</b></center>\n",
    "$$P(\\pi)\\ket{+} = \\begin{bmatrix} 1 & 0   \\\\ 0 & -1 \\end{bmatrix}\\begin{bmatrix} \\frac{1}{\\sqrt{2}} \\\\ \\frac{1}{\\sqrt{2}}\\end{bmatrix}$$\n",
    "\n",
    "$$P(\\pi)\\ket{+} = \\begin{bmatrix} \\frac{1}{\\sqrt{2}} \\\\ -\\frac{1}{\\sqrt{2}}\\end{bmatrix}$$\n",
    "\n",
    "$$P(\\pi)\\ket{+} = \\ket{-}$$\n",
    "<br>"
   ]
  },
  {
   "cell_type": "code",
   "execution_count": 20,
   "metadata": {},
   "outputs": [
    {
     "name": "stdout",
     "output_type": "stream",
     "text": [
      "Initial State  \n",
      "[[0.70710678]\n",
      " [0.70710678]]\n",
      "\n",
      "P Gate when theta=pi \n",
      "[[ 1.+0.j  0.+0.j]\n",
      " [ 0.+0.j -1.+0.j]]\n",
      "\n",
      "Outplut State \n",
      "[[ 0.70710678+0.j]\n",
      " [-0.70710678+0.j]]\n",
      "\n"
     ]
    }
   ],
   "source": [
    "plus_state = np.matrix([[1/sqrt(2)],[1/sqrt(2)]])\n",
    "print(\"Initial State  \\n{}\\n\".format(plus_state))\n",
    "\n",
    "p_gate = b.run(transpile(qc, b)).result().get_unitary(qc, decimals=3)\n",
    "p_gate = np.matrix(p_gate)\n",
    "print(\"P Gate when theta=pi \\n{}\\n\".format(p_gate))\n",
    "\n",
    "output = p_gate*plus_state\n",
    "print(\"Outplut State \\n{}\\n\".format(output))"
   ]
  },
  {
   "cell_type": "markdown",
   "metadata": {},
   "source": [
    "#### Example 2\n",
    "<center><b>Applying P gate on |-> where $\\theta$ = $\\pi$</b></center>\n",
    "$$P(\\pi)\\ket{-} = \\begin{bmatrix} 1 & 0   \\\\ 0 & -1 \\end{bmatrix}\\begin{bmatrix} \\frac{1}{\\sqrt{2}} \\\\ -\\frac{1}{\\sqrt{2}}\\end{bmatrix}$$\n",
    "\n",
    "$$P(\\pi)\\ket{-} = \\begin{bmatrix} \\frac{1}{\\sqrt{2}}\\\\ \\frac{1}{\\sqrt{2}}\\end{bmatrix}$$\n",
    "\n",
    "$$P(\\pi)\\ket{-} = \\ket{+}$$\n",
    "<br/>"
   ]
  },
  {
   "cell_type": "code",
   "execution_count": 21,
   "metadata": {},
   "outputs": [
    {
     "name": "stdout",
     "output_type": "stream",
     "text": [
      "Initial State  \n",
      "[[ 0.70710678]\n",
      " [-0.70710678]]\n",
      "\n",
      "P Gate wheb theta=pi \n",
      "[[ 1.+0.j  0.+0.j]\n",
      " [ 0.+0.j -1.+0.j]]\n",
      "\n",
      "Output State \n",
      "[[0.70710678+0.j]\n",
      " [0.70710678+0.j]]\n",
      "\n"
     ]
    }
   ],
   "source": [
    "minus_state = np.matrix([[1/sqrt(2)],[-1/sqrt(2)]])\n",
    "print(\"Initial State  \\n{}\\n\".format(minus_state))\n",
    "\n",
    "p_gate = b.run(transpile(qc, b)).result().get_unitary(qc, decimals=3)\n",
    "p_gate = np.matrix(p_gate)\n",
    "print(\"P Gate wheb theta=pi \\n{}\\n\".format(p_gate))\n",
    "\n",
    "output = p_gate*minus_state\n",
    "print(\"Output State \\n{}\\n\".format(output))"
   ]
  },
  {
   "cell_type": "markdown",
   "metadata": {},
   "source": [
    "<center><b>Note:</b></center>\n",
    "$$Rz(\\pi)\\ket{+} = \\ket{-}$$\n",
    "$$Rz(\\pi)\\ket{-} = \\ket{+}$$\n",
    "<center><b>P($\\pi$) is  Z gate</b></center>"
   ]
  },
  {
   "cell_type": "markdown",
   "metadata": {},
   "source": [
    "#### Example 3\n",
    "<center><b>Applying P gate on |+> where $\\theta$ = $\\frac{\\pi}{2}$</b></center>\n",
    "$$P(\\frac{\\pi}{2})\\ket{+} = \\begin{bmatrix} 1 & 0   \\\\ 0 & i\\end{bmatrix}\\begin{bmatrix} \\frac{1}{\\sqrt{2}} \\\\ \\frac{1}{\\sqrt{2}}\\end{bmatrix}$$\n",
    "\n",
    "$$P(\\frac{\\pi}{2})\\ket{+} = \\frac{1}{\\sqrt{2}}\\begin{bmatrix} 1 \\\\ i\\end{bmatrix}$$\n",
    "<br>"
   ]
  },
  {
   "cell_type": "code",
   "execution_count": 22,
   "metadata": {
    "scrolled": true
   },
   "outputs": [
    {
     "name": "stdout",
     "output_type": "stream",
     "text": [
      "Initial State  \n",
      "[[0.70710678]\n",
      " [0.70710678]]\n",
      "\n",
      "P Gate when theta=pi/2 \n",
      "[[1.+0.j 0.+0.j]\n",
      " [0.+0.j 0.+1.j]]\n",
      "\n",
      "Output State \n",
      "[[0.70710678+0.j        ]\n",
      " [0.        +0.70710678j]]\n",
      "\n"
     ]
    }
   ],
   "source": [
    "# P gate in quantum circuit when theta=pi/2\n",
    "q = QuantumRegister(1)\n",
    "qc = QuantumCircuit(q)\n",
    "qc.p(pi/2, q)\n",
    "\n",
    "print(\"Initial State  \\n{}\\n\".format(plus_state))\n",
    "\n",
    "p_gate = b.run(transpile(qc, b)).result().get_unitary(qc, decimals=3)\n",
    "p_gate = np.matrix(p_gate)\n",
    "print(\"P Gate when theta=pi/2 \\n{}\\n\".format(p_gate))\n",
    "\n",
    "output = p_gate*plus_state\n",
    "print(\"Output State \\n{}\\n\".format(output))"
   ]
  },
  {
   "cell_type": "markdown",
   "metadata": {},
   "source": [
    "#### Example 4\n",
    "<center><b>Applying P gate on |+> where $\\theta$ = $\\frac{\\pi}{4}$</b></center>\n",
    "$$P(\\frac{\\pi}{4})\\ket{+} =\\begin{bmatrix} 1 & 0   \\\\ 0 & e^{\\frac{i\\pi}{4}}\\end{bmatrix}\\begin{bmatrix} \\frac{1}{\\sqrt{2}} \\\\ \\frac{1}{\\sqrt{2}}\\end{bmatrix}$$\n",
    "\n",
    "$$P(\\frac{\\pi}{4})\\ket{+} = \\frac{1}{\\sqrt{2}}\\begin{bmatrix} 1 \\\\ e^{\\frac{i\\pi}{4}}\\end{bmatrix}$$\n",
    "<br/>"
   ]
  },
  {
   "cell_type": "code",
   "execution_count": 23,
   "metadata": {
    "scrolled": true
   },
   "outputs": [
    {
     "name": "stdout",
     "output_type": "stream",
     "text": [
      "Initial State  \n",
      "[[0.70710678]\n",
      " [0.70710678]]\n",
      "\n",
      "P Gate when theta=pi/4 \n",
      "[[1.   +0.j    0.   +0.j   ]\n",
      " [0.   +0.j    0.707+0.707j]]\n",
      "\n",
      "Output State \n",
      "[[0.70710678+0.j        ]\n",
      " [0.49992449+0.49992449j]]\n",
      "\n"
     ]
    }
   ],
   "source": [
    "# P gate in quantum circuit when theta=pi/4\n",
    "q = QuantumRegister(1)\n",
    "qc = QuantumCircuit(q)\n",
    "qc.p(pi/4, q)\n",
    "\n",
    "print(\"Initial State  \\n{}\\n\".format(plus_state))\n",
    "\n",
    "p_gate = b.run(transpile(qc, b)).result().get_unitary(qc, decimals=3)\n",
    "p_gate = np.matrix(p_gate)\n",
    "print(\"P Gate when theta=pi/4 \\n{}\\n\".format(p_gate))\n",
    "\n",
    "output = p_gate*plus_state\n",
    "print(\"Output State \\n{}\\n\".format(output))"
   ]
  },
  {
   "cell_type": "markdown",
   "metadata": {},
   "source": [
    "<center><b>Hermitian</b></center>\n",
    "<center><b>When a gate is equivalent to its conjugate transpose</b></center>\n",
    "\n",
    "$$P(\\theta)^\\dagger =\\begin{bmatrix} 1 & 0   \\\\ 0 & e^{-i\\theta} \\end{bmatrix}$$\n",
    "\n",
    "<center><b>P gate is Hermitian when the value of $\\theta$ lets $$P(\\theta) = P(\\theta)^\\dagger$$</b></center>\n",
    "<br/>\n",
    "<center><b>Unitary</b></center>\n",
    "<center><b>When product of a gate and its conjugate transpose is equal to identity matrix, </b></center>\n",
    "<center><b>conjugate transpose acts as inverse of the gate</b></center>\n",
    "<br/>\n",
    "$$P(\\theta)P(\\theta)^\\dagger = \\begin{bmatrix} 1 & 0   \\\\ 0 & e^{i\\theta} \\end{bmatrix}\\begin{bmatrix} 1 & 0   \\\\ 0 & e^{-i\\theta} \\end{bmatrix}$$\n",
    "\n",
    "$$P(\\theta)P(\\theta)^\\dagger = \\begin{bmatrix} 1 & 0 \\\\ 0 & 1 \\end{bmatrix}$$\n",
    "\n",
    "$$P(\\theta)P(\\theta)^\\dagger = I$$\n",
    "<center><b>P($\\theta$) gate is Unitary</b></center>\n",
    "\n",
    "$$P(\\theta)^\\dagger=P(\\theta)^{-1}$$"
   ]
  },
  {
   "cell_type": "markdown",
   "metadata": {},
   "source": [
    "## S Gate"
   ]
  },
  {
   "cell_type": "markdown",
   "metadata": {},
   "source": [
    "<center><b>S Gate</b></center>\n",
    "<center><b>90 degree rotation about z axis</b></center>\n",
    "$$\\newcommand{\\ket}[1]{|#1\\rangle}$$\n",
    "$$\\newcommand{\\bra}[1]{\\langle#1|}$$\n",
    "<center><b> S Gate matrix</b></center>\n",
    "$$S =\\begin{bmatrix} 1 & 0   \\\\ 0 & i \\end{bmatrix}$$\n",
    "<br>\n",
    "\n",
    "<center><b>SS = S$^2$ = Z</b></center>\n",
    "<center><b>Rz($\\frac{\\pi}{2}$)Rz($\\frac{\\pi}{2}$) = Rz($\\pi$)</b></center>\n",
    "<center><b>P($\\frac{\\pi}{2}$)P($\\frac{\\pi}{2}$) = P($\\pi$)</b></center>\n",
    "<br>"
   ]
  },
  {
   "cell_type": "markdown",
   "metadata": {},
   "source": [
    "![SegmentLocal](bloch_transformations/s_gate.gif \"segment\")"
   ]
  },
  {
   "cell_type": "code",
   "execution_count": 24,
   "metadata": {},
   "outputs": [
    {
     "data": {
      "image/png": "[encoded data removed]",
      "text/plain": [
       "<Figure size 233.249x84.28 with 1 Axes>"
      ]
     },
     "metadata": {},
     "output_type": "display_data"
    },
    {
     "data": {
      "image/png": "[encoded data removed]",
      "text/plain": [
       "<Figure size 504x360 with 1 Axes>"
      ]
     },
     "metadata": {},
     "output_type": "display_data"
    }
   ],
   "source": [
    "# S gate in quantum circuit\n",
    "q = QuantumRegister(1)\n",
    "qc = QuantumCircuit(q)\n",
    "qc.s(q)\n",
    "qc.s(q)\n",
    "display(qc.draw(output=\"mpl\"))\n",
    "\n",
    "# executing the circuit\n",
    "backend = Aer.get_backend('statevector_simulator')\n",
    "b = BasicAer.get_backend('unitary_simulator')\n",
    "job = execute(qc, backend)\n",
    "result = job.result()\n",
    "\n",
    "# probability of output state\n",
    "counts = result.get_counts(qc)\n",
    "graph = visualization.plot_histogram(counts)\n",
    "display(graph)"
   ]
  },
  {
   "cell_type": "markdown",
   "metadata": {},
   "source": [
    "#### Application by example"
   ]
  },
  {
   "cell_type": "markdown",
   "metadata": {},
   "source": [
    "<center><b>Applying S gate on |+></b></center>\n",
    "$$S\\ket{+} = \\begin{bmatrix} 1 & 0   \\\\ 0 & i \\end{bmatrix}\\begin{bmatrix} \\frac{1}{\\sqrt{2}} \\\\ \\frac{1}{\\sqrt{2}}\\end{bmatrix}$$\n",
    "\n",
    "$$S\\ket{+} = \\begin{bmatrix} \\frac{1}{\\sqrt{2}} \\\\ i\\frac{1}{\\sqrt{2}}\\end{bmatrix}$$\n",
    "\n",
    "$$S\\ket{+} = \\frac{1}{\\sqrt{2}} \\begin{bmatrix} 1 \\\\ i\\end{bmatrix}$$\n",
    "<br>\n",
    "<center><b>Applying S gate on $$\\frac{1}{\\sqrt{2}}\\begin{bmatrix} 1 \\\\ i\\end{bmatrix}$$</b></center>\n",
    "$$S\\frac{1}{\\sqrt{2}}\\begin{bmatrix} 1 \\\\ i\\end{bmatrix} = \\begin{bmatrix} 1 & 0   \\\\ 0 & i \\end{bmatrix}\\frac{1}{\\sqrt{2}}\\begin{bmatrix} 1 \\\\ i\\end{bmatrix}$$\n",
    "\n",
    "$$S\\frac{1}{\\sqrt{2}}\\begin{bmatrix} 1 \\\\ i\\end{bmatrix} = \\frac{1}{\\sqrt{2}}\\begin{bmatrix} 1 \\\\ -1\\end{bmatrix}$$\n",
    "\n",
    "$$S\\frac{1}{\\sqrt{2}}\\begin{bmatrix} 1 \\\\ i\\end{bmatrix} = \\ket{-}$$\n",
    "<br>\n",
    "<center><b>Applying S Gate twice is same as Z Gate</b></center>\n",
    "$$S\\ket{+} = \\frac{1}{\\sqrt{2}} \\begin{bmatrix} 1 \\\\ i\\end{bmatrix} = \\ket{intermediate}$$\n",
    "$$S\\ket{intermediate} = \\ket{+}$$\n",
    "<br>\n",
    "<center><b>SS = S$^2$ = Z</b></center>\n",
    "<center><b>Rz($\\frac{\\pi}{2}$)Rz($\\frac{\\pi}{2}$) = Rz($\\pi$)</b></center>\n",
    "<center><b>P($\\frac{\\pi}{2}$)P($\\frac{\\pi}{2}$) = P($\\pi$)</b></center>\n",
    "<br>"
   ]
  },
  {
   "cell_type": "code",
   "execution_count": 25,
   "metadata": {},
   "outputs": [
    {
     "name": "stdout",
     "output_type": "stream",
     "text": [
      "Initial State  \n",
      "[[0.70710678]\n",
      " [0.70710678]]\n",
      "\n",
      "SS Gate \n",
      "[[ 1.+0.j  0.+0.j]\n",
      " [ 0.+0.j -1.-0.j]]\n",
      "\n",
      "Output State \n",
      "[[ 0.70710678+0.j]\n",
      " [-0.70710678+0.j]]\n",
      "\n"
     ]
    }
   ],
   "source": [
    "print(\"Initial State  \\n{}\\n\".format(plus_state))\n",
    "\n",
    "ss_gate = b.run(transpile(qc, b)).result().get_unitary(qc, decimals=3)\n",
    "ss_gate = np.matrix(ss_gate)\n",
    "print(\"SS Gate \\n{}\\n\".format(ss_gate))\n",
    "\n",
    "output = ss_gate*plus_state\n",
    "print(\"Output State \\n{}\\n\".format(output))"
   ]
  },
  {
   "cell_type": "markdown",
   "metadata": {},
   "source": [
    "<center><b>Hermitian</b></center>\n",
    "<center><b>When a gate is equivalent to its conjugate transpose</b></center>\n",
    "\n",
    "$$S^\\dagger =\\begin{bmatrix} 1 & 0   \\\\ 0 & -i \\end{bmatrix}$$\n",
    "\n",
    "$$S\\space is\\space not\\space equal\\space to\\space S^\\dagger$$\n",
    "<center><b>S gate is not Hermitian</b></center>\n",
    "<br>\n",
    "<center><b>Unitary</b></center>\n",
    "<center><b>When product of a gate and its conjugate transpose is equal to identity matrix, </b></center>\n",
    "<center><b>conjugate transpose acts as inverse of the gate</b></center>\n",
    "<br>\n",
    "$$SS^\\dagger = \\begin{bmatrix}1 & 0   \\\\ 0 & i \\end{bmatrix}\\begin{bmatrix} 1 & 0   \\\\ 0 & -i \\end{bmatrix}$$\n",
    "\n",
    "$$SS^\\dagger = \\begin{bmatrix} 1 & 0 \\\\ 0 & 1 \\end{bmatrix}$$\n",
    "\n",
    "$$SS^\\dagger = I$$\n",
    "<center><b>S gate is Unitary</b></center>\n",
    "\n",
    "$$S^\\dagger=S^{-1}$$\n",
    "$$S\\space is\\space not\\space S^{-1}$$"
   ]
  },
  {
   "cell_type": "markdown",
   "metadata": {},
   "source": [
    "## T Gate"
   ]
  },
  {
   "cell_type": "markdown",
   "metadata": {},
   "source": [
    "<center><b>T Gate</b></center>\n",
    "<center><b>45 degree rotation about z axis</b></center>\n",
    "$$\\newcommand{\\ket}[1]{|#1\\rangle}$$\n",
    "$$\\newcommand{\\bra}[1]{\\langle#1|}$$\n",
    "<center><b> T Gate matrix</b></center>\n",
    "$$T =\\begin{bmatrix} 1 & 0   \\\\ 0 & e^{\\frac{i\\pi}{4}} \\end{bmatrix}$$\n",
    "<br>\n",
    "<center><b>Applying T Gate twice is same as S Gate</b></center>\n",
    "<center><b>TT = T$^2$ = S</b></center>\n",
    "<center><b>Rz($\\frac{\\pi}{4}$)Rz($\\frac{\\pi}{4}$) = Rz($\\frac{\\pi}{2}$)</b></center>\n",
    "<center><b>P($\\frac{\\pi}{4}$)P($\\frac{\\pi}{4}$) = P($\\frac{\\pi}{2}$)</b></center>\n",
    "<br>\n",
    "<center><b>Applying T Gate 4X is same as Z Gate</b></center>\n",
    "<center><b>TTTT = T$^4$ = SS = S$^2$ = Z</b></center>\n",
    "<br>"
   ]
  },
  {
   "cell_type": "markdown",
   "metadata": {},
   "source": [
    "![SegmentLocal](bloch_transformations/t_gate.gif \"segment\")"
   ]
  },
  {
   "cell_type": "code",
   "execution_count": 26,
   "metadata": {
    "scrolled": true
   },
   "outputs": [
    {
     "data": {
      "image/png": "[encoded data removed]",
      "text/plain": [
       "<Figure size 233.395x84.28 with 1 Axes>"
      ]
     },
     "metadata": {},
     "output_type": "display_data"
    },
    {
     "data": {
      "image/png": "[encoded data removed]",
      "text/plain": [
       "<Figure size 504x360 with 1 Axes>"
      ]
     },
     "metadata": {},
     "output_type": "display_data"
    }
   ],
   "source": [
    "# T gate in quantum circuit\n",
    "q = QuantumRegister(1)\n",
    "qc = QuantumCircuit(q)\n",
    "qc.t(q)\n",
    "qc.t(q)\n",
    "display(qc.draw(output=\"mpl\"))\n",
    "\n",
    "# executing the circuit\n",
    "backend = Aer.get_backend('statevector_simulator')\n",
    "b = BasicAer.get_backend('unitary_simulator')\n",
    "job = execute(qc, backend)\n",
    "result = job.result()\n",
    "\n",
    "# probability of output state\n",
    "counts = result.get_counts(qc)\n",
    "graph = visualization.plot_histogram(counts)\n",
    "display(graph)"
   ]
  },
  {
   "cell_type": "markdown",
   "metadata": {},
   "source": [
    "<center><b>Applying T gate on |+></b></center>\n",
    "$$T\\ket{+} = \\begin{bmatrix} 1 & 0   \\\\ 0 & e^{\\frac{i\\pi}{4}} \\end{bmatrix}\\begin{bmatrix} \\frac{1}{\\sqrt{2}} \\\\ \\frac{1}{\\sqrt{2}}\\end{bmatrix}$$\n",
    "\n",
    "$$T\\ket{+} = \\begin{bmatrix} \\frac{1}{\\sqrt{2}} \\\\ e^{\\frac{i\\pi}{4}}\\frac{1}{\\sqrt{2}}\\end{bmatrix}$$\n",
    "\n",
    "$$T\\ket{+} = \\frac{1}{\\sqrt{2}} \\begin{bmatrix} 1 \\\\ e^{\\frac{i\\pi}{4}}\\end{bmatrix}$$\n",
    "<br>\n",
    "<center><b>Applying T gate on $$T\\ket{+}$$</b></center>\n",
    "<br>\n",
    "$$T(T\\ket{+}) = \\begin{bmatrix} 1 & 0   \\\\ 0 & e^{\\frac{i\\pi}{4}} \\end{bmatrix}\\frac{1}{\\sqrt{2}} \\begin{bmatrix} 1 \\\\ e^{\\frac{i\\pi}{4}}\\end{bmatrix}$$\n",
    "\n",
    "$$T(T\\ket{+}) = \\frac{1}{\\sqrt{2}} \\begin{bmatrix} 1 \\\\ e^{\\frac{i\\pi}{4}}e^{\\frac{i\\pi}{4}}\\end{bmatrix}$$\n",
    "\n",
    "$$T(T\\ket{+}) = \\frac{1}{\\sqrt{2}} \\begin{bmatrix} 1 \\\\ e^{\\frac{i\\pi}{2}}\\end{bmatrix}$$\n",
    "\n",
    "$$T(T\\ket{+}) = \\frac{1}{\\sqrt{2}} \\begin{bmatrix} 1 \\\\ e^{\\frac{i\\pi}{2}}\\end{bmatrix}$$\n",
    "\n",
    "$$T(T\\ket{+}) = \\frac{1}{\\sqrt{2}} \\begin{bmatrix} 1 \\\\ i\\end{bmatrix}$$\n",
    "\n",
    "$$T(T\\ket{+}) = \\frac{1}{\\sqrt{2}} \\begin{bmatrix} 1 \\\\ i\\end{bmatrix} = S\\ket{+}$$\n",
    "\n",
    "<br>\n",
    "<center><b>Applying T Gate twice is same as S Gate</b></center>\n",
    "<center><b>TT = T$^2$ = S</b></center>\n",
    "<center><b>Rz($\\frac{\\pi}{4}$)Rz($\\frac{\\pi}{4}$) = Rz($\\frac{\\pi}{2}$)</b></center>\n",
    "<center><b>P($\\frac{\\pi}{4}$)P($\\frac{\\pi}{4}$) = P($\\frac{\\pi}{2}$)</b></center>\n",
    "<br>\n",
    "<center><b>Applying T Gate 4X is same as Z Gate</b></center>\n",
    "<center><b>TTTT = T$^4$ = SS = S$^2$ = Z</b></center>\n",
    "<br>\n"
   ]
  },
  {
   "cell_type": "code",
   "execution_count": 27,
   "metadata": {},
   "outputs": [
    {
     "name": "stdout",
     "output_type": "stream",
     "text": [
      "Initial State  \n",
      "[[0.70710678]\n",
      " [0.70710678]]\n",
      "\n",
      "TT Gate \n",
      "[[1.+0.j 0.+0.j]\n",
      " [0.+0.j 0.+1.j]]\n",
      "\n",
      "Output State \n",
      "[[0.70710678+0.j        ]\n",
      " [0.        +0.70710678j]]\n",
      "\n"
     ]
    }
   ],
   "source": [
    "print(\"Initial State  \\n{}\\n\".format(plus_state))\n",
    "\n",
    "tt_gate = b.run(transpile(qc, b)).result().get_unitary(qc, decimals=3)\n",
    "tt_gate = np.matrix(tt_gate)\n",
    "print(\"TT Gate \\n{}\\n\".format(tt_gate))\n",
    "\n",
    "output = tt_gate*plus_state\n",
    "print(\"Output State \\n{}\\n\".format(output))"
   ]
  },
  {
   "cell_type": "markdown",
   "metadata": {},
   "source": [
    "<center><b>Hermitian</b></center>\n",
    "<center><b>When a gate is equivalent to its conjugate transpose</b></center>\n",
    "\n",
    "$$T^\\dagger =\\begin{bmatrix} 1 & 0   \\\\ 0 & e^{\\frac{-i\\pi}{4}} \\end{bmatrix}$$\n",
    "\n",
    "$$T\\space is\\space not\\space equal\\space to\\space T^\\dagger$$\n",
    "<center><b>T gate is not Hermitian</b></center>\n",
    "<br>\n",
    "<center><b>Unitary</b></center>\n",
    "<center><b>When product of a gate and its conjugate transpose is equal to identity matrix, </b></center>\n",
    "<center><b>conjugate transpose acts as inverse of the gate</b></center>\n",
    "<br>\n",
    "$$TT^\\dagger = \\begin{bmatrix}1 & 0   \\\\ 0 & e^{\\frac{i\\pi}{4}} \\end{bmatrix}\\begin{bmatrix} 1 & 0   \\\\ 0 & e^{\\frac{-i\\pi}{4}} \\end{bmatrix}$$\n",
    "\n",
    "$$TT^\\dagger = \\begin{bmatrix} 1 & 0 \\\\ 0 & 1 \\end{bmatrix}$$\n",
    "\n",
    "$$TT^\\dagger = I$$\n",
    "<center><b>T gate is Unitary</b></center>\n",
    "\n",
    "$$T^\\dagger=T^{-1}$$\n",
    "$$T\\space is\\space not\\space T^{-1}$$"
   ]
  }
 ],
 "metadata": {
  "kernelspec": {
   "display_name": "Python 3",
   "language": "python",
   "name": "python3"
  },
  "language_info": {
   "codemirror_mode": {
    "name": "ipython",
    "version": 3
   },
   "file_extension": ".py",
   "mimetype": "text/x-python",
   "name": "python",
   "nbconvert_exporter": "python",
   "pygments_lexer": "ipython3",
   "version": "3.8.10"
  }
 },
 "nbformat": 4,
 "nbformat_minor": 4
}
