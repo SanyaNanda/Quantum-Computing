{
 "cells": [
  {
   "cell_type": "markdown",
   "id": "842f0261-7785-4570-9486-b69328fb7a20",
   "metadata": {
    "tags": []
   },
   "source": [
    "# **QUANTUM UNIVERSALITY**"
   ]
  },
  {
   "cell_type": "markdown",
   "id": "be79d594-beec-4a54-9608-f666bbc4af74",
   "metadata": {
    "tags": []
   },
   "source": [
    "### 1)Z=SS\n",
    "### 2)Z=HXH\n",
    "### 3)Z=TTTT\n",
    "### 4)X=HZH\n",
    "### 5)X=H(SS)H\n",
    "### 6)Y=SXS'\n",
    "### 7)Y=S(HSSH)S'\n"
   ]
  },
  {
   "cell_type": "markdown",
   "id": "91a28971-9c4e-40e3-b544-b218bad65692",
   "metadata": {
    "jp-MarkdownHeadingCollapsed": true,
    "tags": []
   },
   "source": [
    "### 1)  **Z = SS**\n",
    "<br>\n",
    "\n"
   ]
  },
  {
   "cell_type": "code",
   "execution_count": 10,
   "id": "48c1d18f-b2dc-480a-8075-1ea64f683974",
   "metadata": {},
   "outputs": [],
   "source": [
    "# importing dependencies\n",
    "from qiskit import QuantumCircuit, ClassicalRegister, QuantumRegister, transpile , assemble\n",
    "from qiskit.tools.visualization import circuit_drawer\n",
    "from qiskit.quantum_info import state_fidelity\n",
    "from qiskit import BasicAer\n",
    "from qiskit import Aer, execute, visualization\n",
    "import matplotlib.pyplot as plt\n",
    "import numpy as np\n",
    "from math import pi,sqrt\n",
    "from IPython.display import Video\n",
    "from qiskit.visualization import array_to_latex"
   ]
  },
  {
   "cell_type": "markdown",
   "id": "2e054db5-2af1-49b8-b354-55c2afca4ccd",
   "metadata": {},
   "source": [
    "\n",
    "<Left>Example</Left>\n",
    "$$ Z\\ket{+} = \\ket{-}$$\n",
    "$$S(S(\\ket{+})) = \\ket{-}$$\n",
    "<br>"
   ]
  },
  {
   "cell_type": "code",
   "execution_count": 42,
   "id": "c4bca4e9-973e-4cb8-8c7e-ac99aa62a67c",
   "metadata": {},
   "outputs": [
    {
     "data": {
      "image/png": "[encoded data removed]",
      "text/plain": [
       "<Figure size 133.526x84.28 with 1 Axes>"
      ]
     },
     "metadata": {},
     "output_type": "display_data"
    }
   ],
   "source": [
    "qc = QuantumCircuit(1)\n",
    "qc.s(0)\n",
    "\n",
    "display(qc.draw(output=\"mpl\"))\n",
    "# executing the circuit\n",
    "backend = Aer.get_backend('statevector_simulator')\n",
    "b = BasicAer.get_backend('unitary_simulator')\n",
    "job = execute(qc, backend)\n",
    "result = job.result()"
   ]
  },
  {
   "cell_type": "markdown",
   "id": "aeac50ab-9773-4cfe-b90b-6a4a21ea2445",
   "metadata": {},
   "source": [
    "<center><b>Applying S gate on |+></b></center>\n",
    "$$S\\ket{+} = \\begin{bmatrix} 1 & 0   \\\\ 0 & i \\end{bmatrix}\\begin{bmatrix} \\frac{1}{\\sqrt{2}} \\\\ \\frac{1}{\\sqrt{2}}\\end{bmatrix}$$\n",
    "\n",
    "$$S\\ket{+} = \\begin{bmatrix} \\frac{1}{\\sqrt{2}} \\\\ i\\frac{1}{\\sqrt{2}}\\end{bmatrix}$$\n",
    "\n",
    "$$S\\ket{+} = \\frac{1}{\\sqrt{2}} \\begin{bmatrix} 1 \\\\ i\\end{bmatrix}$$\n",
    "<br>\n",
    "\n"
   ]
  },
  {
   "cell_type": "code",
   "execution_count": 43,
   "id": "3edef4d7-2f2a-45df-aaa6-57a43c790897",
   "metadata": {},
   "outputs": [
    {
     "name": "stdout",
     "output_type": "stream",
     "text": [
      "Initial State  is |+> i.e \n",
      "[[0.70710678]\n",
      " [0.70710678]]\n",
      "\n",
      " S Gate \n",
      "[[1.+0.j 0.+0.j]\n",
      " [0.+0.j 0.+1.j]]\n",
      "\n",
      "intermediate State after applying S gate on intitial state  \n",
      "[[0.70710678+0.j        ]\n",
      " [0.        +0.70710678j]]\n",
      "\n"
     ]
    }
   ],
   "source": [
    "plus_state = np.matrix([[1/sqrt(2)],[1/sqrt(2)]])\n",
    "print(\"Initial State  is |+> i.e \\n{}\\n\".format(plus_state))\n",
    "\n",
    "s_gate = b.run(transpile(qc, b)).result().get_unitary(qc, decimals=3)\n",
    "s_gate = np.matrix(s_gate)\n",
    "print(\" S Gate \\n{}\\n\".format(s_gate))\n",
    "\n",
    "intermediate_state = s_gate*plus_state\n",
    "print(\"intermediate State after applying S gate on intitial state  \\n{}\\n\".format(intermediate_state))"
   ]
  },
  {
   "cell_type": "markdown",
   "id": "a986f89c-1911-48e4-8c7f-acfdbda19851",
   "metadata": {},
   "source": [
    "\n",
    "<center><b>Applying S gate on intermediate state $$\\frac{1}{\\sqrt{2}}\\begin{bmatrix} 1 \\\\ i\\end{bmatrix}$$</b></center>\n",
    "$$S\\frac{1}{\\sqrt{2}}\\begin{bmatrix} 1 \\\\ i\\end{bmatrix} = \\begin{bmatrix} 1 & 0   \\\\ 0 & i \\end{bmatrix}\\frac{1}{\\sqrt{2}}\\begin{bmatrix} 1 \\\\ i\\end{bmatrix}$$\n",
    "\n",
    "$$S\\frac{1}{\\sqrt{2}}\\begin{bmatrix} 1 \\\\ i\\end{bmatrix} = \\frac{1}{\\sqrt{2}}\\begin{bmatrix} 1 \\\\ -1\\end{bmatrix}$$\n",
    "\n",
    "$$S\\frac{1}{\\sqrt{2}}\\begin{bmatrix} 1 \\\\ i\\end{bmatrix} = \\ket{-}$$\n",
    "<br>\n",
    "\n"
   ]
  },
  {
   "cell_type": "code",
   "execution_count": 44,
   "id": "68472f82-9d0e-419a-a18c-bdedc248d9c9",
   "metadata": {},
   "outputs": [
    {
     "name": "stdout",
     "output_type": "stream",
     "text": [
      "Intermediate State  \n",
      "[[0.70710678+0.j        ]\n",
      " [0.        +0.70710678j]]\n",
      "\n",
      "S Gate \n",
      "[[1.+0.j 0.+0.j]\n",
      " [0.+0.j 0.+1.j]]\n",
      "\n",
      "Output State  after applying S Gate on intermediate state is |-> \n",
      "[[ 0.70710678+0.j]\n",
      " [-0.70710678+0.j]]\n",
      "\n"
     ]
    }
   ],
   "source": [
    "# applying s gate on intermediate state\n",
    "print(\"Intermediate State  \\n{}\\n\".format(intermediate_state))\n",
    "\n",
    "ss_gate = b.run(transpile(qc, b)).result().get_unitary(qc, decimals=3)\n",
    "ss_gate = np.matrix(ss_gate)\n",
    "print(\"S Gate \\n{}\\n\".format(ss_gate))\n",
    "\n",
    "output = ss_gate*intermediate_state\n",
    "print(\"Output State  after applying S Gate on intermediate state is |-> \\n{}\\n\".format(output))\n",
    "\n"
   ]
  },
  {
   "cell_type": "markdown",
   "id": "195e432f-b937-437c-8107-7f2c831f4e36",
   "metadata": {},
   "source": [
    "\n",
    "<center><b> Hence applying S Gate twice is same as Z Gate</b></center>\n",
    "$$S\\ket{+} = \\frac{1}{\\sqrt{2}} \\begin{bmatrix} 1 \\\\ i\\end{bmatrix} = \\ket{intermediate}$$\n",
    "$$S\\ket{intermediate} = \\ket{+}$$\n",
    "<br>\n",
    "<center><b>SS = S$^2$ = Z</b></center>\n",
    "<br>\n"
   ]
  },
  {
   "cell_type": "code",
   "execution_count": 15,
   "id": "b8ea7653-012d-4230-ae93-b5126f04ae90",
   "metadata": {},
   "outputs": [
    {
     "data": {
      "image/png": "[encoded data removed]",
      "text/plain": [
       "<Figure size 220.123x84.28 with 1 Axes>"
      ]
     },
     "metadata": {},
     "output_type": "display_data"
    },
    {
     "name": "stdout",
     "output_type": "stream",
     "text": [
      "Initial State |+>  \n",
      "[[0.70710678]\n",
      " [0.70710678]]\n",
      "\n",
      "SS Gate \n",
      "[[ 1.+0.j  0.+0.j]\n",
      " [ 0.+0.j -1.-0.j]]\n",
      "\n",
      "Output State becomes |->\n",
      "[[ 0.70710678+0.j]\n",
      " [-0.70710678+0.j]]\n",
      "\n"
     ]
    }
   ],
   "source": [
    "#Summarised Code\n",
    "q = QuantumRegister(1)\n",
    "qc = QuantumCircuit(q)\n",
    "qc.s(q)\n",
    "qc.s(q)\n",
    "display(qc.draw(output=\"mpl\"))\n",
    "\n",
    "# executing the circuit\n",
    "backend = Aer.get_backend('statevector_simulator')\n",
    "b = BasicAer.get_backend('unitary_simulator')\n",
    "job = execute(qc, backend)\n",
    "result = job.result()\n",
    "\n",
    "print(\"Initial State |+>  \\n{}\\n\".format(plus_state))\n",
    "\n",
    "ss_gate = b.run(transpile(qc, b)).result().get_unitary(qc, decimals=3)\n",
    "ss_gate = np.matrix(ss_gate)\n",
    "print(\"SS Gate \\n{}\\n\".format(ss_gate))\n",
    "\n",
    "output = ss_gate*plus_state\n",
    "print(\"Output State becomes |->\\n{}\\n\".format(output))\n",
    "\n"
   ]
  },
  {
   "cell_type": "markdown",
   "id": "d14dab7d-b472-4c0d-a8c2-01677713f5e7",
   "metadata": {
    "jp-MarkdownHeadingCollapsed": true,
    "tags": []
   },
   "source": [
    "### 2)  **Z = HXH**"
   ]
  },
  {
   "cell_type": "code",
   "execution_count": 16,
   "id": "e539125e-59f0-4b6a-9bea-856bd5516dc1",
   "metadata": {},
   "outputs": [
    {
     "data": {
      "image/png": "[encoded data removed]",
      "text/plain": [
       "<Figure size 133.526x84.28 with 1 Axes>"
      ]
     },
     "metadata": {},
     "output_type": "display_data"
    }
   ],
   "source": [
    "#creating a circuit having H gate so that qubit can undergo H gate operation when sent\n",
    "qc1=QuantumCircuit(1)\n",
    "qc1.h(0)\n",
    "display(qc1.draw())"
   ]
  },
  {
   "cell_type": "markdown",
   "id": "3855a1f0-09bd-466f-bfe1-b65ba9bb3467",
   "metadata": {},
   "source": [
    "<center><b>Applying H gate on |0></b></center>\n",
    "<br/>\n",
    "$$H\\ket{0} = \\frac{1}{\\sqrt{2}}\\begin{bmatrix} 1 & 1   \\\\ 1 & -1 \\end{bmatrix}\\begin{bmatrix} 1 \\\\ 0\\end{bmatrix}$$\n",
    "<br/>\n",
    "$$H\\ket{0} = \\frac{1}{\\sqrt{2}}\\begin{bmatrix} 1 \\\\ 1\\end{bmatrix}= \\frac{1}{\\sqrt{2}}(\\begin{bmatrix} 1 \\\\ 0\\end{bmatrix} + \\begin{bmatrix} 0 \\\\ 1\\end{bmatrix}) = \\frac{1}{\\sqrt{2}}(\\ket{0} + \\ket{1})$$\n",
    "<br/>\n",
    "$$H\\ket{0} = \\ket{+}$$\n",
    "\n"
   ]
  },
  {
   "cell_type": "code",
   "execution_count": 17,
   "id": "fe116dae-84eb-47fa-a78e-b64683f3c2a1",
   "metadata": {},
   "outputs": [
    {
     "name": "stdout",
     "output_type": "stream",
     "text": [
      "initial state is |0> \n",
      "[[1.+0.j]\n",
      " [0.+0.j]]\n",
      "\n",
      " H Gate equals \n",
      "[[ 0.707+0.j  0.707-0.j]\n",
      " [ 0.707+0.j -0.707+0.j]]\n",
      "\n",
      "\n",
      "Applying H gate on initial state\n",
      "\n",
      "Intermediate_State1 is  \n",
      "[[0.707+0.j]\n",
      " [0.707+0.j]]\n",
      " which is equal to |+>\n"
     ]
    }
   ],
   "source": [
    "\n",
    "zero_state = np.matrix([[1.+0.j],[0.+0.j]])                            \n",
    "print(\"initial state is |0> \\n{}\\n\".format(zero_state))\n",
    "\n",
    "h_gate = b.run(transpile(qc1, b)).result().get_unitary(qc1, decimals=3)\n",
    "h_gate = np.matrix(h_gate)\n",
    "print(\" H Gate equals \\n{}\\n\".format(h_gate))\n",
    "\n",
    "print(\"\\nApplying H gate on initial state\\n\")\n",
    "Intermediate_State1= h_gate*zero_state\n",
    "print(\"Intermediate_State1 is  \\n{}\\n which is equal to |+>\".format(Intermediate_State1))"
   ]
  },
  {
   "cell_type": "markdown",
   "id": "1e588fef-a496-4d2b-94c6-81f065378038",
   "metadata": {},
   "source": [
    "<center><b>Applying  X  gate  on  Intermediate_State1  </b></center>\n",
    "<br/>\n",
    "$$X\\ket{+} = \\begin{bmatrix} 0 & 1   \\\\ 1 & 0 \\end{bmatrix}\\begin{bmatrix} \\frac{1}{\\sqrt{2}} \\\\ \\frac{1}{\\sqrt{2}}\\end{bmatrix}$$\n",
    "<br/>\n",
    "$$X\\ket{+} = \\begin{bmatrix} \\frac{1}{\\sqrt{2}} \\\\ \\frac{1}{\\sqrt{2}}\\end{bmatrix}$$\n",
    "<br/>\n",
    "$$X\\ket{+} = \\ket{+}$$\n",
    "<br/>\n"
   ]
  },
  {
   "cell_type": "code",
   "execution_count": 18,
   "id": "950426bf-16a6-4f76-9acf-f4602dd774c0",
   "metadata": {},
   "outputs": [
    {
     "data": {
      "image/png": "[encoded data removed]",
      "text/plain": [
       "<Figure size 133.526x84.28 with 1 Axes>"
      ]
     },
     "metadata": {},
     "output_type": "display_data"
    },
    {
     "name": "stdout",
     "output_type": "stream",
     "text": [
      "X Gate equals \n",
      "[[0.+0.j 1.+0.j]\n",
      " [1.+0.j 0.+0.j]]\n",
      "\n",
      "Applying x gate on Intermediate_State1 \n",
      "\n",
      "Intermediate_State2 is \n",
      "[[0.707+0.j]\n",
      " [0.707+0.j]]\n",
      " which is |+> \n"
     ]
    }
   ],
   "source": [
    "#creating a circuit having X gate so that qubit undergoes X gate operation when sent\n",
    "qc2=QuantumCircuit(1)\n",
    "qc2.x(0)\n",
    "display(qc2.draw())\n",
    "x_gate = b.run(transpile(qc2, b)).result().get_unitary(qc2, decimals=3)\n",
    "x_gate = np.matrix(x_gate)\n",
    "print(\"X Gate equals \\n{}\\n\".format(x_gate))\n",
    "print(\"Applying x gate on Intermediate_State1 \\n\")\n",
    "Intermediate_State2=x_gate*Intermediate_State1\n",
    "print(\"Intermediate_State2 is \\n{}\\n which is |+> \".format(Intermediate_State2))"
   ]
  },
  {
   "cell_type": "markdown",
   "id": "9616cf28-46e4-4f73-b2ad-ab3694991b31",
   "metadata": {},
   "source": [
    "<center><b>Applying H gate on Intermediate_State2</b></center>\n",
    "<br/>\n",
    "$$H\\ket{+} = \\frac{1}{\\sqrt{2}}\\begin{bmatrix} 1 & 1   \\\\ 1 & -1 \\end{bmatrix}\\begin{bmatrix} \\frac{1}{\\sqrt{2}} \\\\ \\frac{1}{\\sqrt{2}}\\end{bmatrix}$$\n",
    "<br/>\n",
    "$$H\\ket{+} = \\frac{1}{\\sqrt{2}}\\begin{bmatrix}  \\frac{1}{\\sqrt{2}}  \\\\ 0\\end{bmatrix} = \\begin{bmatrix} 1 \\\\ 0\\end{bmatrix}$$\n",
    "<br/>\n",
    "$$H\\ket{+} = \\ket{0}$$\n"
   ]
  },
  {
   "cell_type": "code",
   "execution_count": 19,
   "id": "b290e20e-f028-4c40-a681-ae4fbcf255b2",
   "metadata": {},
   "outputs": [
    {
     "data": {
      "image/png": "[encoded data removed]",
      "text/plain": [
       "<Figure size 133.526x84.28 with 1 Axes>"
      ]
     },
     "metadata": {},
     "output_type": "display_data"
    },
    {
     "name": "stdout",
     "output_type": "stream",
     "text": [
      " H Gate equals \n",
      "[[ 0.707+0.j  0.707-0.j]\n",
      " [ 0.707+0.j -0.707+0.j]]\n",
      "\n",
      "Applying H gate on Intermediate_State2 \n",
      "\n",
      "Final Output is \n",
      "[[1.+0.j]\n",
      " [0.+0.j]]\n",
      " which is equal to |0>\n"
     ]
    }
   ],
   "source": [
    "#Passing the qubit (in output state2) under H gate operation again\n",
    "display(qc1.draw())\n",
    "\n",
    "h_gate = b.run(transpile(qc1, b)).result().get_unitary(qc1, decimals=3)\n",
    "h_gate = np.matrix(h_gate)\n",
    "print(\" H Gate equals \\n{}\\n\".format(h_gate))\n",
    "print(\"Applying H gate on Intermediate_State2 \\n\")\n",
    "\n",
    "final_output= h_gate*Intermediate_State2\n",
    "final_output=np.round(final_output,0) #Rounding the values and assigning back to the matrix elements\n",
    "print(\"Final Output is \\n{}\\n which is equal to |0>\".format(final_output))"
   ]
  },
  {
   "cell_type": "markdown",
   "id": "5d82a55d-8fe7-4e70-b395-7bf3f9438720",
   "metadata": {},
   "source": [
    "\n",
    "<center><b> Hence applying HXH Gate in series is same as Z Gate</b></center>\n",
    "<br/>\n",
    "$$H(X(H \\ket{0})) = \\ket{0}$$\n",
    "<br>\n"
   ]
  },
  {
   "cell_type": "code",
   "execution_count": 20,
   "id": "2b09eaaa-5634-4924-a1ce-b6b52c69950a",
   "metadata": {},
   "outputs": [
    {
     "data": {
      "image/png": "[encoded data removed]",
      "text/plain": [
       "<Figure size 297.769x84.28 with 1 Axes>"
      ]
     },
     "metadata": {},
     "output_type": "display_data"
    },
    {
     "name": "stdout",
     "output_type": "stream",
     "text": [
      "initial state is |0> \n",
      "[[1.+0.j]\n",
      " [0.+0.j]]\n",
      "\n",
      "combined HXH Gate equals \n",
      "[[ 1.+0.j  0.+0.j]\n",
      " [ 0.+0.j -1.-0.j]]\n",
      "\n",
      "output state is |0> \n",
      "[[1.+0.j]\n",
      " [0.+0.j]]\n",
      " \n"
     ]
    }
   ],
   "source": [
    "#Summarisied code\n",
    "qc=QuantumCircuit(1)\n",
    "qc.h(0)\n",
    "qc.x(0)\n",
    "qc.h(0)\n",
    "display(qc.draw(initial_state=True))\n",
    "\n",
    "\n",
    "# executing the circuit\n",
    "backend = Aer.get_backend('statevector_simulator')\n",
    "b = BasicAer.get_backend('unitary_simulator')\n",
    "job = execute(qc, backend)\n",
    "result = job.result()\n",
    "\n",
    "\n",
    "zero_state = np.matrix([[1.+0.j],[0.+0.j]])\n",
    "print(\"initial state is |0> \\n{}\\n\".format(zero_state))\n",
    "\n",
    "hxh_gate = b.run(transpile(qc, b)).result().get_unitary(qc, decimals=3)\n",
    "hxh_gate = np.matrix(hxh_gate)\n",
    "print(\"combined HXH Gate equals \\n{}\\n\".format(hxh_gate))\n",
    "\n",
    "output = hxh_gate*zero_state\n",
    "print(\"output state is |0> \\n{}\\n \".format(output))"
   ]
  },
  {
   "cell_type": "markdown",
   "id": "06289ca0-a277-4701-824f-a5cb430aca0f",
   "metadata": {
    "jp-MarkdownHeadingCollapsed": true,
    "tags": []
   },
   "source": [
    "### 3)  **Z=TTTT**"
   ]
  },
  {
   "cell_type": "code",
   "execution_count": 21,
   "id": "a911e8e3-1c99-4751-8d3b-6efcf2cd2a30",
   "metadata": {},
   "outputs": [
    {
     "data": {
      "image/png": "[encoded data removed]",
      "text/plain": [
       "<Figure size 133.526x84.28 with 1 Axes>"
      ]
     },
     "metadata": {},
     "output_type": "display_data"
    }
   ],
   "source": [
    "qc = QuantumCircuit(1)\n",
    "qc.t(0)\n",
    "display(qc.draw(output=\"mpl\"))"
   ]
  },
  {
   "cell_type": "markdown",
   "id": "6c2f3e89-6fff-4276-8d4a-d8308105bf88",
   "metadata": {},
   "source": [
    "\n",
    "\n",
    "#### Step1\n",
    "<center><b>Applying T gate on intitial state i.e |+></b></center>\n",
    "$$T\\ket{+} = \\begin{bmatrix} 1 & 0   \\\\ 0 & e^{\\frac{i\\pi}{4}} \\end{bmatrix}\\begin{bmatrix} \\frac{1}{\\sqrt{2}} \\\\ \\frac{1}{\\sqrt{2}}\\end{bmatrix}$$\n",
    "\n",
    "$$T\\ket{+} = \\begin{bmatrix} \\frac{1}{\\sqrt{2}} \\\\ e^{\\frac{i\\pi}{4}}\\frac{1}{\\sqrt{2}}\\end{bmatrix}$$\n",
    "\n",
    "$$T\\ket{+} = \\frac{1}{\\sqrt{2}} \\begin{bmatrix} 1 \\\\ e^{\\frac{i\\pi}{4}}\\end{bmatrix} = IntermediateState1$$\n"
   ]
  },
  {
   "cell_type": "code",
   "execution_count": 22,
   "id": "a2d9554d-b2ca-4716-8f13-6bc95caecb75",
   "metadata": {},
   "outputs": [
    {
     "name": "stdout",
     "output_type": "stream",
     "text": [
      "Initial State  is |+> i.e \n",
      "[[0.70710678]\n",
      " [0.70710678]]\n",
      "\n",
      " T Gate equals \n",
      "[[1.   +0.j    0.   +0.j   ]\n",
      " [0.   +0.j    0.707+0.707j]]\n",
      "\n",
      "\n",
      "Applying T gate on initial state\n",
      " \n",
      "\n",
      "Intermediate_State1 is \n",
      "[[0.70710678+0.j        ]\n",
      " [0.49992449+0.49992449j]]\n",
      " \n"
     ]
    }
   ],
   "source": [
    "#Step1\n",
    "\n",
    "# executing the circuit\n",
    "backend = Aer.get_backend('statevector_simulator')\n",
    "b = BasicAer.get_backend('unitary_simulator')\n",
    "job = execute(qc, backend)\n",
    "result = job.result()\n",
    "\n",
    "\n",
    "plus_state = np.matrix([[1/sqrt(2)],[1/sqrt(2)]])\n",
    "print(\"Initial State  is |+> i.e \\n{}\\n\".format(plus_state))\n",
    "\n",
    "t_gate = b.run(transpile(qc, b)).result().get_unitary(qc, decimals=3)\n",
    "t_gate = np.matrix(t_gate)\n",
    "print(\" T Gate equals \\n{}\\n\".format(t_gate))\n",
    "\n",
    "print(\"\\nApplying T gate on initial state\\n \\n\")\n",
    "Intermediate_State1= t_gate*plus_state\n",
    "print(\"Intermediate_State1 is \\n{}\\n \".format(Intermediate_State1))"
   ]
  },
  {
   "cell_type": "markdown",
   "id": "a296d815-17e1-4092-9f45-61dad3382cc1",
   "metadata": {},
   "source": [
    "#### Step2\n",
    "<br>\n",
    "<center><b>Applying T gate on Intermediate_State1  </b></center>\n",
    "<br>\n",
    "$$T(IntermediateState1)=T(T\\ket{+}) = \\begin{bmatrix} 1 & 0   \\\\ 0 & e^{\\frac{i\\pi}{4}} \\end{bmatrix}\\frac{1}{\\sqrt{2}} \\begin{bmatrix} 1 \\\\ e^{\\frac{i\\pi}{4}}\\end{bmatrix}$$\n",
    "\n",
    "$$T(T\\ket{+}) = \\frac{1}{\\sqrt{2}} \\begin{bmatrix} 1 \\\\ e^{\\frac{i\\pi}{4}}e^{\\frac{i\\pi}{4}}\\end{bmatrix}$$\n",
    "\n",
    "$$T(T\\ket{+}) = \\frac{1}{\\sqrt{2}} \\begin{bmatrix} 1 \\\\ e^{\\frac{i\\pi}{2}}\\end{bmatrix}$$\n",
    "\n",
    "$$T(T\\ket{+}) = \\frac{1}{\\sqrt{2}} \\begin{bmatrix} 1 \\\\ e^{\\frac{i\\pi}{2}}\\end{bmatrix}$$\n",
    "\n",
    "$$T(T\\ket{+}) = \\frac{1}{\\sqrt{2}} \\begin{bmatrix} 1 \\\\ i\\end{bmatrix}$$\n",
    "\n",
    "$$T(T\\ket{+}) = \\frac{1}{\\sqrt{2}} \\begin{bmatrix} 1 \\\\ i\\end{bmatrix} = S\\ket{+} = IntermediateState2$$\n",
    "\n",
    "<br>\n",
    "<center><b>Applying T Gate twice is same as S Gate</b></center>\n",
    "<center><b>TT = T$^2$ = S</b></center>\n"
   ]
  },
  {
   "cell_type": "code",
   "execution_count": 23,
   "id": "d6afe142-4c11-46ba-a24e-9a144f9b363c",
   "metadata": {},
   "outputs": [
    {
     "name": "stdout",
     "output_type": "stream",
     "text": [
      " T Gate equals \n",
      "[[1.   +0.j    0.   +0.j   ]\n",
      " [0.   +0.j    0.707+0.707j]]\n",
      "\n",
      "\n",
      "Applying T gate on Intermediate_state1\n",
      " \n",
      "\n",
      "Intermediate_State2 is \n",
      "[[0.70710678+0.j        ]\n",
      " [0.        +0.70689323j]]\n",
      " \n"
     ]
    }
   ],
   "source": [
    "# Step2\n",
    "tt_gate = b.run(transpile(qc, b)).result().get_unitary(qc, decimals=3)\n",
    "tt_gate = np.matrix(tt_gate)\n",
    "print(\" T Gate equals \\n{}\\n\".format(tt_gate))\n",
    "\n",
    "print(\"\\nApplying T gate on Intermediate_state1\\n \\n\")\n",
    "Intermediate_State2= tt_gate*Intermediate_State1         #T gate applied on intermediate_state1 to give intermediate_state2\n",
    "print(\"Intermediate_State2 is \\n{}\\n \".format(Intermediate_State2))"
   ]
  },
  {
   "cell_type": "markdown",
   "id": "be26b45f-3907-439e-832f-5bc0a1c6b6c1",
   "metadata": {},
   "source": [
    "#### Step3\n",
    "<br>\n",
    "<center><b>Applying T gate on Intermediate_State2  </b></center>\n",
    "<br>\n",
    "$$T(IntermediateState2)=T(T(T\\ket{+})) \\begin{bmatrix} 1 & 0   \\\\ 0 & e^{\\frac{i\\pi}{4}} \\end{bmatrix}\\frac{1}{\\sqrt{2}} \\begin{bmatrix} 1 \\\\ i\\end{bmatrix}$$\n",
    "<br/>\n",
    "$$ T(T(T\\ket{+}))= \\frac{1}{\\sqrt{2}} \\begin{bmatrix} 1 \\\\ ie^{\\frac{i\\pi}{4}}\\end{bmatrix} = IntermediateState3$$\n",
    "\n",
    "\n"
   ]
  },
  {
   "cell_type": "code",
   "execution_count": 24,
   "id": "d6b042cf-3452-4cc0-aa50-9d4a425100ba",
   "metadata": {},
   "outputs": [
    {
     "name": "stdout",
     "output_type": "stream",
     "text": [
      " T Gate equals \n",
      "[[1.   +0.j    0.   +0.j   ]\n",
      " [0.   +0.j    0.707+0.707j]]\n",
      "\n",
      "\n",
      "Applying T gate on Intermediate_state2\n",
      " \n",
      "\n",
      "Intermediate_State3 is \n",
      "[[ 0.70710678+0.j        ]\n",
      " [-0.49977352+0.49977352j]]\n",
      " \n"
     ]
    }
   ],
   "source": [
    "#Step 3\n",
    "ttt_gate = b.run(transpile(qc, b)).result().get_unitary(qc, decimals=3)\n",
    "ttt_gate = np.matrix(ttt_gate)\n",
    "print(\" T Gate equals \\n{}\\n\".format(ttt_gate))\n",
    "\n",
    "print(\"\\nApplying T gate on Intermediate_state2\\n \\n\")\n",
    "Intermediate_State3= tt_gate*Intermediate_State2\n",
    "print(\"Intermediate_State3 is \\n{}\\n \".format(Intermediate_State3))\n"
   ]
  },
  {
   "cell_type": "markdown",
   "id": "dcb86b02-38e7-48a0-a902-ddb92b195257",
   "metadata": {},
   "source": [
    "#### Step4\n",
    "<br>\n",
    "<center><b>Applying T gate on Intermediate_State3  </b></center>\n",
    "<br>\n",
    "$$T(IntermediateState3)=T(T(T(T\\ket{+}))) \\begin{bmatrix} 1 & 0   \\\\ 0 & e^{\\frac{i\\pi}{4}} \\end{bmatrix}\\frac{1}{\\sqrt{2}} \\begin{bmatrix} 1 \\\\ ie^{\\frac{i\\pi}{4}}\\end{bmatrix}$$\n",
    "<br/>\n",
    "<br>\n",
    "$$T(T(T(T\\ket{+}))) = \\frac{1}{\\sqrt{2}} \\begin{bmatrix} 1 \\\\ ie^{\\frac{i\\pi}{4}}e^{\\frac{i\\pi}{4}}\\end{bmatrix} = \\frac{1}{\\sqrt{2}} \\begin{bmatrix} 1 \\\\ i^2\\end{bmatrix} $$\n",
    "<br/>\n",
    "$$ T(T(T(T\\ket{+})))= \\frac{1}{\\sqrt{2}} \\begin{bmatrix} 1 \\\\ -1\\end{bmatrix}   = OutputState =\\ket{-}$$\n",
    "\n"
   ]
  },
  {
   "cell_type": "code",
   "execution_count": 25,
   "id": "c4abf4de-89a1-466f-9037-e035a2a7633f",
   "metadata": {},
   "outputs": [
    {
     "name": "stdout",
     "output_type": "stream",
     "text": [
      " T Gate equals \n",
      "[[1.   +0.j    0.   +0.j   ]\n",
      " [0.   +0.j    0.707+0.707j]]\n",
      "\n",
      "\n",
      "Applying T gate on Intermediate_state2\n",
      " \n",
      "\n",
      "output_State is \n",
      "[[ 0.70710678+0.j]\n",
      " [-0.70667975+0.j]]\n",
      " which is equal to |-> \n"
     ]
    }
   ],
   "source": [
    "#Step4\n",
    "tttt_gate = b.run(transpile(qc, b)).result().get_unitary(qc, decimals=3)\n",
    "tttt_gate = np.matrix(tttt_gate)\n",
    "print(\" T Gate equals \\n{}\\n\".format(tttt_gate))\n",
    "\n",
    "print(\"\\nApplying T gate on Intermediate_state2\\n \\n\")\n",
    "output_State= tt_gate*Intermediate_State3\n",
    "print(\"output_State is \\n{}\\n which is equal to |-> \".format(output_State))"
   ]
  },
  {
   "cell_type": "markdown",
   "id": "df4fdfaf-bc3e-4eab-9bac-995ae7f85fd9",
   "metadata": {},
   "source": [
    "<br>\n",
    "<center><b>Hence Applying T Gate 4 times is same as Z Gate</b></center>\n",
    "<center><b>TTTT = T$^4$ = SS = S$^2$ = Z</b></center>\n",
    "<br>"
   ]
  },
  {
   "cell_type": "code",
   "execution_count": 26,
   "id": "8258f920-96f3-46cf-a44b-b99c762e5edf",
   "metadata": {},
   "outputs": [
    {
     "data": {
      "image/png": "[encoded data removed]",
      "text/plain": [
       "<Figure size 314.126x84.28 with 1 Axes>"
      ]
     },
     "metadata": {},
     "output_type": "display_data"
    },
    {
     "name": "stdout",
     "output_type": "stream",
     "text": [
      "Initial State  is |+> i.e \n",
      "[[0.70710678]\n",
      " [0.70710678]]\n",
      "\n",
      " TTTT Gate \n",
      "[[ 1.+0.j  0.+0.j]\n",
      " [ 0.+0.j -1.-0.j]]\n",
      "\n",
      "Output State   \n",
      "[[ 0.70710678+0.j]\n",
      " [-0.70710678+0.j]]\n",
      " which is equal to |->\n"
     ]
    }
   ],
   "source": [
    "#summarised code\n",
    "qc = QuantumCircuit(1)\n",
    "qc.t(0)\n",
    "qc.t(0)\n",
    "qc.t(0)\n",
    "qc.t(0)\n",
    "display(qc.draw(output=\"mpl\"))\n",
    "\n",
    "\n",
    "# executing the circuit\n",
    "backend = Aer.get_backend('statevector_simulator')\n",
    "b = BasicAer.get_backend('unitary_simulator')\n",
    "job = execute(qc, backend)\n",
    "result = job.result()\n",
    "\n",
    "plus_state = np.matrix([[1/sqrt(2)],[1/sqrt(2)]])\n",
    "print(\"Initial State  is |+> i.e \\n{}\\n\".format(plus_state))\n",
    "\n",
    "tttt_gate = b.run(transpile(qc, b)).result().get_unitary(qc, decimals=3)\n",
    "tttt_gate = np.matrix(tttt_gate)\n",
    "print(\" TTTT Gate \\n{}\\n\".format(tttt_gate))\n",
    "\n",
    "output_state = tttt_gate*plus_state\n",
    "print(\"Output State   \\n{}\\n which is equal to |->\".format(output_state))"
   ]
  },
  {
   "cell_type": "markdown",
   "id": "958ee485-92ce-465a-9b5d-68d064343016",
   "metadata": {
    "tags": []
   },
   "source": [
    "### 4)  **X=HZH**"
   ]
  },
  {
   "cell_type": "code",
   "execution_count": 27,
   "id": "225a2461-45a5-41fc-905c-60e0ca540764",
   "metadata": {},
   "outputs": [
    {
     "data": {
      "image/png": "[encoded data removed]",
      "text/plain": [
       "<Figure size 133.526x84.28 with 1 Axes>"
      ]
     },
     "metadata": {},
     "output_type": "display_data"
    }
   ],
   "source": [
    "qc1=QuantumCircuit(1)\n",
    "qc1.h(0)\n",
    "\n",
    "display(qc1.draw())\n",
    "\n",
    "\n",
    "# executing the circuit\n",
    "backend = Aer.get_backend('statevector_simulator')\n",
    "b = BasicAer.get_backend('unitary_simulator')\n",
    "job = execute(qc1, backend)\n",
    "result = job.result()\n",
    "\n"
   ]
  },
  {
   "cell_type": "markdown",
   "id": "9d860d93-bbd9-4462-9859-c638393ad713",
   "metadata": {},
   "source": [
    "<center><b>Applying H gate on |0></b></center>\n",
    "<br/>\n",
    "$$H\\ket{0} = \\frac{1}{\\sqrt{2}}\\begin{bmatrix} 1 & 1   \\\\ 1 & -1 \\end{bmatrix}\\begin{bmatrix} 1 \\\\ 0\\end{bmatrix}$$\n",
    "<br/>\n",
    "$$H\\ket{0} = \\frac{1}{\\sqrt{2}}\\begin{bmatrix} 1 \\\\ 1\\end{bmatrix}= \\frac{1}{\\sqrt{2}}(\\begin{bmatrix} 1 \\\\ 0\\end{bmatrix} + \\begin{bmatrix} 0 \\\\ 1\\end{bmatrix}) = \\frac{1}{\\sqrt{2}}(\\ket{0} + \\ket{1})$$\n",
    "<br/>\n",
    "$$H\\ket{0} = \\ket{+}= IntermediateState1$$\n",
    "\n"
   ]
  },
  {
   "cell_type": "code",
   "execution_count": 28,
   "id": "21dfcb12-15b2-40c7-8399-b5559beebec1",
   "metadata": {},
   "outputs": [
    {
     "name": "stdout",
     "output_type": "stream",
     "text": [
      "initial state is |0> \n",
      "[[1.+0.j]\n",
      " [0.+0.j]]\n",
      "\n",
      " H Gate equals \n",
      "[[ 0.707+0.j  0.707-0.j]\n",
      " [ 0.707+0.j -0.707+0.j]]\n",
      "\n",
      "\n",
      "Applying H gate on initial state\n",
      "\n",
      "Intermediate_State1 is  \n",
      "[[0.707+0.j]\n",
      " [0.707+0.j]]\n",
      " which is equal to |+>\n"
     ]
    }
   ],
   "source": [
    "zero_state = np.matrix([[1.+0.j],[0.+0.j]])                            \n",
    "print(\"initial state is |0> \\n{}\\n\".format(zero_state))\n",
    "\n",
    "h_gate = b.run(transpile(qc1, b)).result().get_unitary(qc1, decimals=3)\n",
    "h_gate = np.matrix(h_gate)\n",
    "print(\" H Gate equals \\n{}\\n\".format(h_gate))\n",
    "\n",
    "print(\"\\nApplying H gate on initial state\\n\")\n",
    "Intermediate_State1= h_gate*zero_state\n",
    "print(\"Intermediate_State1 is  \\n{}\\n which is equal to |+>\".format(Intermediate_State1))"
   ]
  },
  {
   "cell_type": "code",
   "execution_count": 29,
   "id": "98cfcc1d-8564-48c5-b2ae-69435d327a53",
   "metadata": {},
   "outputs": [
    {
     "data": {
      "image/png": "[encoded data removed]",
      "text/plain": [
       "<Figure size 133.526x84.28 with 1 Axes>"
      ]
     },
     "metadata": {},
     "output_type": "display_data"
    }
   ],
   "source": [
    "qc2=QuantumCircuit(1)\n",
    "qc2.z(0)\n",
    "\n",
    "display(qc2.draw())\n",
    "\n",
    "\n",
    "# executing the circuit\n",
    "backend = Aer.get_backend('statevector_simulator')\n",
    "b = BasicAer.get_backend('unitary_simulator')\n",
    "job = execute(qc2, backend)\n",
    "result = job.result()"
   ]
  },
  {
   "cell_type": "markdown",
   "id": "412f72d8-9012-45e2-b4ce-ef4afed1934e",
   "metadata": {},
   "source": [
    "\n",
    "<center><b>Applying Z gate on IntermediateState1</b></center>\n",
    "$$Z(IntermediateState1)=Z\\ket{+} = \\begin{bmatrix} 1 & 0   \\\\ 0 & -1 \\end{bmatrix}\\begin{bmatrix} \\frac{1}{\\sqrt{2}} \\\\ \\frac{1}{\\sqrt{2}}\\end{bmatrix}$$\n",
    "\n",
    "$$Z\\ket{+} = \\begin{bmatrix} \\frac{1}{\\sqrt{2}} \\\\ -\\frac{1}{\\sqrt{2}}\\end{bmatrix}$$\n",
    "\n",
    "$$Z\\ket{+} = \\ket{-}$$\n",
    "<br/>\n",
    "\n",
    "\n"
   ]
  },
  {
   "cell_type": "code",
   "execution_count": 30,
   "id": "7ff16f93-bca1-4438-9428-5aaf7ac7ddbb",
   "metadata": {},
   "outputs": [
    {
     "name": "stdout",
     "output_type": "stream",
     "text": [
      " Z Gate equals \n",
      "[[ 1.+0.j  0.+0.j]\n",
      " [ 0.+0.j -1.+0.j]]\n",
      "\n",
      "\n",
      "Applying Z gate on Intermediate_State1\n",
      "\n",
      "Intermediate_State2 is  \n",
      "[[ 0.707+0.j]\n",
      " [-0.707+0.j]]\n",
      " which is equal to |->\n"
     ]
    }
   ],
   "source": [
    "z_gate = b.run(transpile(qc2, b)).result().get_unitary(qc2, decimals=3)\n",
    "z_gate = np.matrix(z_gate)\n",
    "print(\" Z Gate equals \\n{}\\n\".format(z_gate))\n",
    "\n",
    "print(\"\\nApplying Z gate on Intermediate_State1\\n\")\n",
    "Intermediate_State2=z_gate*Intermediate_State1\n",
    "print(\"Intermediate_State2 is  \\n{}\\n which is equal to |->\".format(Intermediate_State2))"
   ]
  },
  {
   "cell_type": "markdown",
   "id": "d810f9ac-3220-4a99-81d3-a23bb0f33d97",
   "metadata": {},
   "source": [
    "<center><b>Applying H gate on Intermediate_State2</b></center>\n",
    "<br/>\n",
    "$$H(IntermediateState2)=H\\ket{-} = \\frac{1}{\\sqrt{2}}\\begin{bmatrix} 1 & 1   \\\\ 1 & -1 \\end{bmatrix}\\frac{1}{\\sqrt{2}}\\begin{bmatrix} 1 \\\\ -1\\end{bmatrix}$$\n",
    "<br/>\n",
    "$$H\\ket{-} = \\frac{1}{{2}}\\begin{bmatrix} 0 \\\\ 2\\end{bmatrix}= \\frac{2}{{2}}\\begin{bmatrix} 0 \\\\ 1\\end{bmatrix} =\\begin{bmatrix} 0 \\\\ 1\\end{bmatrix}$$\n",
    "<br/>\n",
    "$$H\\ket{-} = \\ket{1}= OutputState$$\n",
    "\n"
   ]
  },
  {
   "cell_type": "code",
   "execution_count": 31,
   "id": "3b5c0618-34a8-469e-a88d-c08f0cf05fa9",
   "metadata": {},
   "outputs": [
    {
     "name": "stdout",
     "output_type": "stream",
     "text": [
      " H Gate equals \n",
      "[[ 0.707+0.j  0.707-0.j]\n",
      " [ 0.707+0.j -0.707+0.j]]\n",
      "\n",
      "\n",
      "Applying H gate on Intermediate_State2\n",
      "\n",
      "Output_State is  \n",
      "[[0.+0.j]\n",
      " [1.+0.j]]\n",
      " which is equal to |1>\n"
     ]
    }
   ],
   "source": [
    "h_gate = b.run(transpile(qc1, b)).result().get_unitary(qc1, decimals=3)\n",
    "h_gate = np.matrix(h_gate)\n",
    "print(\" H Gate equals \\n{}\\n\".format(h_gate))\n",
    "\n",
    "print(\"\\nApplying H gate on Intermediate_State2\\n\")\n",
    "output_State= h_gate*Intermediate_State2\n",
    "output_State=np.round(output_State,0)\n",
    "print(\"Output_State is  \\n{}\\n which is equal to |1>\".format(output_State))"
   ]
  },
  {
   "cell_type": "markdown",
   "id": "7b998e2b-f2b5-4ec9-8a6e-80cb93d92400",
   "metadata": {},
   "source": [
    "\n",
    "<center><b> Hence applying HZH Gate in series is same as X Gate</b></center>\n",
    "<br/>\n",
    "$$H(Z(H \\ket{0})) = \\ket{1}$$\n",
    "<br>\n",
    "\n",
    "\n"
   ]
  },
  {
   "cell_type": "code",
   "execution_count": 32,
   "id": "fac17366-9cf1-4d33-9bb5-5fb845ed7a36",
   "metadata": {},
   "outputs": [
    {
     "data": {
      "image/png": "[encoded data removed]",
      "text/plain": [
       "<Figure size 253.926x84.28 with 1 Axes>"
      ]
     },
     "metadata": {},
     "output_type": "display_data"
    },
    {
     "name": "stdout",
     "output_type": "stream",
     "text": [
      "initial state is |0> \n",
      "[[1.+0.j]\n",
      " [0.+0.j]]\n",
      "\n",
      "combined HZH Gate equals \n",
      "[[0.+0.j 1.-0.j]\n",
      " [1.-0.j 0.+0.j]]\n",
      "\n",
      "output state is |1> \n",
      "[[0.+0.j]\n",
      " [1.+0.j]]\n",
      " \n"
     ]
    }
   ],
   "source": [
    "#summarised code\n",
    "qc=QuantumCircuit(1)\n",
    "qc.h(0)\n",
    "qc.z(0)\n",
    "qc.h(0)\n",
    "display(qc.draw())\n",
    "\n",
    "\n",
    "# executing the circuit\n",
    "backend = Aer.get_backend('statevector_simulator')\n",
    "b = BasicAer.get_backend('unitary_simulator')\n",
    "job = execute(qc, backend)\n",
    "result = job.result()\n",
    "\n",
    "\n",
    "zero_state = np.matrix([[1.+0.j],[0.+0.j]])\n",
    "print(\"initial state is |0> \\n{}\\n\".format(zero_state))\n",
    "\n",
    "hzh_gate = b.run(transpile(qc, b)).result().get_unitary(qc, decimals=3)\n",
    "hzh_gate = np.matrix(hzh_gate)\n",
    "print(\"combined HZH Gate equals \\n{}\\n\".format(hzh_gate))\n",
    "\n",
    "output = hzh_gate*zero_state\n",
    "print(\"output state is |1> \\n{}\\n \".format(output))"
   ]
  },
  {
   "cell_type": "markdown",
   "id": "4398da3c-c325-40b4-875c-16d342e8e636",
   "metadata": {
    "tags": []
   },
   "source": [
    "### 5)  **X=H(SS)H**"
   ]
  },
  {
   "cell_type": "code",
   "execution_count": 45,
   "id": "c2355e41-4a65-41ff-811c-678bea3d3354",
   "metadata": {},
   "outputs": [
    {
     "data": {
      "image/png": "[encoded data removed]",
      "text/plain": [
       "<Figure size 133.526x84.28 with 1 Axes>"
      ]
     },
     "metadata": {},
     "output_type": "display_data"
    }
   ],
   "source": [
    "qc1=QuantumCircuit(1)\n",
    "qc1.h(0)\n",
    "\n",
    "display(qc1.draw())\n",
    "\n",
    "\n",
    "# executing the circuit\n",
    "backend = Aer.get_backend('statevector_simulator')\n",
    "b = BasicAer.get_backend('unitary_simulator')\n",
    "job = execute(qc1, backend)\n",
    "result = job.result()\n"
   ]
  },
  {
   "cell_type": "markdown",
   "id": "3e8655b8-362a-46b0-9d54-5915e3926be6",
   "metadata": {},
   "source": [
    "<center><b>Applying H gate on |0></b></center>\n",
    "<br/>\n",
    "$$H\\ket{0} = \\frac{1}{\\sqrt{2}}\\begin{bmatrix} 1 & 1   \\\\ 1 & -1 \\end{bmatrix}\\begin{bmatrix} 1 \\\\ 0\\end{bmatrix}$$\n",
    "<br/>\n",
    "$$H\\ket{0} = \\frac{1}{\\sqrt{2}}\\begin{bmatrix} 1 \\\\ 1\\end{bmatrix}= \\frac{1}{\\sqrt{2}}(\\begin{bmatrix} 1 \\\\ 0\\end{bmatrix} + \\begin{bmatrix} 0 \\\\ 1\\end{bmatrix}) = \\frac{1}{\\sqrt{2}}(\\ket{0} + \\ket{1})$$\n",
    "<br/>\n",
    "$$H\\ket{0} = \\ket{+}= IntermediateState1$$\n"
   ]
  },
  {
   "cell_type": "code",
   "execution_count": 46,
   "id": "b8edb5ba-65f8-4f2f-8f28-9663c0dc6cfb",
   "metadata": {},
   "outputs": [
    {
     "name": "stdout",
     "output_type": "stream",
     "text": [
      "initial state is |0> \n",
      "[[1.+0.j]\n",
      " [0.+0.j]]\n",
      "\n",
      " H Gate equals \n",
      "[[ 0.707+0.j  0.707-0.j]\n",
      " [ 0.707+0.j -0.707+0.j]]\n",
      "\n",
      "\n",
      "Applying H gate on initial state\n",
      "\n",
      "Intermediate_State1 is  \n",
      "[[0.707+0.j]\n",
      " [0.707+0.j]]\n",
      " which is equal to |+>\n"
     ]
    }
   ],
   "source": [
    "zero_state = np.matrix([[1.+0.j],[0.+0.j]])                            \n",
    "print(\"initial state is |0> \\n{}\\n\".format(zero_state))\n",
    "\n",
    "h_gate = b.run(transpile(qc1, b)).result().get_unitary(qc1, decimals=3)\n",
    "h_gate = np.matrix(h_gate)\n",
    "print(\" H Gate equals \\n{}\\n\".format(h_gate))\n",
    "\n",
    "print(\"\\nApplying H gate on initial state\\n\")\n",
    "Intermediate_State1= h_gate*zero_state\n",
    "print(\"Intermediate_State1 is  \\n{}\\n which is equal to |+>\".format(Intermediate_State1))"
   ]
  },
  {
   "cell_type": "code",
   "execution_count": 47,
   "id": "09ed0846-752b-429f-8a82-4a121be3f365",
   "metadata": {
    "tags": []
   },
   "outputs": [
    {
     "data": {
      "image/png": "[encoded data removed]",
      "text/plain": [
       "<Figure size 193.726x84.28 with 1 Axes>"
      ]
     },
     "metadata": {},
     "output_type": "display_data"
    }
   ],
   "source": [
    "qc2=QuantumCircuit(1)\n",
    "qc2.s(0)\n",
    "qc2.s(0)\n",
    "display(qc2.draw())\n",
    "\n",
    "\n",
    "# executing the circuit\n",
    "backend = Aer.get_backend('statevector_simulator')\n",
    "b = BasicAer.get_backend('unitary_simulator')\n",
    "job = execute(qc2, backend)\n",
    "result = job.result()\n"
   ]
  },
  {
   "cell_type": "markdown",
   "id": "4b0cf8d7-2958-4587-8b6a-6ccf07cad650",
   "metadata": {},
   "source": [
    "<center><b>Applying S gate twice on Intermediate State1</b></center>\n",
    "\n",
    "$$S(S(intermediate State1))=S(S\\ket{+}) = \\begin{bmatrix} 1 & 0   \\\\ 0 & -1 \\end{bmatrix}\\begin{bmatrix} \\frac{1}{\\sqrt{2}} \\\\ \\frac{1}{\\sqrt{2}}\\end{bmatrix}$$\n",
    "\n",
    "$$S(S\\ket{+}) = \\begin{bmatrix} \\frac{1}{\\sqrt{2}} \\\\ -\\frac{1}{\\sqrt{2}}\\end{bmatrix}$$\n",
    "\n",
    "$$S(S\\ket{+}) = \\frac{1}{\\sqrt{2}} \\begin{bmatrix} 1 \\\\ -1\\end{bmatrix}  $$\n",
    "<br/>\n",
    "$$S(S\\ket{+})  = \\ket{-} $$\n",
    "<br/>\n",
    "$$= Intermediate State2$$\n",
    "<br>\n"
   ]
  },
  {
   "cell_type": "code",
   "execution_count": 48,
   "id": "178b2098-eded-4473-a17b-fa5aec958889",
   "metadata": {},
   "outputs": [
    {
     "name": "stdout",
     "output_type": "stream",
     "text": [
      "Combined SS Gate \n",
      "[[ 1.+0.j  0.+0.j]\n",
      " [ 0.+0.j -1.-0.j]]\n",
      "\n",
      "\n",
      "Applying SS gate on Intermediate_State1\n",
      "\n",
      "\n",
      "Intermediate State2\n",
      "[[ 0.707+0.j]\n",
      " [-0.707+0.j]]\n",
      " which is |->\n"
     ]
    }
   ],
   "source": [
    "ss_gate = b.run(transpile(qc2, b)).result().get_unitary(qc2, decimals=3)\n",
    "ss_gate = np.matrix(ss_gate)\n",
    "print(\"Combined SS Gate \\n{}\\n\".format(ss_gate))\n",
    "print(\"\\nApplying SS gate on Intermediate_State1\\n\\n\")\n",
    "Intermediate_State2= ss_gate*Intermediate_State1\n",
    "print(\"Intermediate State2\\n{}\\n which is |->\".format(Intermediate_State2))"
   ]
  },
  {
   "cell_type": "markdown",
   "id": "131ab1db-c1d3-4845-8e5b-8559e7b681ed",
   "metadata": {},
   "source": [
    "<center><b>Applying H gate on Intermediate_State2</b></center>\n",
    "<br/>\n",
    "$$H(IntermediateState2)=H\\ket{-} = \\frac{1}{\\sqrt{2}}\\begin{bmatrix} 1 & 1   \\\\ 1 & -1 \\end{bmatrix}\\frac{1}{\\sqrt{2}}\\begin{bmatrix} 1 \\\\ -1\\end{bmatrix}$$\n",
    "<br/>\n",
    "$$H\\ket{-} = \\frac{1}{{2}}\\begin{bmatrix} 0 \\\\ 2\\end{bmatrix}= \\frac{2}{{2}}\\begin{bmatrix} 0 \\\\ 1\\end{bmatrix} =\\begin{bmatrix} 0 \\\\ 1\\end{bmatrix}$$\n",
    "<br/>\n",
    "$$H\\ket{-} = \\ket{1}= OutputState$$\n"
   ]
  },
  {
   "cell_type": "code",
   "execution_count": 37,
   "id": "05e343a8-0d91-49be-a15c-47a60fe46c08",
   "metadata": {},
   "outputs": [
    {
     "name": "stdout",
     "output_type": "stream",
     "text": [
      " H Gate equals \n",
      "[[ 0.707+0.j  0.707-0.j]\n",
      " [ 0.707+0.j -0.707+0.j]]\n",
      "\n",
      "\n",
      "Applying H gate on Intermediate_State2\n",
      "\n",
      "Output State is  \n",
      "[[0.+0.j]\n",
      " [1.+0.j]]\n",
      " which is equal to |1>\n"
     ]
    }
   ],
   "source": [
    "h_gate = b.run(transpile(qc1, b)).result().get_unitary(qc1, decimals=3)\n",
    "h_gate = np.matrix(h_gate)\n",
    "print(\" H Gate equals \\n{}\\n\".format(h_gate))\n",
    "\n",
    "print(\"\\nApplying H gate on Intermediate_State2\\n\")\n",
    "Output_state= h_gate*Intermediate_State2\n",
    "Output_state=np.round(Output_state)\n",
    "print(\"Output State is  \\n{}\\n which is equal to |1>\".format(Output_state))"
   ]
  },
  {
   "cell_type": "markdown",
   "id": "5e085a4d-3d91-4b19-8776-a3823e60d679",
   "metadata": {},
   "source": [
    "\n",
    "<center><b> Hence applying H(SS)H Gate in series is same as X Gate</b></center>\n",
    "<br/>\n",
    "$$H(S(S((H \\ket{0})))) = \\ket{1}$$\n",
    "<br>\n",
    "\n"
   ]
  },
  {
   "cell_type": "code",
   "execution_count": 38,
   "id": "63af0044-0142-4593-97c0-4e2f72555684",
   "metadata": {},
   "outputs": [
    {
     "data": {
      "image/png": "[encoded data removed]",
      "text/plain": [
       "<Figure size 314.126x84.28 with 1 Axes>"
      ]
     },
     "metadata": {},
     "output_type": "display_data"
    },
    {
     "name": "stdout",
     "output_type": "stream",
     "text": [
      "initial state is |0> \n",
      "[[1.+0.j]\n",
      " [0.+0.j]]\n",
      "\n",
      " H(SS)H Gate equals \n",
      "[[0.+0.j 1.-0.j]\n",
      " [1.-0.j 0.+0.j]]\n",
      "\n",
      "\n",
      "Applying H(SS)H gate on initial state\n",
      "\n",
      "Output is  \n",
      "[[0.+0.j]\n",
      " [1.+0.j]]\n",
      " which is equal to |1>\n"
     ]
    }
   ],
   "source": [
    "#summarised code\n",
    "qc1=QuantumCircuit(1)\n",
    "qc1.h(0)\n",
    "qc1.s(0)\n",
    "qc1.s(0)\n",
    "qc1.h(0)\n",
    "display(qc1.draw())\n",
    "\n",
    "\n",
    "# executing the circuit\n",
    "backend = Aer.get_backend('statevector_simulator')\n",
    "b = BasicAer.get_backend('unitary_simulator')\n",
    "job = execute(qc1, backend)\n",
    "result = job.result()\n",
    "\n",
    "\n",
    "zero_state = np.matrix([[1.+0.j],[0.+0.j]])                            \n",
    "print(\"initial state is |0> \\n{}\\n\".format(zero_state))\n",
    "\n",
    "hssh_gate = b.run(transpile(qc1, b)).result().get_unitary(qc1, decimals=3)\n",
    "hssh_gate = np.matrix(hssh_gate)\n",
    "print(\" H(SS)H Gate equals \\n{}\\n\".format(hssh_gate))\n",
    "\n",
    "print(\"\\nApplying H(SS)H gate on initial state\\n\")\n",
    "output_state= hssh_gate*zero_state\n",
    "print(\"Output is  \\n{}\\n which is equal to |1>\".format(output_state))"
   ]
  },
  {
   "cell_type": "markdown",
   "id": "bac0ad4e-431e-4a23-b061-445c80f7dacd",
   "metadata": {
    "tags": []
   },
   "source": [
    "### 6)  **Y=SXS'**"
   ]
  },
  {
   "cell_type": "markdown",
   "id": "83467269-9116-4365-a1af-5efe09ecc626",
   "metadata": {},
   "source": [
    "<Left>Example</Left>\n",
    "<br>\n",
    "$$Y\\ket{0} = i\\ket{1}$$\n",
    "\n",
    "$$S(X(S'(\\ket{+}))) = i\\ket{1}$$\n",
    "<br>\n",
    "<center><b>$$As \\,\\, we \\,\\,know\\, \\, S' = u1(\\pi/2)=P(-\\pi/2)$$<b><center>\n",
    "<br>\n",
    "$$S' =\\begin{bmatrix} 1 & 0   \\\\ 0 & -i \\end{bmatrix}$$\n",
    "<br>    "
   ]
  },
  {
   "cell_type": "markdown",
   "id": "a37b3e7f-ce38-4861-9140-0877245af4f0",
   "metadata": {},
   "source": [
    "<left>Step 1<left>\n",
    "<center><b>Applying P gate on |0> where $\\theta$ = $-\\pi/2$</b></center>\n",
    "<br>\n",
    "$$P\\ket{0} = \\begin{bmatrix} 1 & 0   \\\\ 0 & -i \\end{bmatrix}\\begin{bmatrix} 1 \\\\ 0\\end{bmatrix}$$\n",
    "<br>\n",
    "$$P\\ket{0} = \\begin{bmatrix}1 \\\\ 0\\end{bmatrix} =\\ket{0}= Intermediate\\,State1$$\n",
    "\n"
   ]
  },
  {
   "cell_type": "code",
   "execution_count": 49,
   "id": "3a0ba571-e53a-43df-8c22-8db087377642",
   "metadata": {},
   "outputs": [
    {
     "data": {
      "image/png": "[encoded data removed]",
      "text/plain": [
       "<Figure size 133.526x84.28 with 1 Axes>"
      ]
     },
     "metadata": {},
     "output_type": "display_data"
    },
    {
     "name": "stdout",
     "output_type": "stream",
     "text": [
      "Initial State  is |0> i.e \n",
      "[[1.+0.j]\n",
      " [0.+0.j]]\n",
      "\n",
      "S' Gate equals \n",
      "[[1.+0.j 0.+0.j]\n",
      " [0.+0.j 0.-1.j]]\n",
      "\n",
      "Applying S' gate on Intermediate_State2 \n",
      "\n",
      "intermediate State1 after applying S gate on intitial state  \n",
      "[[1.+0.j]\n",
      " [0.+0.j]]\n",
      " which is |0>\n"
     ]
    }
   ],
   "source": [
    "#Step 1\n",
    "qc1=QuantumCircuit(1)\n",
    "qc1.p(-pi/2,0)\n",
    "display(qc1.draw())\n",
    "s_gate_HermitianConjugate= b.run(transpile(qc1, b)).result().get_unitary(qc1, decimals=3)\n",
    "s_gate_HermitianConjugate = np.matrix(s_gate_HermitianConjugate)\n",
    "\n",
    "\n",
    "zero_state = np.matrix([[1.+0.j],[0.+0.j]])       \n",
    "print(\"Initial State  is |0> i.e \\n{}\\n\".format(zero_state))\n",
    "\n",
    "print(\"S' Gate equals \\n{}\\n\".format(s_gate_HermitianConjugate))\n",
    "print(\"Applying S' gate on Intermediate_State2 \\n\")\n",
    "\n",
    "\n",
    "intermediate_state1 = s_gate_HermitianConjugate*zero_state\n",
    "print(\"intermediate State1 after applying S gate on intitial state  \\n{}\\n which is |0>\".format(intermediate_state1))\n",
    "\n"
   ]
  },
  {
   "cell_type": "markdown",
   "id": "8e831118-7772-4667-adfc-fc6e39778656",
   "metadata": {},
   "source": [
    "<left>Step 2<left>\n",
    "<center><b>Applying  X  gate  on  Intermediate_State1  </b></center>\n",
    "<br/>\n",
    "$$X\\ket{0} = \\begin{bmatrix} 0 & 1   \\\\ 1 & 0 \\end{bmatrix}\\begin{bmatrix} 1 \\\\ 0\\end{bmatrix}$$\n",
    "<br/>\n",
    "$$X\\ket{0} = \\begin{bmatrix} 0 \\\\1\\end{bmatrix}=\\ket{1}=Intermediate\\,State2$$\n",
    "<br/>\n"
   ]
  },
  {
   "cell_type": "code",
   "execution_count": 40,
   "id": "11414869-0a2f-4df3-b8bc-e14782ea7a71",
   "metadata": {},
   "outputs": [
    {
     "data": {
      "image/png": "[encoded data removed]",
      "text/plain": [
       "<Figure size 133.526x84.28 with 1 Axes>"
      ]
     },
     "metadata": {},
     "output_type": "display_data"
    },
    {
     "name": "stdout",
     "output_type": "stream",
     "text": [
      "X Gate equals \n",
      "[[0.+0.j 1.+0.j]\n",
      " [1.+0.j 0.+0.j]]\n",
      "\n",
      "Applying x gate on Intermediate_State1 \n",
      "\n",
      "Intermediate_State2 is \n",
      "[[0.+0.j]\n",
      " [1.+0.j]]\n",
      " which is |1> \n"
     ]
    }
   ],
   "source": [
    "#step 2\n",
    "#creating a circuit having X gate so that qubit undergoes X gate operation when sent\n",
    "qc2=QuantumCircuit(1)\n",
    "qc2.x(0)\n",
    "display(qc2.draw())\n",
    "x_gate = b.run(transpile(qc2, b)).result().get_unitary(qc2, decimals=3)\n",
    "x_gate = np.matrix(x_gate)\n",
    "print(\"X Gate equals \\n{}\\n\".format(x_gate))\n",
    "print(\"Applying x gate on Intermediate_State1 \\n\")\n",
    "Intermediate_State2=x_gate*intermediate_state1\n",
    "print(\"Intermediate_State2 is \\n{}\\n which is |1> \".format(Intermediate_State2))"
   ]
  },
  {
   "cell_type": "markdown",
   "id": "959c66f3-ba56-49b4-b8da-0a4b62e8c334",
   "metadata": {},
   "source": [
    "<left>Step 3<left>\n",
    "<center><b>Applying S gate on Intermediate_State2 </b></center>\n",
    "<br/>\n",
    "$$S\\ket{1} = \\begin{bmatrix} 1 & 0   \\\\ 0 & i \\end{bmatrix}\\begin{bmatrix}0 \\\\ 1\\end{bmatrix}$$\n",
    "<br/>\n",
    "$$S\\ket{1} =\\begin{bmatrix}  0  \\\\ i\\end{bmatrix} $$\n",
    "<br/>\n",
    "$$S\\ket{1}  = i\\ket{1}$$\n"
   ]
  },
  {
   "cell_type": "code",
   "execution_count": 41,
   "id": "ac71ca95-3bd9-4f92-ac06-6e92a31af1e3",
   "metadata": {},
   "outputs": [
    {
     "data": {
      "image/png": "[encoded data removed]",
      "text/plain": [
       "<Figure size 133.526x84.28 with 1 Axes>"
      ]
     },
     "metadata": {},
     "output_type": "display_data"
    },
    {
     "name": "stdout",
     "output_type": "stream",
     "text": [
      " S Gate \n",
      "[[1.+0.j 0.+0.j]\n",
      " [0.+0.j 0.+1.j]]\n",
      "\n",
      "Output State   \n",
      "[[0.+0.j]\n",
      " [0.+1.j]]\n",
      " which is equal to  i|1>\n"
     ]
    }
   ],
   "source": [
    "#step3\n",
    "qc3 = QuantumCircuit(1)\n",
    "qc3.s(0)\n",
    "\n",
    "display(qc3.draw(output=\"mpl\"))\n",
    "  \n",
    "s_hermitianConjugate_gate = b.run(transpile(qc3, b)).result().get_unitary(qc3, decimals=2)\n",
    "s_hermitianConjugate_gate = np.matrix(s_hermitianConjugate_gate)\n",
    "print(\" S Gate \\n{}\\n\".format(s_hermitianConjugate_gate))\n",
    "\n",
    "output_state = s_gate*Intermediate_State2\n",
    "print(\"Output State   \\n{}\\n which is equal to  i|1>\".format(output_state ))\n",
    "\n"
   ]
  },
  {
   "cell_type": "markdown",
   "id": "ea493c97-613d-4d18-bb66-ce6a43192a82",
   "metadata": {},
   "source": [
    "\n",
    "<center><b> Hence Y = SXS'</b></center>\n",
    "<br/>\n"
   ]
  },
  {
   "cell_type": "code",
   "execution_count": 50,
   "id": "60571248-48ad-448d-aba8-2afab89c8afc",
   "metadata": {},
   "outputs": [
    {
     "data": {
      "image/png": "[encoded data removed]",
      "text/plain": [
       "<Figure size 253.926x84.28 with 1 Axes>"
      ]
     },
     "metadata": {},
     "output_type": "display_data"
    },
    {
     "name": "stdout",
     "output_type": "stream",
     "text": [
      "Initial State  is |0> i.e \n",
      "[[1.+0.j]\n",
      " [0.+0.j]]\n",
      "\n",
      " Sxs' Gate \n",
      "[[ 0.+0.j -0.-1.j]\n",
      " [ 0.+1.j  0.+0.j]]\n",
      "\n",
      "output State after applying SXS' gate on intitial state  \n",
      "[[0.+0.j]\n",
      " [0.+1.j]]\n",
      " which is i|1>\n"
     ]
    }
   ],
   "source": [
    "#summarised code\n",
    "qc1 = QuantumCircuit(1)\n",
    "qc1.p(-pi/2,0)\n",
    "qc1.x(0)\n",
    "qc1.s(0)\n",
    "\n",
    "\n",
    "display(qc1.draw(output=\"mpl\"))\n",
    "\n",
    "\n",
    "# executing the circuit\n",
    "backend = Aer.get_backend('statevector_simulator')\n",
    "b = BasicAer.get_backend('unitary_simulator')\n",
    "job = execute(qc1, backend)\n",
    "result = job.result()\n",
    "\n",
    "zero_state =  np.matrix([[1+0.j],[0+0.j]])   \n",
    "print(\"Initial State  is |0> i.e \\n{}\\n\".format(zero_state))\n",
    "\n",
    "sxs_gate = b.run(transpile(qc1, b)).result().get_unitary(qc1, decimals=3)\n",
    "sxs_gate = np.matrix(sxs_gate)\n",
    "print(\" Sxs' Gate \\n{}\\n\".format(sxs_gate))\n",
    "\n",
    "output_state1 = sxs_gate*zero_state\n",
    "print(\"output State after applying SXS' gate on intitial state  \\n{}\\n which is i|1>\".format(output_state1))\n"
   ]
  }
 ],
 "metadata": {
  "kernelspec": {
   "display_name": "Qiskit v0.34.1 (ipykernel)",
   "language": "python",
   "name": "python3"
  },
  "language_info": {
   "codemirror_mode": {
    "name": "ipython",
    "version": 3
   },
   "file_extension": ".py",
   "mimetype": "text/x-python",
   "name": "python",
   "nbconvert_exporter": "python",
   "pygments_lexer": "ipython3",
   "version": "3.8.12"
  },
  "widgets": {
   "application/vnd.jupyter.widget-state+json": {
    "state": {},
    "version_major": 2,
    "version_minor": 0
   }
  }
 },
 "nbformat": 4,
 "nbformat_minor": 5
}
