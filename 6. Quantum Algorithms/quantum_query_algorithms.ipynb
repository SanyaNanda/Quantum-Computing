{
 "cells": [
  {
   "cell_type": "code",
   "execution_count": 1,
   "metadata": {},
   "outputs": [
    {
     "name": "stdout",
     "output_type": "stream",
     "text": [
      "1.4.1\n"
     ]
    }
   ],
   "source": [
    "from qiskit import __version__\n",
    "print(__version__)"
   ]
  },
  {
   "cell_type": "code",
   "execution_count": 2,
   "metadata": {},
   "outputs": [],
   "source": [
    "from qiskit import QuantumCircuit\n",
    "from qiskit_aer import AerSimulator\n",
    "import numpy as np\n",
    "import galois"
   ]
  },
  {
   "cell_type": "markdown",
   "metadata": {},
   "source": [
    "Deutsch's algorithm\n"
   ]
  },
  {
   "cell_type": "markdown",
   "metadata": {},
   "source": [
    "To be precise, the input is represented by a function \n",
    "f:Σ→Σ from one bit to one bit. There are 4 such functions:\n",
    "\n",
    "\\begin{array}{c|c} \n",
    "a & f_1(a) \\\\\n",
    "\\hline \n",
    "0 & 0 \\\\\n",
    "1 & 0 \\\\\n",
    "\\end{array}\n",
    "\n",
    "\\begin{array}{c|c} \n",
    "a & f_2(a) \\\\\n",
    "\\hline \n",
    "0 & 0 \\\\\n",
    "1 & 1 \\\\\n",
    "\\end{array}\n",
    "\n",
    "\\begin{array}{c|c} \n",
    "a & f_3(a) \\\\\n",
    "\\hline \n",
    "0 & 1 \\\\\n",
    "1 & 0 \\\\\n",
    "\\end{array}\n",
    "\n",
    "\\begin{array}{c|c} \n",
    "a & f_4(a) \\\\\n",
    "\\hline \n",
    "0 & 1 \\\\\n",
    "1 & 1 \\\\\n",
    "\\end{array}\n",
    "\n",
    "f1, f4 -> constant\n",
    "f2, f3 -> balanced\n"
   ]
  },
  {
   "cell_type": "code",
   "execution_count": 3,
   "metadata": {},
   "outputs": [],
   "source": [
    "def deutsch_function(case: int):\n",
    "    # This function generates a quantum circuit for one of the 4 functions\n",
    "    # from one bit to one bit\n",
    "\n",
    "    if case not in [1, 2, 3, 4]:\n",
    "        raise ValueError(\"`case` must be 1, 2, 3, or 4.\")\n",
    "\n",
    "    f = QuantumCircuit(2)\n",
    "    if case in [2, 3]:\n",
    "        f.cx(0, 1)\n",
    "    if case in [3, 4]:\n",
    "        f.x(1)\n",
    "    return f"
   ]
  },
  {
   "cell_type": "code",
   "execution_count": null,
   "metadata": {},
   "outputs": [
    {
     "data": {
      "image/png": "[encoded data removed]",
      "text/plain": [
       "<Figure size 161.878x200.667 with 1 Axes>"
      ]
     },
     "metadata": {},
     "output_type": "display_data"
    },
    {
     "data": {
      "image/png": "[encoded data removed]",
      "text/plain": [
       "<Figure size 203.683x200.667 with 1 Axes>"
      ]
     },
     "metadata": {},
     "output_type": "display_data"
    }
   ],
   "source": [
    "# constant\n",
    "display(deutsch_function(1).draw(output=\"mpl\"))\n",
    "display(deutsch_function(4).draw(output=\"mpl\"))"
   ]
  },
  {
   "cell_type": "code",
   "execution_count": 23,
   "metadata": {},
   "outputs": [
    {
     "data": {
      "image/png": "[encoded data removed]",
      "text/plain": [
       "<Figure size 203.683x200.667 with 1 Axes>"
      ]
     },
     "metadata": {},
     "output_type": "display_data"
    },
    {
     "data": {
      "image/png": "[encoded data removed]",
      "text/plain": [
       "<Figure size 287.294x200.667 with 1 Axes>"
      ]
     },
     "metadata": {},
     "output_type": "display_data"
    }
   ],
   "source": [
    "# balanced\n",
    "display(deutsch_function(2).draw(output=\"mpl\"))\n",
    "display(deutsch_function(3).draw(output=\"mpl\"))"
   ]
  },
  {
   "cell_type": "code",
   "execution_count": 6,
   "metadata": {},
   "outputs": [],
   "source": [
    "def compile_circuit(function: QuantumCircuit):\n",
    "    # Compiles a circuit for use in Deutsch's algorithm.\n",
    "\n",
    "    n = function.num_qubits - 1\n",
    "    qc = QuantumCircuit(n + 1, n)\n",
    "\n",
    "    qc.x(n)\n",
    "    qc.h(range(n + 1))\n",
    "\n",
    "    qc.barrier()\n",
    "    qc.compose(function, inplace=True)\n",
    "    qc.barrier()\n",
    "\n",
    "    qc.h(range(n))\n",
    "    qc.measure(range(n), range(n))\n",
    "\n",
    "    return qc"
   ]
  },
  {
   "cell_type": "code",
   "execution_count": 7,
   "metadata": {},
   "outputs": [
    {
     "data": {
      "image/png": "[encoded data removed]",
      "text/plain": [
       "<Figure size 788.961x284.278 with 1 Axes>"
      ]
     },
     "metadata": {},
     "output_type": "display_data"
    }
   ],
   "source": [
    "display(compile_circuit(deutsch_function(3)).draw(output=\"mpl\"))"
   ]
  },
  {
   "cell_type": "code",
   "execution_count": 8,
   "metadata": {},
   "outputs": [],
   "source": [
    "def deutsch_algorithm(function: QuantumCircuit):\n",
    "    # Determine if a one-bit function is constant or balanced.\n",
    "\n",
    "    qc = compile_circuit(function)\n",
    "\n",
    "    result = AerSimulator().run(qc, shots=1, memory=True).result()\n",
    "    measurements = result.get_memory()\n",
    "    if measurements[0] == \"0\":\n",
    "        return \"constant\"\n",
    "    return \"balanced\""
   ]
  },
  {
   "cell_type": "code",
   "execution_count": 9,
   "metadata": {},
   "outputs": [
    {
     "data": {
      "text/plain": [
       "'balanced'"
      ]
     },
     "metadata": {},
     "output_type": "display_data"
    }
   ],
   "source": [
    "f = deutsch_function(3)\n",
    "display(deutsch_algorithm(f))"
   ]
  },
  {
   "cell_type": "markdown",
   "metadata": {},
   "source": [
    "The Deutsch-Jozsa algorithm\n"
   ]
  },
  {
   "cell_type": "code",
   "execution_count": 10,
   "metadata": {},
   "outputs": [],
   "source": [
    "def dj_query(num_qubits):\n",
    "    # Create a circuit implementing for a query gate for a random function\n",
    "    # satisfying the promise for the Deutsch-Jozsa problem.\n",
    "\n",
    "    qc = QuantumCircuit(num_qubits + 1)\n",
    "\n",
    "    if np.random.randint(0, 2):\n",
    "        # Flip output qubit with 50% chance\n",
    "        qc.x(num_qubits)\n",
    "    if np.random.randint(0, 2):\n",
    "        # return constant circuit with 50% chance\n",
    "        return qc\n",
    "\n",
    "    # Choose half the possible input strings\n",
    "    on_states = np.random.choice(\n",
    "        range(2**num_qubits),  # numbers to sample from\n",
    "        2**num_qubits // 2,  # number of samples\n",
    "        replace=False,  # makes sure states are only sampled once\n",
    "    )\n",
    "\n",
    "    def add_cx(qc, bit_string):\n",
    "        for qubit, bit in enumerate(reversed(bit_string)):\n",
    "            if bit == \"1\":\n",
    "                qc.x(qubit)\n",
    "        return qc\n",
    "\n",
    "    for state in on_states:\n",
    "        qc.barrier()  # Barriers are added to help visualize how the functions are created.\n",
    "        qc = add_cx(qc, f\"{state:0b}\")\n",
    "        qc.mcx(list(range(num_qubits)), num_qubits)\n",
    "        qc = add_cx(qc, f\"{state:0b}\")\n",
    "\n",
    "    qc.barrier()\n",
    "\n",
    "    return qc"
   ]
  },
  {
   "cell_type": "code",
   "execution_count": 11,
   "metadata": {},
   "outputs": [
    {
     "data": {
      "image/png": "[encoded data removed]",
      "text/plain": [
       "<Figure size 203.885x367.889 with 1 Axes>"
      ]
     },
     "metadata": {},
     "output_type": "display_data"
    }
   ],
   "source": [
    "display(dj_query(3).draw(output=\"mpl\"))"
   ]
  },
  {
   "cell_type": "code",
   "execution_count": 12,
   "metadata": {},
   "outputs": [],
   "source": [
    "def compile_circuit(function: QuantumCircuit):\n",
    "    # Compiles a circuit for use in the Deutsch-Jozsa algorithm.\n",
    "\n",
    "    n = function.num_qubits - 1\n",
    "    qc = QuantumCircuit(n + 1, n)\n",
    "    qc.x(n)\n",
    "    qc.h(range(n + 1))\n",
    "    qc.compose(function, inplace=True)\n",
    "    qc.h(range(n))\n",
    "    qc.measure(range(n), range(n))\n",
    "    return qc"
   ]
  },
  {
   "cell_type": "code",
   "execution_count": 13,
   "metadata": {},
   "outputs": [],
   "source": [
    "def dj_algorithm(function: QuantumCircuit):\n",
    "    # Determine if a function is constant or balanced.\n",
    "\n",
    "    qc = compile_circuit(function)\n",
    "\n",
    "    result = AerSimulator().run(qc, shots=1, memory=True).result()\n",
    "    measurements = result.get_memory()\n",
    "    if \"1\" in measurements[0]:\n",
    "        return \"balanced\"\n",
    "    return \"constant\""
   ]
  },
  {
   "cell_type": "code",
   "execution_count": 14,
   "metadata": {},
   "outputs": [
    {
     "data": {
      "image/png": "[encoded data removed]",
      "text/plain": [
       "<Figure size 1458.05x367.889 with 1 Axes>"
      ]
     },
     "metadata": {},
     "output_type": "display_data"
    },
    {
     "data": {
      "text/plain": [
       "'balanced'"
      ]
     },
     "metadata": {},
     "output_type": "display_data"
    }
   ],
   "source": [
    "f = dj_query(3)\n",
    "display(f.draw(\"mpl\"))\n",
    "display(dj_algorithm(f))"
   ]
  },
  {
   "cell_type": "markdown",
   "metadata": {},
   "source": [
    "Bernstein-Vazirani "
   ]
  },
  {
   "cell_type": "code",
   "execution_count": 15,
   "metadata": {},
   "outputs": [
    {
     "data": {
      "image/png": "[encoded data removed]",
      "text/plain": [
       "<Figure size 371.107x451.5 with 1 Axes>"
      ]
     },
     "metadata": {},
     "output_type": "display_data"
    }
   ],
   "source": [
    "def bv_query(s):\n",
    "    # Create a quantum circuit implementing a query gate for the\n",
    "    # Bernstein-Vazirani problem.\n",
    "\n",
    "    qc = QuantumCircuit(len(s) + 1)\n",
    "    for index, bit in enumerate(reversed(s)):\n",
    "        if bit == \"1\":\n",
    "            qc.cx(index, len(s))\n",
    "    return qc\n",
    "\n",
    "display(bv_query(\"1011\").draw(output=\"mpl\"))"
   ]
  },
  {
   "cell_type": "code",
   "execution_count": 16,
   "metadata": {},
   "outputs": [
    {
     "data": {
      "text/plain": [
       "'1011'"
      ]
     },
     "metadata": {},
     "output_type": "display_data"
    }
   ],
   "source": [
    "def bv_algorithm(function: QuantumCircuit):\n",
    "    qc = compile_circuit(function)\n",
    "    result = AerSimulator().run(qc, shots=1, memory=True).result()\n",
    "    return result.get_memory()[0]\n",
    "\n",
    "display(bv_algorithm(bv_query(\"1011\")))"
   ]
  },
  {
   "cell_type": "markdown",
   "metadata": {},
   "source": [
    "Simon's algorithm"
   ]
  },
  {
   "cell_type": "code",
   "execution_count": 17,
   "metadata": {},
   "outputs": [],
   "source": [
    "def simon_function(s: str):\n",
    "    # Create a QuantumCircuit implementing a query gate for Simon problem obeying the\n",
    "    # promise for the hidden string `s`\n",
    "\n",
    "    # The quantum circuit will have 2n qubits for n being the length of s\n",
    "    n = len(s)\n",
    "    qc = QuantumCircuit(2 * n)\n",
    "\n",
    "    # Define a random permutation of all n bit strings. This permutation will\n",
    "    # effectively hide the string s.\n",
    "    pi = np.random.permutation(2**n)\n",
    "\n",
    "    # Now we'll define a query gate explicitly. The idea is to first define a function\n",
    "    # g(x) = min{x,x ^ s}, which is a very simple function that satisfies the promise.\n",
    "    # (The operation ^ is the bitwise XOR.) Then we take f to be the composition of g\n",
    "    # and the random permutation pi. This gives us a random function satisfying the\n",
    "    # promise for s.\n",
    "\n",
    "    query_gate = np.zeros((4**n, 4**n))\n",
    "    for x in range(2**n):\n",
    "        for y in range(2**n):\n",
    "            z = y ^ pi[min(x, x ^ int(s, 2))]\n",
    "            query_gate[x + 2**n * z, x + 2**n * y] = 1\n",
    "\n",
    "    # Our circuit has just this one query gate\n",
    "    qc.unitary(query_gate, range(2 * n))\n",
    "    return qc"
   ]
  },
  {
   "cell_type": "code",
   "execution_count": 18,
   "metadata": {},
   "outputs": [],
   "source": [
    "def simon_measurements(problem: QuantumCircuit, k: int):\n",
    "    # This is the quantum part of Simon's algorithm. Given a `QuantumCircuit` that\n",
    "    # implements f, gets k measurement outcomes to be post-processed later.\n",
    "\n",
    "    n = problem.num_qubits // 2\n",
    "\n",
    "    qc = QuantumCircuit(2 * n, n)\n",
    "    qc.h(range(n))\n",
    "    qc.compose(problem, inplace=True)\n",
    "    qc.h(range(n))\n",
    "    qc.measure(range(n), range(n))\n",
    "\n",
    "    result = AerSimulator().run(qc, shots=k, memory=True).result()\n",
    "    return result.get_memory()"
   ]
  },
  {
   "cell_type": "code",
   "execution_count": 19,
   "metadata": {},
   "outputs": [
    {
     "data": {
      "text/plain": [
       "['10110',\n",
       " '11110',\n",
       " '00111',\n",
       " '10110',\n",
       " '00100',\n",
       " '11101',\n",
       " '01011',\n",
       " '00111',\n",
       " '00100',\n",
       " '10110',\n",
       " '00111',\n",
       " '11010']"
      ]
     },
     "metadata": {},
     "output_type": "display_data"
    }
   ],
   "source": [
    "display(simon_measurements(simon_function(\"10011\"),k=12))"
   ]
  },
  {
   "cell_type": "code",
   "execution_count": 20,
   "metadata": {},
   "outputs": [],
   "source": [
    "def simon_algorithm(problem: QuantumCircuit):\n",
    "    # Given a `QuantumCircuit` that implements a query gate for Simon problem, return\n",
    "    # the hidden string `s`.\n",
    "\n",
    "    # Quantum part: run the circuit defined previously k times and gather the measurement\n",
    "    # results. Replace +10 by +r for any nonnegative integer r depending on desired\n",
    "    # confidence.\n",
    "\n",
    "    measurements = simon_measurements(problem, k=problem.num_qubits // 2 + 10)\n",
    "\n",
    "    # Classical post-processing:\n",
    "\n",
    "    # 1. Convert measurements of form '11101' to 2D-array of integers\n",
    "    matrix = np.array([list(bitstring) for bitstring in measurements]).astype(int)\n",
    "\n",
    "    # 2. Interpret matrix as using arithmetic mod 2, and find null space\n",
    "    null_space = galois.GF(2)(matrix).null_space()\n",
    "\n",
    "    # 3. Convert back to a string\n",
    "    print(\"Guess for hidden string s: \")\n",
    "    if len(null_space) == 0:\n",
    "        # No non-trivial solution; `s` is all-zeros\n",
    "        return \"0\" * len(measurements[0])\n",
    "    return \"\".join(np.array(null_space[0]).astype(str))"
   ]
  },
  {
   "cell_type": "code",
   "execution_count": 21,
   "metadata": {},
   "outputs": [
    {
     "name": "stdout",
     "output_type": "stream",
     "text": [
      "Guess for hidden string s: \n"
     ]
    },
    {
     "data": {
      "text/plain": [
       "'10011'"
      ]
     },
     "metadata": {},
     "output_type": "display_data"
    }
   ],
   "source": [
    "display(simon_algorithm(simon_function(\"10011\")))"
   ]
  },
  {
   "cell_type": "code",
   "execution_count": null,
   "metadata": {},
   "outputs": [],
   "source": []
  }
 ],
 "metadata": {
  "kernelspec": {
   "display_name": "env",
   "language": "python",
   "name": "env"
  },
  "language_info": {
   "codemirror_mode": {
    "name": "ipython",
    "version": 3
   },
   "file_extension": ".py",
   "mimetype": "text/x-python",
   "name": "python",
   "nbconvert_exporter": "python",
   "pygments_lexer": "ipython3",
   "version": "3.10.11"
  }
 },
 "nbformat": 4,
 "nbformat_minor": 2
}
