{
 "cells": [
  {
   "cell_type": "markdown",
   "id": "a336cf70-6fdb-4727-8795-970fd0799c0d",
   "metadata": {},
   "source": [
    "### **Swap Gate** \n",
    "#### Swap gate swaps the values of the bits at each position in the input.\n",
    "#### swapping bits on 2-bit string:-\n",
    "$$\\ket{00}  \\to \\ket{00}$$\n",
    "$$\\ket{01}  \\to \\ket{10}$$\n",
    "$$\\ket{10}  \\to \\ket{01}$$\n",
    "$$\\ket{11}  \\to \\ket{11}$$\n",
    "<br>\n",
    "<center><b>$$Swap \\,Gate=\\begin{bmatrix} 1 & 0 & 0 & 0 \\\\ 0 & 0 & 1 & 0 \\\\0 & 1 & 0 & 0\\\\0 & 0 & 0 & 1\\end{bmatrix} $$</b></center>\n",
    "\n",
    "\n"
   ]
  },
  {
   "cell_type": "code",
   "execution_count": 115,
   "id": "92faa1f9-e200-4ac3-a9f3-ce4bb0491b2f",
   "metadata": {},
   "outputs": [],
   "source": [
    "# importing dependencies\n",
    "from qiskit import QuantumCircuit, ClassicalRegister, QuantumRegister, transpile\n",
    "from qiskit.tools.visualization import circuit_drawer\n",
    "from qiskit.quantum_info import state_fidelity\n",
    "from qiskit import BasicAer\n",
    "from qiskit import Aer, execute, visualization\n",
    "import matplotlib.pyplot as plt\n",
    "import numpy as np\n",
    "from math import pi\n",
    "from IPython.display import Video"
   ]
  },
  {
   "cell_type": "code",
   "execution_count": 116,
   "id": "55a7a1b5-f23a-485f-a5fd-990f62062cbe",
   "metadata": {},
   "outputs": [
    {
     "data": {
      "image/png": "[encoded data removed]",
      "text/plain": [
       "<Figure size 146.652x144.48 with 1 Axes>"
      ]
     },
     "execution_count": 116,
     "metadata": {},
     "output_type": "execute_result"
    }
   ],
   "source": [
    "#q=QuantumRegister(2)\n",
    "qc = QuantumCircuit(2)\n",
    "qc.swap(0,1)   #inbuilt function swap(a,b) swaps states of qubit a and qubit b.here q0 and q1 gets swapped\n",
    "qc.draw()\n"
   ]
  },
  {
   "cell_type": "code",
   "execution_count": 117,
   "id": "cc671b10-dd12-4ba2-a2da-c89521dba6d0",
   "metadata": {},
   "outputs": [
    {
     "data": {
      "text/plain": [
       "array([[1.+0.j, 0.+0.j, 0.+0.j, 0.+0.j],\n",
       "       [0.+0.j, 0.+0.j, 1.+0.j, 0.+0.j],\n",
       "       [0.+0.j, 1.+0.j, 0.+0.j, 0.+0.j],\n",
       "       [0.+0.j, 0.+0.j, 0.+0.j, 1.+0.j]])"
      ]
     },
     "execution_count": 117,
     "metadata": {},
     "output_type": "execute_result"
    }
   ],
   "source": [
    "\n",
    "# executing the circuit\n",
    "backend = Aer.get_backend('statevector_simulator')\n",
    "b = BasicAer.get_backend('unitary_simulator')\n",
    "job = execute(qc, backend)\n",
    "result = job.result()\n",
    "\n",
    "swap_gate = b.run(transpile(qc, b)).result().get_unitary(qc, decimals=3)\n",
    "swap_gate"
   ]
  },
  {
   "cell_type": "markdown",
   "id": "59e4ed92-b22d-4625-ac19-dbf0a6c31c7c",
   "metadata": {},
   "source": [
    "<left><b>Let  </b></left>\n",
    "\n",
    "<center><b>$$ q0 \\to \\ket{1} $$</b></center>\n",
    "<center><b>$$ q1 \\to \\ket{0} $$</b></center>\n",
    "<left><b>We know </b></left>\n",
    "<center><b>$$  \\ket{q0q1}=\\ket{q0}\\otimes\\ket{q1} $$</b></center>\n",
    "<center><b>$$ (where  \\otimes represent \\, tensorflow )$$</b></center>\n",
    "<br>\n",
    "<center><b>$$ \\ket{q0q1}=\\ket{10}=\\ket{1} \\otimes \\ket{0} $$</b></center>\n",
    "<br>\n",
    "<center><b>$$\\ket{10} =\\begin{bmatrix} 0 \\\\ 1\\end{bmatrix} \\otimes \\begin{bmatrix} 1 \\\\ 0\\end{bmatrix}$$</b></center>\n",
    "<br>\n",
    "<center><b>$$\\ket{10} =\\begin{bmatrix} 0 \\\\ 0\\\\1\\\\0\\end{bmatrix} $$</b></center>\n",
    "<br>\n",
    "<center><b>$$Swap \\,Gate=\\begin{bmatrix} 1 & 0 & 0 & 0 \\\\ 0 & 0 & 1 & 0 \\\\0 & 1 & 0 & 0\\\\0 & 0 & 0 & 1\\end{bmatrix} $$</b></center>\n",
    "<br>\n",
    "\n",
    "\n",
    "\n",
    "<center><b> Now Applying Swap Gate on |10></b></center>\n",
    "<br>\n",
    "\n",
    "\n",
    "<center><b>$$\\ket{\\varphi}=Swap \\,\\ket{10}=\\begin{bmatrix} 1 & 0 & 0 & 0 \\\\ 0 & 0 & 1 & 0 \\\\0 & 1 & 0 & 0\\\\0 & 0 & 0 & 1\\end{bmatrix}\\begin{bmatrix} 0 \\\\ 0\\\\1\\\\0 \\end{bmatrix} $$</b></center>\n",
    "<br>\n",
    "\n",
    "<center><b>$$\\ket{\\varphi}=\\begin{bmatrix} 0 \\\\ 1\\\\0\\\\0 \\end{bmatrix} $$</b></center>\n",
    "<br>\n",
    "\n",
    "<center><b>$$\\ket{\\varphi}=\\ket{01} $$</b></center>\n",
    "<br>\n",
    "\n",
    "<center><b>Thus applying Swap gate on |10> gave |01></b></center>"
   ]
  },
  {
   "cell_type": "code",
   "execution_count": 118,
   "id": "f8808d4d-e38e-45d9-b39c-6afe02c3052c",
   "metadata": {},
   "outputs": [
    {
     "name": "stdout",
     "output_type": "stream",
     "text": [
      "|10> \n",
      "[[0]\n",
      " [0]\n",
      " [1]\n",
      " [0]]\n",
      "\n",
      "Swap Gate \n",
      "[[1.+0.j 0.+0.j 0.+0.j 0.+0.j]\n",
      " [0.+0.j 0.+0.j 1.+0.j 0.+0.j]\n",
      " [0.+0.j 1.+0.j 0.+0.j 0.+0.j]\n",
      " [0.+0.j 0.+0.j 0.+0.j 1.+0.j]]\n",
      "\n",
      "Applying Swap Gate gate on |10> gives \n",
      "[[0.+0.j]\n",
      " [1.+0.j]\n",
      " [0.+0.j]\n",
      " [0.+0.j]]\n",
      " which is equal to |01>\n"
     ]
    }
   ],
   "source": [
    "one_zero_state = np.matrix([[0],[0],[1],[0]])\n",
    "print(\"|10> \\n{}\\n\".format(one_zero_state))\n",
    "\n",
    "swap_gate = b.run(transpile(qc, b)).result().get_unitary(qc, decimals=3)\n",
    "swap_gate = np.matrix(swap_gate)\n",
    "print(\"Swap Gate \\n{}\\n\".format(swap_gate))\n",
    "\n",
    "output = swap_gate*one_zero_state\n",
    "print(\"Applying Swap Gate gate on |10> gives \\n{}\\n which is equal to |01>\".format(output))"
   ]
  },
  {
   "cell_type": "markdown",
   "id": "3f3fb9d1-79d3-4cdf-9893-af64251596ea",
   "metadata": {},
   "source": [
    "### **Swap Gate could be decomposed into combination of CNOT Gates**"
   ]
  },
  {
   "cell_type": "markdown",
   "id": "c094e56b-c4ab-4066-a62b-0770ce9f0e5e",
   "metadata": {},
   "source": [
    "####  **CNOT Gate**\n",
    "#### It is a conditional gate that performs ***X Gate*** on **target qubit** if **control qubit is |1>**\n",
    "\n",
    "<br>\n",
    "<center><b>$$CNOT \\,Gate=\\begin{bmatrix} 1 & 0 & 0 & 0 \\\\ 0 & 1 & 0 & 0 \\\\0 & 0 & 0 & 1\\\\0 & 0 & 1 & 0\\end{bmatrix} $$</b></center>\n",
    "<br>\n",
    "<center><b>$$CNOT \\,Gate=\\begin{bmatrix} I & 0 \\\\ 0 & X\\end{bmatrix} $$</b></center>\n",
    "<br>\n",
    "<left><b>we know<b><left>\n",
    "<center><b>$$CNOT \\,Gate=\\begin{bmatrix} 1 & 0 \\\\ 0 & 0\\end{bmatrix}\\otimes \n",
    "\\begin{bmatrix} 1 & 0 \\\\ 0 & 1\\end{bmatrix} + \\begin{bmatrix} 0 & 0 \\\\ 0 & 1\\end{bmatrix}\\otimes \n",
    "\\begin{bmatrix} 0 & 1 \\\\ 1 & 0\\end{bmatrix}$$</b></center>\n",
    "<br>\n",
    "<center><b>$$=\\ket{0}\\bra{0} \\otimes \\, I \\, + \\ket{1}\\bra{1} \\, \\otimes \\, X$$</b></center>\n",
    "<br>"
   ]
  },
  {
   "cell_type": "markdown",
   "id": "e71f2468-3608-4160-9333-a1c61d661388",
   "metadata": {},
   "source": [
    "<left><b>Example1 : <b><left>\n",
    "#### Swapping using CNOT Gate "
   ]
  },
  {
   "cell_type": "code",
   "execution_count": 119,
   "id": "65c3f015-c3e8-443a-a897-2c0743690526",
   "metadata": {},
   "outputs": [
    {
     "data": {
      "image/png": "[encoded data removed]",
      "text/plain": [
       "<Figure size 538.279x204.68 with 1 Axes>"
      ]
     },
     "metadata": {},
     "output_type": "display_data"
    },
    {
     "name": "stdout",
     "output_type": "stream",
     "text": [
      "{'10': 1024}\n"
     ]
    },
    {
     "data": {
      "image/png": "[encoded data removed]",
      "text/plain": [
       "<Figure size 504x360 with 1 Axes>"
      ]
     },
     "metadata": {},
     "output_type": "display_data"
    },
    {
     "name": "stdout",
     "output_type": "stream",
     "text": [
      "Histogram shows that the probability of getting 10 i.e q0=1,q1=0 is 1\n"
     ]
    }
   ],
   "source": [
    "# importing dependencies\n",
    "from qiskit import QuantumCircuit, ClassicalRegister, QuantumRegister, transpile\n",
    "from qiskit.tools.visualization import circuit_drawer\n",
    "from qiskit.quantum_info import state_fidelity\n",
    "from qiskit import BasicAer\n",
    "from qiskit import Aer, execute, visualization\n",
    "import matplotlib.pyplot as plt\n",
    "import numpy as np\n",
    "from math import pi\n",
    "from IPython.display import Video\n",
    "\n",
    "swap = QuantumCircuit(2)\n",
    "def swap_func(b, a,swap):\n",
    "    \"\"\"\n",
    "    A quantum circuit that swaps the input bits.\n",
    "    01 => 10\n",
    "    \"\"\"\n",
    "    \n",
    "    #swap = QuantumCircuit(2, 2)\n",
    "    if a:\n",
    "        swap.x(0)\n",
    "    if b:\n",
    "        swap.x(1)\n",
    "    #display(swap.draw(output=\"mpl\"))\n",
    "    swap.cx(0, 1)\n",
    "    swap.cx(1, 0)\n",
    "    swap.cx(0, 1)\n",
    "    swap.measure_all()\n",
    "    display(swap.draw(output=\"mpl\"))\n",
    "\n",
    "    \n",
    "swap_func(0,1,swap)#calling the function swap_func. q0 =0  and q1=1. we want to swap them.Thus desired output is 10\n",
    "\n",
    "backend = Aer.get_backend('qasm_simulator')\n",
    "job = execute(swap, backend)\n",
    "result = job.result()\n",
    "counts = result.get_counts(swap)\n",
    "print(counts)   #tells the number of times we get a particular output(which in this case is 10) from 1024 repetitons\n",
    "\n",
    "#plotting the histogram\n",
    "graph = visualization.plot_histogram(counts)\n",
    "display(graph)\n",
    "\n",
    "print(\"Histogram shows that the probability of getting 10 i.e q0=1,q1=0 is 1\")    "
   ]
  },
  {
   "cell_type": "markdown",
   "id": "b0cd3074-2f0b-4123-9c6c-d91bb8136ba0",
   "metadata": {},
   "source": [
    "## **Swapping n Bits**"
   ]
  },
  {
   "cell_type": "code",
   "execution_count": 120,
   "id": "be6aed1a-4535-4874-9a48-eb0d31ec70fe",
   "metadata": {},
   "outputs": [
    {
     "name": "stdout",
     "output_type": "stream",
     "text": [
      "{'011001': 1024}\n"
     ]
    },
    {
     "data": {
      "image/png": "[encoded data removed]",
      "text/plain": [
       "<Figure size 504x360 with 1 Axes>"
      ]
     },
     "metadata": {},
     "output_type": "display_data"
    },
    {
     "name": "stdout",
     "output_type": "stream",
     "text": [
      "{'010001': 1024}\n"
     ]
    },
    {
     "data": {
      "image/png": "[encoded data removed]",
      "text/plain": [
       "<Figure size 504x360 with 1 Axes>"
      ]
     },
     "metadata": {},
     "output_type": "display_data"
    }
   ],
   "source": [
    "def swap_func(bits):\n",
    "    \"\"\"\n",
    "    Swap n qubit values (right-most with left-most).\n",
    "    100000 => 000001\n",
    "    111000 => 000111\n",
    "    100010 => 010001\n",
    "    \"\"\"\n",
    "    n = len(bits)\n",
    "    swap = QuantumCircuit(n)\n",
    "\n",
    "    # Initialize the qubits, preserving the input bits.\n",
    "    for i in range(n):\n",
    "        if bits[n - i - 1]:\n",
    "            swap.x([i])\n",
    "\n",
    "    # Set the left index to the first bit and the right index to the last bit, swap accordingly.\n",
    "    i = 0\n",
    "    j = n\n",
    "    while i < j:\n",
    "        j = n - i - 1\n",
    "        swap.cx(i, j)\n",
    "        swap.cx(j, i)\n",
    "        swap.cx(i, j)\n",
    "        i = i + 1\n",
    "\n",
    "    swap.measure_all()\n",
    "\n",
    "    \n",
    "    \n",
    "         \n",
    "    backend = Aer.get_backend('qasm_simulator')\n",
    "    job = execute(swap, backend)\n",
    "    result = job.result()\n",
    "    counts = result.get_counts(swap)\n",
    "    print(counts)   #tells the number of times we get a particular output from 1024 repetitons\n",
    "\n",
    "    #plotting the histogram\n",
    "    graph = visualization.plot_histogram(counts)\n",
    "    display(graph)\n",
    "    \n",
    "    \n",
    "swap_func([1,0,0,1,1,0])   #when swapped output should be 011001 i.e reverse of the input \n",
    "swap_func([1,0,0,0,1,0])\n",
    "\n"
   ]
  }
 ],
 "metadata": {
  "kernelspec": {
   "display_name": "Qiskit v0.34.1 (ipykernel)",
   "language": "python",
   "name": "python3"
  },
  "language_info": {
   "codemirror_mode": {
    "name": "ipython",
    "version": 3
   },
   "file_extension": ".py",
   "mimetype": "text/x-python",
   "name": "python",
   "nbconvert_exporter": "python",
   "pygments_lexer": "ipython3",
   "version": "3.8.12"
  },
  "widgets": {
   "application/vnd.jupyter.widget-state+json": {
    "state": {},
    "version_major": 2,
    "version_minor": 0
   }
  }
 },
 "nbformat": 4,
 "nbformat_minor": 5
}
