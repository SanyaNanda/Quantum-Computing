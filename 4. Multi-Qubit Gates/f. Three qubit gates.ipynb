{
 "cells": [
  {
   "cell_type": "markdown",
   "metadata": {},
   "source": [
    "$$\\newcommand{\\ket}[1]{|#1\\rangle}$$\n",
    "$$\\newcommand{\\bra}[1]{\\langle#1|}$$\n",
    "### **Three-Qubit Gates**\n",
    "#### For three qubits, the possible outcomes on measurement are -\n",
    "$$\\ket{000} , \\ket{001} , \\ket{010} , \\ket{011} , \\ket{100} , \\ket{110} , \\ket{101} , \\ket{111}$$ \n",
    "<br>\n",
    "\n",
    "<center><b>We know </b></center>\n",
    "$$\\ket{abc}=\\ket{a}\\otimes\\ket{b}\\otimes\\ket{c} $$"
   ]
  },
  {
   "cell_type": "markdown",
   "metadata": {},
   "source": [
    "<left><b>For eg$\\to$<b><left>   \n",
    "$$ \\ket{000}=\\ket{0}\\otimes\\ket{0}\\otimes\\ket{0} $$\n",
    "<br>\n",
    "\n",
    "$$\\ket{000}=\\begin{bmatrix}1 \\\\ 0 \\\\ 0 \\\\ 0 \\\\ 0 \\\\ 0 \\\\ 0 \\\\ 0\\end{bmatrix} $$\n",
    "####     \n",
    " \n",
    "<br>\n"
   ]
  },
  {
   "cell_type": "markdown",
   "metadata": {},
   "source": [
    "<left><b>Trick<b><left>\n",
    "$$\\ket{\\psi}=\\begin{bmatrix}Amplitude\\,of \\ket{000} \\\\ Amplitude\\,of \\ket{001} \\\\ Amplitude\\,of \\ket{010} \\\\ Amplitude\\,of \\ket{011} \\\\ Amplitude\\,of \\ket{100} \\\\ Amplitude\\,of \\ket{101} \\\\ Amplitude\\,of \\ket{110} \\\\ Amplitude\\,of \\ket{111}\\end{bmatrix} $$\n",
    "<br>\n",
    "<center><b> Statevector of $\\ket{\\psi}$= $\\ket{abc}$ could be obtained by replacing $\\ket{abc}$ with 1 in the above column vector and all other elements as 0<b><left> "
   ]
  },
  {
   "cell_type": "code",
   "execution_count": 1,
   "metadata": {},
   "outputs": [],
   "source": [
    "# importing dependencies\n",
    "from qiskit import QuantumCircuit, ClassicalRegister, QuantumRegister, transpile , assemble\n",
    "from qiskit.tools.visualization import circuit_drawer\n",
    "from qiskit.quantum_info import average_gate_fidelity, process_fidelity, Operator\n",
    "from qiskit import BasicAer\n",
    "from qiskit import Aer, execute, visualization\n",
    "import matplotlib.pyplot as plt\n",
    "import numpy as np\n",
    "from math import pi,sqrt\n",
    "from qiskit.visualization import array_to_latex"
   ]
  },
  {
   "cell_type": "markdown",
   "metadata": {
    "tags": []
   },
   "source": [
    "## **1)Toffoli gate (ccx gate)**\n",
    "##### **It is also known as double controlled-NOT gate .**\n",
    "##### **It has two control qubits and one target. It applies a NOT to the target only when both controls are in |1> state .** \n",
    "\n",
    "| Control qubits | Target Qubit |\n",
    "| :-: | :-: |\n",
    "| $\\ket{00}$ | $\\ket{0}$ |\n",
    "| $\\ket{01}$ | $\\ket{0}$ |\n",
    "| $\\ket{10}$ | $\\ket{0}$ |\n",
    "| $\\ket{11}$ | $\\ket{1}$ |\n",
    "\n",
    "<center>target qubit is initialised at 0</center>\n",
    "\n",
    "#### From the Truth Table it is clear that Toffoli gate behaves like AND Gate, and on applying X gate on the output state as NAND gate\n",
    "<br>\n",
    "<center><b>$$\\ket{abc} \\to \\ket{a}  \\otimes \\ket{b} \\otimes \\ket{c}$$<b><center>\n",
    "<br>\n",
    "<center><b>$$C_{cx}=\\begin{bmatrix} 1 & 0 & 0 & 0 & 0 & 0 & 0 & 0 \\\\ 0 & 1 & 0 & 0 & 0 & 0 & 0 & 0 \\\\ 0 & 1 & 0 & 0 & 0 & 0 & 0 & 0\\\\ 0 & 0 & 0 & 0 & 0 & 0 & 0 & 1 \\\\ 0 & 0 & 0 & 0 & 1 & 0 & 0 & 0 \\\\ 0 & 0 & 0 & 0 & 0 & 1 & 0 & 0 \\\\ 0 & 0 & 0 & 0 & 0 & 0 & 1 & 0 \\\\ 0 & 1 & 0 & 1 & 0 & 0 & 0 & 0\\end{bmatrix} $$<b><center>"
   ]
  },
  {
   "cell_type": "code",
   "execution_count": 2,
   "metadata": {},
   "outputs": [],
   "source": [
    "def toffoli(q1, q0):\n",
    "    qc = QuantumCircuit(3)\n",
    "    if q1:\n",
    "        qc.x(1)\n",
    "    if q0:\n",
    "        qc.x(0)  \n",
    "    #qc.ccx(contol qubit 1, control qubit 2 , target qubit)       \n",
    "    qc.ccx(0,1,2)  \n",
    "    display(qc.draw('mpl'))\n",
    "    \n",
    "    # executing the circuit\n",
    "    backend = BasicAer.get_backend('statevector_simulator')\n",
    "    job1 = execute(qc, backend)\n",
    "    result1 = job1.result()\n",
    "\n",
    "    # probability of output state\n",
    "    counts = result1.get_counts(qc)\n",
    "    print(counts)\n",
    "    \n",
    "    global gate1\n",
    "    gate1 = Operator(qc)\n",
    "    "
   ]
  },
  {
   "cell_type": "markdown",
   "metadata": {},
   "source": [
    "#### Example 1: When both control qubits are $\\ket{0}$ , there is no change in target qubit's state"
   ]
  },
  {
   "cell_type": "markdown",
   "metadata": {},
   "source": [
    "q2 or the first qubit on the left in the qubit string is the target qubit"
   ]
  },
  {
   "cell_type": "code",
   "execution_count": 3,
   "metadata": {
    "scrolled": true
   },
   "outputs": [
    {
     "data": {
      "image/png": "[encoded data removed]",
      "text/plain": [
       "<Figure size 146.797x204.68 with 1 Axes>"
      ]
     },
     "metadata": {},
     "output_type": "display_data"
    },
    {
     "name": "stdout",
     "output_type": "stream",
     "text": [
      "{'000': 1.0}\n"
     ]
    }
   ],
   "source": [
    "toffoli(0,0)\n",
    "gate_1 = gate1"
   ]
  },
  {
   "cell_type": "markdown",
   "metadata": {},
   "source": [
    "#### Example 2: When one of the control qubits is $\\ket{1}$ , there's no change in target qubit's state"
   ]
  },
  {
   "cell_type": "code",
   "execution_count": 4,
   "metadata": {},
   "outputs": [
    {
     "data": {
      "image/png": "[encoded data removed]",
      "text/plain": [
       "<Figure size 206.997x204.68 with 1 Axes>"
      ]
     },
     "metadata": {},
     "output_type": "display_data"
    },
    {
     "name": "stdout",
     "output_type": "stream",
     "text": [
      "{'001': 1.0}\n"
     ]
    }
   ],
   "source": [
    "toffoli(0,1)"
   ]
  },
  {
   "cell_type": "code",
   "execution_count": 5,
   "metadata": {},
   "outputs": [
    {
     "data": {
      "image/png": "[encoded data removed]",
      "text/plain": [
       "<Figure size 206.997x204.68 with 1 Axes>"
      ]
     },
     "metadata": {},
     "output_type": "display_data"
    },
    {
     "name": "stdout",
     "output_type": "stream",
     "text": [
      "{'010': 1.0}\n"
     ]
    }
   ],
   "source": [
    "toffoli(1,0)"
   ]
  },
  {
   "cell_type": "markdown",
   "metadata": {},
   "source": [
    "#### Example 3: When both control qubits are $\\ket{1}$ , target qubits get flipped by the application of NOT gate"
   ]
  },
  {
   "cell_type": "code",
   "execution_count": 6,
   "metadata": {
    "scrolled": true
   },
   "outputs": [
    {
     "data": {
      "image/png": "[encoded data removed]",
      "text/plain": [
       "<Figure size 206.997x204.68 with 1 Axes>"
      ]
     },
     "metadata": {},
     "output_type": "display_data"
    },
    {
     "name": "stdout",
     "output_type": "stream",
     "text": [
      "{'111': 1.0}\n"
     ]
    }
   ],
   "source": [
    "toffoli(1,1)"
   ]
  },
  {
   "cell_type": "markdown",
   "metadata": {},
   "source": [
    "### Toffoli decomposed to H, T and CNOT gates (universal gates)"
   ]
  },
  {
   "cell_type": "code",
   "execution_count": 7,
   "metadata": {},
   "outputs": [
    {
     "data": {
      "image/png": "[encoded data removed]",
      "text/plain": [
       "<Figure size 869.197x204.68 with 1 Axes>"
      ]
     },
     "execution_count": 7,
     "metadata": {},
     "output_type": "execute_result"
    }
   ],
   "source": [
    "qc = QuantumCircuit(3)\n",
    "qc.h(2)\n",
    "\n",
    "qc.cx(1,2)\n",
    "\n",
    "qc.tdg(2)\n",
    "\n",
    "qc.cx(0,2)\n",
    "\n",
    "qc.t(2)\n",
    "\n",
    "qc.cx(1,2)\n",
    "\n",
    "qc.tdg(2)\n",
    "\n",
    "qc.cx(0,2)\n",
    "\n",
    "qc.barrier()\n",
    "qc.t([1,2])\n",
    "\n",
    "qc.cx(0,1)\n",
    "qc.h(2)\n",
    "\n",
    "qc.t(0)\n",
    "qc.tdg(1)\n",
    "\n",
    "qc.cx(0,1)\n",
    "\n",
    "qc.draw('mpl')"
   ]
  },
  {
   "cell_type": "code",
   "execution_count": 8,
   "metadata": {},
   "outputs": [
    {
     "name": "stdout",
     "output_type": "stream",
     "text": [
      "Average Gate Fidelity: 0.9999999999999992\n",
      "Process Fidelity: 0.9999999999999991\n"
     ]
    }
   ],
   "source": [
    "gate2 = Operator(qc)\n",
    "print('Average Gate Fidelity: {}'.format(average_gate_fidelity(gate_1, gate2)))\n",
    "print('Process Fidelity: {}'.format(process_fidelity(gate_1, gate2)))"
   ]
  },
  {
   "cell_type": "markdown",
   "metadata": {},
   "source": [
    "## **2) Controlled swap gate (Fredkin Gate or Cswap gate)**\n",
    "<br>\n",
    "<center><b>It exchanges the second and third qubits if the first qubit (LSB) is $\\ket{1}$ :</b></center>\n",
    "<br>\n",
    "$$\n",
    "\\ket{abc}\\, \\to \\left\\{\n",
    "    \\begin{array}\\\\\n",
    "        \\ket{bac} & \\mbox{if } c=1 \\\\\n",
    "        \\ket{abc} & \\mbox{if } c= 0 \n",
    "    \\end{array}\n",
    "\\right.\n",
    "$$\n",
    "<br>\n",
    "<center><b>q$_{0}$ is the control qubit and q$_{1}$ and q$_{2}$ are the target qubits</b></center>\n",
    "<br>\n",
    "    $$\n",
    "\\ket{q_{2}q_{1}q_{0}} \\,\\to \\left\\{\n",
    "    \\begin{array}\\\\\n",
    "        \\ket{q_{1}q_{2}q_{0}} & \\mbox{if } q_0=1 \\\\\n",
    "        \\ket{q_{2}q_{1}q_{0}} & \\mbox{if } q_0= 0 \n",
    "    \\end{array}\n",
    "\\right.\n",
    "$$\n",
    "\n",
    "| Initial State | Control qubit | Target Qubits | Output State |\n",
    "| :-: | :-: | :-: | :-: |\n",
    "| $\\ket{000}$ | $\\ket{0}$ | $\\ket{00}$ | $\\ket{000}$ |\n",
    "| $\\ket{001}$ | $\\ket{0}$ | $\\ket{01}$ | $\\ket{001}$ |\n",
    "| $\\ket{010}$ | $\\ket{0}$ | $\\ket{10}$ | $\\ket{010}$ |\n",
    "| $\\ket{011}$ | $\\ket{0}$ | $\\ket{11}$ | $\\ket{011}$ |\n",
    "| $\\ket{100}$ | $\\ket{1}$ | $\\ket{00}$ | $\\ket{100}$ |\n",
    "| $\\ket{101}$ | $\\ket{1}$ | $\\ket{01}$ | $\\ket{110}$ |\n",
    "| $\\ket{110}$ | $\\ket{1}$ | $\\ket{10}$ | $\\ket{101}$ |\n",
    "| $\\ket{111}$ | $\\ket{1}$ | $\\ket{11}$ | $\\ket{111}$ |\n",
    "\n",
    "$$where\\,initial\\,state\\, is\\,\\ket{q_0 q_1 q_2}$$\n",
    "<br>\n",
    "<center><b>$$C_{Swap}=\\begin{bmatrix} 1 & 0 & 0 & 0 & 0 & 0 & 0 & 0 \\\\ 0 & 1 & 0 & 0 & 0 & 0 & 0 & 0 \\\\ 0 & 0 & 1 & 0 & 0 & 0 & 0 & 0\\\\ 0 & 0 & 0 & 0 & 0 & 1 & 0 & 0 \\\\ 0 & 0 & 0 & 0 & 1 & 0 & 0 & 0 \\\\ 0 & 0 & 0 & 1 & 0 & 0 & 0 & 0 \\\\ 0 & 0 & 0 & 0 & 0 & 0 & 1 & 0 \\\\ 0 & 1 & 0 & 0 & 0 & 0 & 0 & 1\\end{bmatrix} $$</b></center>\n",
    "<br>\n"
   ]
  },
  {
   "cell_type": "markdown",
   "metadata": {},
   "source": [
    "##### Note: Cswap Gate matrix is specific to the qubit selected as control qubit. The matrix won't be same as above when q1 or q2 is control qubit"
   ]
  },
  {
   "cell_type": "code",
   "execution_count": 9,
   "metadata": {},
   "outputs": [
    {
     "data": {
      "image/png": "[encoded data removed]",
      "text/plain": [
       "<Figure size 146.797x204.68 with 1 Axes>"
      ]
     },
     "metadata": {},
     "output_type": "display_data"
    }
   ],
   "source": [
    "qc = QuantumCircuit(3)\n",
    "#cswap( control qubit , target qubit 1 , target qubit 2)\n",
    "qc.cswap(0,1,2)    \n",
    "display(qc.draw('mpl'))\n",
    "\n",
    "# executing the circuit\n",
    "backend = BasicAer.get_backend('unitary_simulator')\n",
    "job = execute(qc, backend)\n",
    "result = job.result()\n",
    "\n",
    "gate_1 = Operator(qc)"
   ]
  },
  {
   "cell_type": "code",
   "execution_count": 10,
   "metadata": {},
   "outputs": [],
   "source": [
    "def cswap_math(q2,q1,q0):\n",
    "    qc = QuantumCircuit(3)\n",
    "    #cswap( control qubit , target qubit 1 , target qubit 2)\n",
    "    qc.cswap(0,1,2)    \n",
    "    display(qc.draw('mpl'))\n",
    "\n",
    "    # executing the circuit\n",
    "    backend = BasicAer.get_backend('unitary_simulator')\n",
    "    job = execute(qc, backend)\n",
    "    result = job.result()\n",
    "\n",
    "    cswap_gate = backend.run(transpile(qc, backend)).result().get_unitary(qc, decimals=3)\n",
    "    print('Example:\\n')\n",
    "    print(\"|{}{}{}>\\n\".format(q2,q1,q0)) \n",
    "    # control bit is q0\n",
    "    # If it is 1, q1 and q2 swap\n",
    "    initial_state = np.matrix([[0],[0],[0],[0],[0],[0],[0],[0]])\n",
    "    index = q2*(2**2) + q1*(2**1) + q0*(2**0)\n",
    "    initial_state[index][0] = 1\n",
    "    display(visualization.array_to_latex(initial_state))\n",
    "    \n",
    "    output = cswap_gate*initial_state\n",
    "    index = np.where(output == 1)\n",
    "    output_ket = bin(index[0][0])[2:].zfill(3)\n",
    "    print(\"Applying Cswap Gate gate on |{}{}{}> gives |{}>, that is:\\n\".format(q2,q1,q0, output_ket))\n",
    "    display(visualization.array_to_latex(output))"
   ]
  },
  {
   "cell_type": "code",
   "execution_count": 11,
   "metadata": {},
   "outputs": [
    {
     "data": {
      "image/png": "[encoded data removed]",
      "text/plain": [
       "<Figure size 146.797x204.68 with 1 Axes>"
      ]
     },
     "metadata": {},
     "output_type": "display_data"
    },
    {
     "name": "stdout",
     "output_type": "stream",
     "text": [
      "Example:\n",
      "\n",
      "|101>\n",
      "\n"
     ]
    },
    {
     "data": {
      "text/latex": [
       "$$\n",
       "\n",
       "\\begin{bmatrix}\n",
       "0  \\\\\n",
       " 0  \\\\\n",
       " 0  \\\\\n",
       " 0  \\\\\n",
       " 0  \\\\\n",
       " 1  \\\\\n",
       " 0  \\\\\n",
       " 0  \\\\\n",
       " \\end{bmatrix}\n",
       "$$"
      ],
      "text/plain": [
       "<IPython.core.display.Latex object>"
      ]
     },
     "metadata": {},
     "output_type": "display_data"
    },
    {
     "name": "stdout",
     "output_type": "stream",
     "text": [
      "Applying Cswap Gate gate on |101> gives |011>, that is:\n",
      "\n"
     ]
    },
    {
     "data": {
      "text/latex": [
       "$$\n",
       "\n",
       "\\begin{bmatrix}\n",
       "0  \\\\\n",
       " 0  \\\\\n",
       " 0  \\\\\n",
       " 1  \\\\\n",
       " 0  \\\\\n",
       " 0  \\\\\n",
       " 0  \\\\\n",
       " 0  \\\\\n",
       " \\end{bmatrix}\n",
       "$$"
      ],
      "text/plain": [
       "<IPython.core.display.Latex object>"
      ]
     },
     "metadata": {},
     "output_type": "display_data"
    }
   ],
   "source": [
    "cswap_math(1,0,1)"
   ]
  },
  {
   "cell_type": "code",
   "execution_count": 12,
   "metadata": {},
   "outputs": [
    {
     "data": {
      "image/png": "[encoded data removed]",
      "text/plain": [
       "<Figure size 146.797x204.68 with 1 Axes>"
      ]
     },
     "metadata": {},
     "output_type": "display_data"
    },
    {
     "name": "stdout",
     "output_type": "stream",
     "text": [
      "Example:\n",
      "\n",
      "|001>\n",
      "\n"
     ]
    },
    {
     "data": {
      "text/latex": [
       "$$\n",
       "\n",
       "\\begin{bmatrix}\n",
       "0  \\\\\n",
       " 1  \\\\\n",
       " 0  \\\\\n",
       " 0  \\\\\n",
       " 0  \\\\\n",
       " 0  \\\\\n",
       " 0  \\\\\n",
       " 0  \\\\\n",
       " \\end{bmatrix}\n",
       "$$"
      ],
      "text/plain": [
       "<IPython.core.display.Latex object>"
      ]
     },
     "metadata": {},
     "output_type": "display_data"
    },
    {
     "name": "stdout",
     "output_type": "stream",
     "text": [
      "Applying Cswap Gate gate on |001> gives |001>, that is:\n",
      "\n"
     ]
    },
    {
     "data": {
      "text/latex": [
       "$$\n",
       "\n",
       "\\begin{bmatrix}\n",
       "0  \\\\\n",
       " 1  \\\\\n",
       " 0  \\\\\n",
       " 0  \\\\\n",
       " 0  \\\\\n",
       " 0  \\\\\n",
       " 0  \\\\\n",
       " 0  \\\\\n",
       " \\end{bmatrix}\n",
       "$$"
      ],
      "text/plain": [
       "<IPython.core.display.Latex object>"
      ]
     },
     "metadata": {},
     "output_type": "display_data"
    }
   ],
   "source": [
    "cswap_math(0,0,1)"
   ]
  },
  {
   "cell_type": "code",
   "execution_count": 13,
   "metadata": {
    "scrolled": true
   },
   "outputs": [
    {
     "data": {
      "image/png": "[encoded data removed]",
      "text/plain": [
       "<Figure size 146.797x204.68 with 1 Axes>"
      ]
     },
     "metadata": {},
     "output_type": "display_data"
    },
    {
     "name": "stdout",
     "output_type": "stream",
     "text": [
      "Example:\n",
      "\n",
      "|100>\n",
      "\n"
     ]
    },
    {
     "data": {
      "text/latex": [
       "$$\n",
       "\n",
       "\\begin{bmatrix}\n",
       "0  \\\\\n",
       " 0  \\\\\n",
       " 0  \\\\\n",
       " 0  \\\\\n",
       " 1  \\\\\n",
       " 0  \\\\\n",
       " 0  \\\\\n",
       " 0  \\\\\n",
       " \\end{bmatrix}\n",
       "$$"
      ],
      "text/plain": [
       "<IPython.core.display.Latex object>"
      ]
     },
     "metadata": {},
     "output_type": "display_data"
    },
    {
     "name": "stdout",
     "output_type": "stream",
     "text": [
      "Applying Cswap Gate gate on |100> gives |100>, that is:\n",
      "\n"
     ]
    },
    {
     "data": {
      "text/latex": [
       "$$\n",
       "\n",
       "\\begin{bmatrix}\n",
       "0  \\\\\n",
       " 0  \\\\\n",
       " 0  \\\\\n",
       " 0  \\\\\n",
       " 1  \\\\\n",
       " 0  \\\\\n",
       " 0  \\\\\n",
       " 0  \\\\\n",
       " \\end{bmatrix}\n",
       "$$"
      ],
      "text/plain": [
       "<IPython.core.display.Latex object>"
      ]
     },
     "metadata": {},
     "output_type": "display_data"
    }
   ],
   "source": [
    "cswap_math(1,0,0)"
   ]
  },
  {
   "cell_type": "markdown",
   "metadata": {},
   "source": [
    "### Fredkin decomposed to H, T and CNOT gates (universal gates)"
   ]
  },
  {
   "cell_type": "code",
   "execution_count": 14,
   "metadata": {},
   "outputs": [
    {
     "data": {
      "image/png": "[encoded data removed]",
      "text/plain": [
       "<Figure size 869.197x204.68 with 1 Axes>"
      ]
     },
     "execution_count": 14,
     "metadata": {},
     "output_type": "execute_result"
    }
   ],
   "source": [
    "qc = QuantumCircuit(3)\n",
    "qc.cx(2,1)\n",
    "\n",
    "qc.cx(0,1)\n",
    "qc.h(2)\n",
    "\n",
    "qc.t(0)\n",
    "qc.tdg(1)\n",
    "qc.t(2)\n",
    "\n",
    "qc.cx(2,1)\n",
    "qc.cx(0,2)\n",
    "\n",
    "qc.t(1)\n",
    "\n",
    "qc.barrier()\n",
    "qc.cx(0,1)\n",
    "qc.tdg(2)\n",
    "\n",
    "qc.tdg(1)\n",
    "\n",
    "qc.cx(0,2)\n",
    "qc.cx(2, 1)\n",
    "\n",
    "qc.t(1)\n",
    "qc.h(2)\n",
    "\n",
    "qc.cx(2,1)\n",
    "\n",
    "gate2 = Operator(qc)\n",
    "qc.draw('mpl')"
   ]
  },
  {
   "cell_type": "code",
   "execution_count": 15,
   "metadata": {},
   "outputs": [
    {
     "name": "stdout",
     "output_type": "stream",
     "text": [
      "Average Gate Fidelity: 0.9999999999999992\n",
      "Process Fidelity: 0.9999999999999991\n"
     ]
    }
   ],
   "source": [
    "print('Average Gate Fidelity: {}'.format(average_gate_fidelity(gate_1, gate2)))\n",
    "print('Process Fidelity: {}'.format(process_fidelity(gate_1, gate2)))"
   ]
  }
 ],
 "metadata": {
  "kernelspec": {
   "display_name": "Python 3",
   "language": "python",
   "name": "python3"
  },
  "language_info": {
   "codemirror_mode": {
    "name": "ipython",
    "version": 3
   },
   "file_extension": ".py",
   "mimetype": "text/x-python",
   "name": "python",
   "nbconvert_exporter": "python",
   "pygments_lexer": "ipython3",
   "version": "3.8.10"
  },
  "widgets": {
   "application/vnd.jupyter.widget-state+json": {
    "state": {},
    "version_major": 2,
    "version_minor": 0
   }
  }
 },
 "nbformat": 4,
 "nbformat_minor": 5
}
