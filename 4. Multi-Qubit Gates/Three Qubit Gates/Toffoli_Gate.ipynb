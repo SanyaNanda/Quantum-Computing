{
 "cells": [
  {
   "cell_type": "markdown",
   "id": "8b446722-1d26-40de-ba01-67409a50443e",
   "metadata": {
    "tags": []
   },
   "source": [
    "#### **Toffoli gate (ccx gate)**\n",
    "##### **It is also known as double controlled-NOT gate .**\n",
    "##### **It has two control qubits and one target. It applies a NOT to the target only when both controls are in |1> state .** \n",
    "\n",
    "<br>\n",
    "<center><b>|abc> $\\to$ |bc $\\otimes$ a>  $\\otimes$ |b>  $\\otimes$ |c><b><center>\n",
    "<br>\n",
    "<center><b>$$C_{cx}=\\begin{bmatrix} 1 & 0 & 0 & 0 & 0 & 0 & 0 & 0 \\\\ 0 & 1 & 0 & 0 & 0 & 0 & 0 & 0 \\\\ 0 & 1 & 0 & 0 & 0 & 0 & 0 & 0\\\\ 0 & 0 & 0 & 0 & 0 & 0 & 0 & 1 \\\\ 0 & 0 & 0 & 0 & 1 & 0 & 0 & 0 \\\\ 0 & 0 & 0 & 0 & 0 & 1 & 0 & 0 \\\\ 0 & 0 & 0 & 0 & 0 & 0 & 1 & 0 \\\\ 0 & 1 & 0 & 1 & 0 & 0 & 0 & 0\\end{bmatrix} $$<b><center>"
   ]
  },
  {
   "cell_type": "code",
   "execution_count": 2,
   "id": "603ac436-c821-4673-b602-b296e689bdb2",
   "metadata": {},
   "outputs": [],
   "source": [
    "# importing dependencies\n",
    "from qiskit import QuantumCircuit, ClassicalRegister, QuantumRegister, transpile , assemble\n",
    "from qiskit.tools.visualization import circuit_drawer\n",
    "from qiskit.quantum_info import state_fidelity\n",
    "from qiskit import BasicAer\n",
    "from qiskit import Aer, execute, visualization\n",
    "import matplotlib.pyplot as plt\n",
    "import numpy as np\n",
    "from math import pi,sqrt\n",
    "from IPython.display import Video\n",
    "from qiskit.visualization import array_to_latex\n"
   ]
  },
  {
   "cell_type": "markdown",
   "id": "dbae299a-0a66-41bb-98d2-b55f529e7f44",
   "metadata": {
    "tags": []
   },
   "source": [
    "#### Example 1: When both control qubits are zero , there's no change in target qubits state"
   ]
  },
  {
   "cell_type": "code",
   "execution_count": 3,
   "id": "2d36b704-7eac-43c7-90f9-e201c3b624f9",
   "metadata": {},
   "outputs": [
    {
     "data": {
      "image/png": "[encoded data removed]",
      "text/plain": [
       "<Figure size 146.797x204.68 with 1 Axes>"
      ]
     },
     "metadata": {},
     "output_type": "display_data"
    },
    {
     "name": "stdout",
     "output_type": "stream",
     "text": [
      "Toffoli Gate:\n"
     ]
    },
    {
     "data": {
      "text/latex": [
       "$$\n",
       "\n",
       "\\begin{bmatrix}\n",
       "1 & 0 & 0 & 0 & 0 & 0 & 0 & 0  \\\\\n",
       " 0 & 1 & 0 & 0 & 0 & 0 & 0 & 0  \\\\\n",
       " 0 & 0 & 1 & 0 & 0 & 0 & 0 & 0  \\\\\n",
       " 0 & 0 & 0 & 0 & 0 & 0 & 0 & 1  \\\\\n",
       " 0 & 0 & 0 & 0 & 1 & 0 & 0 & 0  \\\\\n",
       " 0 & 0 & 0 & 0 & 0 & 1 & 0 & 0  \\\\\n",
       " 0 & 0 & 0 & 0 & 0 & 0 & 1 & 0  \\\\\n",
       " 0 & 0 & 0 & 1 & 0 & 0 & 0 & 0  \\\\\n",
       " \\end{bmatrix}\n",
       "$$"
      ],
      "text/plain": [
       "<IPython.core.display.Latex object>"
      ]
     },
     "metadata": {},
     "output_type": "display_data"
    },
    {
     "data": {
      "image/png": "[encoded data removed]",
      "text/plain": [
       "<Figure size 504x360 with 1 Axes>"
      ]
     },
     "metadata": {},
     "output_type": "display_data"
    }
   ],
   "source": [
    "qc = QuantumCircuit(3)\n",
    "qc.ccx(0,1,2)  #qc.ccx(contol qubit1, control qubt 2 , target qubit) . both control qubits are |0>\n",
    "               #applicaion of toffoli gate should not change the target qubit's state . hence q0=0,q1=0,q1=1 should be the output\n",
    "display(qc.draw())\n",
    "# executing the circuit\n",
    "\n",
    "b = BasicAer.get_backend('unitary_simulator')\n",
    "job = execute(qc, b)\n",
    "result = job.result()\n",
    "\n",
    "Toffoli_gate = b.run(transpile(qc, b)).result().get_unitary(qc, decimals=3)\n",
    "print(\"Toffoli Gate:\")\n",
    "display(visualization.array_to_latex(Toffoli_gate))\n",
    "\n",
    "backend = BasicAer.get_backend('statevector_simulator')\n",
    "job1 = execute(qc, backend)\n",
    "result1 = job1.result()\n",
    "\n",
    "# probability of output state\n",
    "\n",
    "counts = result1.get_counts(qc)\n",
    "graph = visualization.plot_histogram(counts)\n",
    "display(graph)\n",
    "\n"
   ]
  },
  {
   "cell_type": "markdown",
   "id": "40194afc-7a33-4d4b-b7e2-cc7b782918ab",
   "metadata": {
    "tags": []
   },
   "source": [
    "#### Example 2: When one of  control qubits is |0> , there's no change in target qubits state"
   ]
  },
  {
   "cell_type": "code",
   "execution_count": 4,
   "id": "df50ec31-848c-4c2b-96ec-6fac59900b34",
   "metadata": {},
   "outputs": [
    {
     "data": {
      "image/png": "[encoded data removed]",
      "text/plain": [
       "<Figure size 206.997x204.68 with 1 Axes>"
      ]
     },
     "metadata": {},
     "output_type": "display_data"
    },
    {
     "name": "stdout",
     "output_type": "stream",
     "text": [
      "Toffoli Gate:\n"
     ]
    },
    {
     "data": {
      "text/latex": [
       "$$\n",
       "\n",
       "\\begin{bmatrix}\n",
       "0 & 1 & 0 & 0 & 0 & 0 & 0 & 0  \\\\\n",
       " 1 & 0 & 0 & 0 & 0 & 0 & 0 & 0  \\\\\n",
       " 0 & 0 & 0 & 1 & 0 & 0 & 0 & 0  \\\\\n",
       " 0 & 0 & 0 & 0 & 0 & 0 & 1 & 0  \\\\\n",
       " 0 & 0 & 0 & 0 & 0 & 1 & 0 & 0  \\\\\n",
       " 0 & 0 & 0 & 0 & 1 & 0 & 0 & 0  \\\\\n",
       " 0 & 0 & 0 & 0 & 0 & 0 & 0 & 1  \\\\\n",
       " 0 & 0 & 1 & 0 & 0 & 0 & 0 & 0  \\\\\n",
       " \\end{bmatrix}\n",
       "$$"
      ],
      "text/plain": [
       "<IPython.core.display.Latex object>"
      ]
     },
     "metadata": {},
     "output_type": "display_data"
    },
    {
     "data": {
      "image/png": "[encoded data removed]",
      "text/plain": [
       "<Figure size 504x360 with 1 Axes>"
      ]
     },
     "metadata": {},
     "output_type": "display_data"
    }
   ],
   "source": [
    "qc = QuantumCircuit(3)\n",
    "qc.x(0)\n",
    "qc.ccx(0,1,2)  #qc.ccx(contol qubit1, control qubt 2 , target qubit)\n",
    "display(qc.draw())\n",
    "# executing the circuit\n",
    "\n",
    "b = BasicAer.get_backend('unitary_simulator')\n",
    "job = execute(qc, b)\n",
    "result = job.result()\n",
    "\n",
    "Toffoli_gate = b.run(transpile(qc, b)).result().get_unitary(qc, decimals=3)\n",
    "print(\"Toffoli Gate:\")\n",
    "display(visualization.array_to_latex(Toffoli_gate))\n",
    "\n",
    "backend = BasicAer.get_backend('statevector_simulator')\n",
    "job1 = execute(qc, backend)\n",
    "result1 = job1.result()\n",
    "\n",
    "# probability of output state\n",
    "\n",
    "counts = result1.get_counts(qc)\n",
    "graph = visualization.plot_histogram(counts)\n",
    "display(graph)\n",
    "\n"
   ]
  },
  {
   "cell_type": "markdown",
   "id": "0eb68a33-f8cd-4b79-ab50-d7483ee8b3dc",
   "metadata": {
    "tags": []
   },
   "source": [
    "#### Example 3: When both control qubits are |1> , target qubits get NOT"
   ]
  },
  {
   "cell_type": "code",
   "execution_count": 5,
   "id": "961ab990-608c-434f-b2af-a888b0fad54a",
   "metadata": {},
   "outputs": [
    {
     "data": {
      "image/png": "[encoded data removed]",
      "text/plain": [
       "<Figure size 206.997x204.68 with 1 Axes>"
      ]
     },
     "metadata": {},
     "output_type": "display_data"
    },
    {
     "name": "stdout",
     "output_type": "stream",
     "text": [
      "Toffoli Gate:\n"
     ]
    },
    {
     "data": {
      "text/latex": [
       "$$\n",
       "\n",
       "\\begin{bmatrix}\n",
       "0 & 0 & 0 & 1 & 0 & 0 & 0 & 0  \\\\\n",
       " 0 & 0 & 1 & 0 & 0 & 0 & 0 & 0  \\\\\n",
       " 0 & 1 & 0 & 0 & 0 & 0 & 0 & 0  \\\\\n",
       " 0 & 0 & 0 & 0 & 1 & 0 & 0 & 0  \\\\\n",
       " 0 & 0 & 0 & 0 & 0 & 0 & 0 & 1  \\\\\n",
       " 0 & 0 & 0 & 0 & 0 & 0 & 1 & 0  \\\\\n",
       " 0 & 0 & 0 & 0 & 0 & 1 & 0 & 0  \\\\\n",
       " 1 & 0 & 0 & 0 & 0 & 0 & 0 & 0  \\\\\n",
       " \\end{bmatrix}\n",
       "$$"
      ],
      "text/plain": [
       "<IPython.core.display.Latex object>"
      ]
     },
     "metadata": {},
     "output_type": "display_data"
    },
    {
     "data": {
      "image/png": "[encoded data removed]",
      "text/plain": [
       "<Figure size 504x360 with 1 Axes>"
      ]
     },
     "metadata": {},
     "output_type": "display_data"
    }
   ],
   "source": [
    "qc = QuantumCircuit(3)\n",
    "qc.x(0)\n",
    "qc.x(1)\n",
    "qc.ccx(0,1,2)  #qc.ccx(contol qubit1, control qubt 2 , target qubit)\n",
    "display(qc.draw())\n",
    "# executing the circuit\n",
    "\n",
    "b = BasicAer.get_backend('unitary_simulator')\n",
    "job = execute(qc, b)\n",
    "result = job.result()\n",
    "\n",
    "Toffoli_gate = b.run(transpile(qc, b)).result().get_unitary(qc, decimals=3)\n",
    "print(\"Toffoli Gate:\")\n",
    "display(visualization.array_to_latex(Toffoli_gate))\n",
    "\n",
    "backend = BasicAer.get_backend('statevector_simulator')\n",
    "job1 = execute(qc, backend)\n",
    "result1 = job1.result()\n",
    "\n",
    "# probability of output state\n",
    "\n",
    "counts = result1.get_counts(qc)\n",
    "graph = visualization.plot_histogram(counts)\n",
    "display(graph)\n",
    "\n"
   ]
  }
 ],
 "metadata": {
  "kernelspec": {
   "display_name": "Qiskit v0.34.1 (ipykernel)",
   "language": "python",
   "name": "python3"
  },
  "language_info": {
   "codemirror_mode": {
    "name": "ipython",
    "version": 3
   },
   "file_extension": ".py",
   "mimetype": "text/x-python",
   "name": "python",
   "nbconvert_exporter": "python",
   "pygments_lexer": "ipython3",
   "version": "3.8.12"
  },
  "widgets": {
   "application/vnd.jupyter.widget-state+json": {
    "state": {},
    "version_major": 2,
    "version_minor": 0
   }
  }
 },
 "nbformat": 4,
 "nbformat_minor": 5
}
