{
 "cells": [
  {
   "cell_type": "markdown",
   "id": "db85710a-05eb-4fdf-ba15-49a200e3162a",
   "metadata": {
    "tags": []
   },
   "source": [
    "### **Three-Qubit Gates**\n",
    "#### For three qubits, the basis vectors are -\n",
    "|000> , |001> , |010> , |011> , |100> , |110> , |101> , |111> \n",
    "<br>\n",
    "\n",
    "<center><b>We know </b></center>\n",
    "$$\\ket{abc}=\\ket{a}\\otimes\\ket{b}\\otimes\\ket{c} $$"
   ]
  },
  {
   "cell_type": "markdown",
   "id": "6e8b80ad-2f87-4e20-8e97-7c695aee48db",
   "metadata": {},
   "source": [
    "<left><b>For eg$\\to$<b><left>\n",
    "#### 1)    \n",
    "$$ \\ket{000}=\\ket{0}\\otimes\\ket{0}\\otimes\\ket{0} $$\n",
    "<br>\n",
    "\n",
    "$$\\ket{000}=\\begin{bmatrix}1 \\\\ 0 \\\\ 0 \\\\ 0 \\\\ 0 \\\\ 0 \\\\ 0 \\\\ 0\\end{bmatrix} $$\n",
    "####     \n",
    " \n",
    "<br>\n"
   ]
  },
  {
   "cell_type": "markdown",
   "id": "2e82dbea-f8f1-4c6a-802d-e145a19edb09",
   "metadata": {},
   "source": [
    "<left><b>Trick<b><left>\n",
    "$$\\ket{\\psi}=\\begin{bmatrix}|000> \\\\ |001> \\\\ |010> \\\\ |011> \\\\ |100> \\\\ |101> \\\\ |110> \\\\ |111>\\end{bmatrix} $$\n",
    "<center><b> Matrix form of $\\ket{\\psi}$= |abc> could be obtained by replacing |abc> with 1 in the above matrix and all other elements as 0<b><left> "
   ]
  },
  {
   "cell_type": "code",
   "execution_count": 21,
   "id": "5f3e55c0-a189-4678-a767-4336d9027ef0",
   "metadata": {},
   "outputs": [],
   "source": [
    "# importing dependencies\n",
    "from qiskit import QuantumCircuit, ClassicalRegister, QuantumRegister, transpile , assemble\n",
    "from qiskit.tools.visualization import circuit_drawer\n",
    "from qiskit.quantum_info import state_fidelity\n",
    "from qiskit import BasicAer\n",
    "from qiskit import Aer, execute, visualization\n",
    "import matplotlib.pyplot as plt\n",
    "import numpy as np\n",
    "from math import pi,sqrt\n",
    "from IPython.display import Video\n",
    "from qiskit.visualization import array_to_latex\n",
    "\n",
    "\n",
    "\n",
    "# importing dependencies\n",
    "from qiskit import QuantumCircuit, ClassicalRegister, QuantumRegister, transpile\n",
    "from qiskit.tools.visualization import circuit_drawer\n",
    "from qiskit.quantum_info import state_fidelity\n",
    "from qiskit import BasicAer\n",
    "from qiskit import Aer, execute, visualization\n",
    "import matplotlib.pyplot as plt\n",
    "import numpy as np\n",
    "from math import pi\n",
    "from IPython.display import Video"
   ]
  },
  {
   "cell_type": "code",
   "execution_count": 34,
   "id": "90ccc3bb-0a97-4c3f-b519-be9aaf5a3cfc",
   "metadata": {},
   "outputs": [
    {
     "data": {
      "image/png": "[encoded data removed]",
      "text/plain": [
       "<Figure size 206.997x204.68 with 1 Axes>"
      ]
     },
     "metadata": {},
     "output_type": "display_data"
    },
    {
     "name": "stdout",
     "output_type": "stream",
     "text": [
      "Toffoli Gate:\n"
     ]
    },
    {
     "data": {
      "text/latex": [
       "$$\n",
       "\n",
       "\\begin{bmatrix}\n",
       "0 & 1 & 0 & 0 & 0 & 0 & 0 & 0  \\\\\n",
       " 1 & 0 & 0 & 0 & 0 & 0 & 0 & 0  \\\\\n",
       " 0 & 0 & 0 & 1 & 0 & 0 & 0 & 0  \\\\\n",
       " 0 & 0 & 0 & 0 & 0 & 0 & 1 & 0  \\\\\n",
       " 0 & 0 & 0 & 0 & 0 & 1 & 0 & 0  \\\\\n",
       " 0 & 0 & 0 & 0 & 1 & 0 & 0 & 0  \\\\\n",
       " 0 & 0 & 0 & 0 & 0 & 0 & 0 & 1  \\\\\n",
       " 0 & 0 & 1 & 0 & 0 & 0 & 0 & 0  \\\\\n",
       " \\end{bmatrix}\n",
       "$$"
      ],
      "text/plain": [
       "<IPython.core.display.Latex object>"
      ]
     },
     "metadata": {},
     "output_type": "display_data"
    },
    {
     "data": {
      "image/png": "[encoded data removed]",
      "text/plain": [
       "<Figure size 504x360 with 1 Axes>"
      ]
     },
     "metadata": {},
     "output_type": "display_data"
    }
   ],
   "source": [
    "qc = QuantumCircuit(3)\n",
    "qc.x(0)\n",
    "qc.ccx(0,1,2)  #qc.ccx(contol qubit1, control qubt 2 , target qubit)\n",
    "display(qc.draw())\n",
    "# executing the circuit\n",
    "\n",
    "b = BasicAer.get_backend('unitary_simulator')\n",
    "job = execute(qc, b)\n",
    "result = job.result()\n",
    "\n",
    "Toffoli_gate = b.run(transpile(qc, b)).result().get_unitary(qc, decimals=3)\n",
    "print(\"Toffoli Gate:\")\n",
    "display(visualization.array_to_latex(Toffoli_gate))\n",
    "\n",
    "backend = BasicAer.get_backend('statevector_simulator')\n",
    "job1 = execute(qc, backend)\n",
    "result1 = job1.result()\n",
    "\n",
    "# probability of output state\n",
    "\n",
    "counts = result1.get_counts(qc)\n",
    "graph = visualization.plot_histogram(counts)\n",
    "display(graph)\n",
    "\n"
   ]
  },
  {
   "cell_type": "markdown",
   "id": "122229c1-e9d0-4190-a667-fb7c928919c0",
   "metadata": {},
   "source": [
    "#### **Controlled swap gate (Fredkin Gate)(Cswap gate)**\n",
    "<br>\n",
    "<center><b>It exchanges the second and third qubits if the first qubit (LSB) is |1> :</b></center>\n",
    "<br>\n",
    "$$\n",
    "|abc>\\, \\to \\left\\{\n",
    "    \\begin{array}\\\\\n",
    "        |bac> & \\mbox{if } c=1 \\\\\n",
    "        |abc> & \\mbox{if } c= 0 \n",
    "    \\end{array}\n",
    "\\right.\n",
    "$$\n",
    "<br>\n",
    "<left><b>Let q0 be the control qubit  and q1 , q2 target qubits<b><left>\n",
    "<br>\n",
    "    $$\n",
    "|q_2q_1q_0> \\,\\to \\left\\{\n",
    "    \\begin{array}\\\\\n",
    "        |q_1q_2q_0> & \\mbox{if } q_0=1 \\\\\n",
    "        |q_2q_1q_0> & \\mbox{if } q_0= 0 \n",
    "    \\end{array}\n",
    "\\right.\n",
    "$$\n",
    "\n",
    "<br>\n",
    "<center><b>$$C_{Swap}=\\begin{bmatrix} 1 & 0 & 0 & 0 & 0 & 0 & 0 & 0 \\\\ 0 & 1 & 0 & 0 & 0 & 0 & 0 & 0 \\\\ 0 & 0 & 1 & 0 & 0 & 0 & 0 & 0\\\\ 0 & 0 & 0 & 0 & 0 & 1 & 0 & 0 \\\\ 0 & 0 & 0 & 0 & 1 & 0 & 0 & 0 \\\\ 0 & 0 & 0 & 1 & 0 & 0 & 0 & 0 \\\\ 0 & 0 & 0 & 0 & 0 & 0 & 1 & 0 \\\\ 0 & 1 & 0 & 0 & 0 & 0 & 0 & 1\\end{bmatrix} $$</b></center>\n",
    "<br>\n"
   ]
  },
  {
   "cell_type": "markdown",
   "id": "9f05ff59-6234-40b4-aedd-8fbe4f5e2dab",
   "metadata": {},
   "source": [
    "##### Note: Cswap Gate matrix is specific to the qubit selected as control qubit. The matrix won't be same as above when q1 or q2 is control qubit"
   ]
  },
  {
   "cell_type": "code",
   "execution_count": 5,
   "id": "74b715e3-8295-4c78-b5f1-42b945d6e8c0",
   "metadata": {},
   "outputs": [
    {
     "data": {
      "image/png": "[encoded data removed]",
      "text/plain": [
       "<Figure size 146.797x204.68 with 1 Axes>"
      ]
     },
     "metadata": {},
     "output_type": "display_data"
    },
    {
     "name": "stdout",
     "output_type": "stream",
     "text": [
      "Cswap:\n"
     ]
    },
    {
     "data": {
      "text/latex": [
       "$$\n",
       "\n",
       "\\begin{bmatrix}\n",
       "1 & 0 & 0 & 0 & 0 & 0 & 0 & 0  \\\\\n",
       " 0 & 1 & 0 & 0 & 0 & 0 & 0 & 0  \\\\\n",
       " 0 & 0 & 1 & 0 & 0 & 0 & 0 & 0  \\\\\n",
       " 0 & 0 & 0 & 0 & 0 & 1 & 0 & 0  \\\\\n",
       " 0 & 0 & 0 & 0 & 1 & 0 & 0 & 0  \\\\\n",
       " 0 & 0 & 0 & 1 & 0 & 0 & 0 & 0  \\\\\n",
       " 0 & 0 & 0 & 0 & 0 & 0 & 1 & 0  \\\\\n",
       " 0 & 0 & 0 & 0 & 0 & 0 & 0 & 1  \\\\\n",
       " \\end{bmatrix}\n",
       "$$"
      ],
      "text/plain": [
       "<IPython.core.display.Latex object>"
      ]
     },
     "execution_count": 36,
     "metadata": {},
     "output_type": "execute_result"
    }
   ],
   "source": [
    "qc = QuantumCircuit(3)\n",
    "qc.cswap(0,1,2)    #cswap( controlled_qubit , target_qubit1 , target_qubit2)\n",
    "qc.draw()\n",
    "#Here q0 as control bit,with q0=0 ,thus q1 and q2  states will not be swapped"
   ]
  },
  {
   "cell_type": "code",
   "execution_count": 7,
   "id": "e7400f72-5de8-4973-96fb-4527d6e90362",
   "metadata": {},
   "outputs": [
    {
     "data": {
      "image/png": "[encoded data removed]",
      "text/plain": [
       "<Figure size 206.997x204.68 with 1 Axes>"
      ]
     },
     "metadata": {},
     "output_type": "display_data"
    }
   ],
   "source": [
    "qc = QuantumCircuit(3)\n",
    "qc.x(0)            #changing the control_qubit q0 to |1> , q1 and q2 states will be swapped\n",
    "qc.cswap(0,1,2)    #we could select q1 as control_qubit by writing qc.cswap(1,0,2) and hence the Cswap gate matrix will change\n",
    "qc.draw()"
   ]
  },
  {
   "cell_type": "code",
   "execution_count": 8,
   "id": "5032bf49-efc9-4502-af13-b41bbb552c07",
   "metadata": {},
   "outputs": [
    {
     "name": "stdout",
     "output_type": "stream",
     "text": [
      "1)   |101>\n"
     ]
    },
    {
     "data": {
      "text/latex": [
       "$$\n",
       "\n",
       "\\begin{bmatrix}\n",
       "0  \\\\\n",
       " 0  \\\\\n",
       " 0  \\\\\n",
       " 0  \\\\\n",
       " 0  \\\\\n",
       " 1  \\\\\n",
       " 0  \\\\\n",
       " 0  \\\\\n",
       " \\end{bmatrix}\n",
       "$$"
      ],
      "text/plain": [
       "<IPython.core.display.Latex object>"
      ]
     },
     "metadata": {},
     "output_type": "display_data"
    },
    {
     "name": "stdout",
     "output_type": "stream",
     "text": [
      "Cswap Gate\n"
     ]
    },
    {
     "data": {
      "text/latex": [
       "$$\n",
       "\n",
       "\\begin{bmatrix}\n",
       "1 & 0 & 0 & 0 & 0 & 0 & 0 & 0  \\\\\n",
       " 0 & 1 & 0 & 0 & 0 & 0 & 0 & 0  \\\\\n",
       " 0 & 0 & 1 & 0 & 0 & 0 & 0 & 0  \\\\\n",
       " 0 & 0 & 0 & 0 & 0 & 1 & 0 & 0  \\\\\n",
       " 0 & 0 & 0 & 0 & 1 & 0 & 0 & 0  \\\\\n",
       " 0 & 0 & 0 & 1 & 0 & 0 & 0 & 0  \\\\\n",
       " 0 & 0 & 0 & 0 & 0 & 0 & 1 & 0  \\\\\n",
       " 0 & 0 & 0 & 0 & 0 & 0 & 0 & 1  \\\\\n",
       " \\end{bmatrix}\n",
       "$$"
      ],
      "text/plain": [
       "<IPython.core.display.Latex object>"
      ]
     },
     "metadata": {},
     "output_type": "display_data"
    },
    {
     "name": "stdout",
     "output_type": "stream",
     "text": [
      "Applying Cswap Gate gate on |101> gives to |011>, that is:\n"
     ]
    },
    {
     "data": {
      "text/latex": [
       "$$\n",
       "\n",
       "\\begin{bmatrix}\n",
       "0  \\\\\n",
       " 0  \\\\\n",
       " 0  \\\\\n",
       " 1  \\\\\n",
       " 0  \\\\\n",
       " 0  \\\\\n",
       " 0  \\\\\n",
       " 0  \\\\\n",
       " \\end{bmatrix}\n",
       "$$"
      ],
      "text/plain": [
       "<IPython.core.display.Latex object>"
      ]
     },
     "metadata": {},
     "output_type": "display_data"
    },
    {
     "name": "stdout",
     "output_type": "stream",
     "text": [
      "\n",
      "\n",
      "2)   |011>\n"
     ]
    },
    {
     "data": {
      "text/latex": [
       "$$\n",
       "\n",
       "\\begin{bmatrix}\n",
       "0  \\\\\n",
       " 0  \\\\\n",
       " 0  \\\\\n",
       " 1  \\\\\n",
       " 0  \\\\\n",
       " 0  \\\\\n",
       " 0  \\\\\n",
       " 0  \\\\\n",
       " \\end{bmatrix}\n",
       "$$"
      ],
      "text/plain": [
       "<IPython.core.display.Latex object>"
      ]
     },
     "metadata": {},
     "output_type": "display_data"
    },
    {
     "name": "stdout",
     "output_type": "stream",
     "text": [
      "Cswap Gate\n"
     ]
    },
    {
     "data": {
      "text/latex": [
       "$$\n",
       "\n",
       "\\begin{bmatrix}\n",
       "1 & 0 & 0 & 0 & 0 & 0 & 0 & 0  \\\\\n",
       " 0 & 1 & 0 & 0 & 0 & 0 & 0 & 0  \\\\\n",
       " 0 & 0 & 1 & 0 & 0 & 0 & 0 & 0  \\\\\n",
       " 0 & 0 & 0 & 0 & 0 & 1 & 0 & 0  \\\\\n",
       " 0 & 0 & 0 & 0 & 1 & 0 & 0 & 0  \\\\\n",
       " 0 & 0 & 0 & 1 & 0 & 0 & 0 & 0  \\\\\n",
       " 0 & 0 & 0 & 0 & 0 & 0 & 1 & 0  \\\\\n",
       " 0 & 0 & 0 & 0 & 0 & 0 & 0 & 1  \\\\\n",
       " \\end{bmatrix}\n",
       "$$"
      ],
      "text/plain": [
       "<IPython.core.display.Latex object>"
      ]
     },
     "metadata": {},
     "output_type": "display_data"
    },
    {
     "name": "stdout",
     "output_type": "stream",
     "text": [
      "Applying Cswap Gate gate on |011> gives to |101>, that is:\n"
     ]
    },
    {
     "data": {
      "text/latex": [
       "$$\n",
       "\n",
       "\\begin{bmatrix}\n",
       "0  \\\\\n",
       " 0  \\\\\n",
       " 0  \\\\\n",
       " 0  \\\\\n",
       " 0  \\\\\n",
       " 1  \\\\\n",
       " 0  \\\\\n",
       " 0  \\\\\n",
       " \\end{bmatrix}\n",
       "$$"
      ],
      "text/plain": [
       "<IPython.core.display.Latex object>"
      ]
     },
     "metadata": {},
     "output_type": "display_data"
    },
    {
     "name": "stdout",
     "output_type": "stream",
     "text": [
      "3)   |100>\n"
     ]
    },
    {
     "data": {
      "text/latex": [
       "$$\n",
       "\n",
       "\\begin{bmatrix}\n",
       "0  \\\\\n",
       " 0  \\\\\n",
       " 0  \\\\\n",
       " 0  \\\\\n",
       " 1  \\\\\n",
       " 0  \\\\\n",
       " 0  \\\\\n",
       " 0  \\\\\n",
       " \\end{bmatrix}\n",
       "$$"
      ],
      "text/plain": [
       "<IPython.core.display.Latex object>"
      ]
     },
     "metadata": {},
     "output_type": "display_data"
    },
    {
     "name": "stdout",
     "output_type": "stream",
     "text": [
      "Applying Cswap Gate gate on |100>  doesn't change the output because controlled bit is 0\n"
     ]
    },
    {
     "data": {
      "text/latex": [
       "$$\n",
       "\n",
       "\\begin{bmatrix}\n",
       "0  \\\\\n",
       " 0  \\\\\n",
       " 0  \\\\\n",
       " 0  \\\\\n",
       " 1  \\\\\n",
       " 0  \\\\\n",
       " 0  \\\\\n",
       " 0  \\\\\n",
       " \\end{bmatrix}\n",
       "$$"
      ],
      "text/plain": [
       "<IPython.core.display.Latex object>"
      ]
     },
     "metadata": {},
     "output_type": "display_data"
    }
   ],
   "source": [
    "print(\"1)   |101>\") # (control bit) q0=1 , q1=0 , q2=1 . thus q1 and q2 will swap. thus the result would be q1=1 , q2=0 , q0=1 \n",
    "one_state = np.matrix([[0],[0],[0],[0],[0],[1],[0],[0]])\n",
    "display(visualization.array_to_latex(one_state))\n",
    "print(\"Cswap Gate\")\n",
    "display(visualization.array_to_latex(cswap_gate))\n",
    "\n",
    "output = cswap_gate*one_state\n",
    "print(\"Applying Cswap Gate gate on |101> gives to |011>, that is:\")\n",
    "display(visualization.array_to_latex(output))\n",
    "\n",
    "print(\"\\n\")\n",
    "\n",
    "print(\"2)   |011>\") # (control bit) q0=1 , q1=1 , q2=0 . thus q1 and q2 will swap. thus the result would be q1=0 , q2=1 , q0=1 \n",
    "one_state = np.matrix([[0],[0],[0],[1],[0],[0],[0],[0]])\n",
    "display(visualization.array_to_latex(one_state))\n",
    "print(\"Cswap Gate\")\n",
    "display(visualization.array_to_latex(cswap_gate))\n",
    "\n",
    "output = cswap_gate*one_state\n",
    "print(\"Applying Cswap Gate gate on |011> gives to |101>, that is:\")\n",
    "display(visualization.array_to_latex(output))\n",
    "\n",
    "\n",
    "print(\"3)   |100>\") # (control bit) q0=0 , q1=0 , q2=1 . thus q1 and q2 will not be  swapped  \n",
    "one_state = np.matrix([[0],[0],[0],[0],[1],[0],[0],[0]])\n",
    "display(visualization.array_to_latex(one_state))\n",
    "\n",
    "output = cswap_gate*one_state\n",
    "print(\"Applying Cswap Gate gate on |100>  doesn't change the output because controlled bit is 0\")\n",
    "display(visualization.array_to_latex(output))"
   ]
  }
 ],
 "metadata": {
  "kernelspec": {
   "display_name": "Qiskit v0.34.1 (ipykernel)",
   "language": "python",
   "name": "python3"
  },
  "language_info": {
   "codemirror_mode": {
    "name": "ipython",
    "version": 3
   },
   "file_extension": ".py",
   "mimetype": "text/x-python",
   "name": "python",
   "nbconvert_exporter": "python",
   "pygments_lexer": "ipython3",
   "version": "3.8.12"
  },
  "widgets": {
   "application/vnd.jupyter.widget-state+json": {
    "state": {},
    "version_major": 2,
    "version_minor": 0
   }
  }
 },
 "nbformat": 4,
 "nbformat_minor": 5
}
