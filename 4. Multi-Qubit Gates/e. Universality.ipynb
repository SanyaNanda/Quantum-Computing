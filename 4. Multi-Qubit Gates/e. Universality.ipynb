{
 "cells": [
  {
   "cell_type": "markdown",
   "metadata": {},
   "source": [
    "## Pauli Decomposition\n",
    "$$\\newcommand{\\ket}[1]{|#1\\rangle}$$\n",
    "$$\\newcommand{\\bra}[1]{\\langle#1|}$$"
   ]
  },
  {
   "cell_type": "markdown",
   "metadata": {},
   "source": [
    "We can represent any arbitary gate U in terms of Pauli Gates\n",
    "$$\\newcommand{\\braket}[2]{\\left\\langle{#1}\\middle|{#2}\\right\\rangle}$$\n",
    "<center><b>$$U \\,Gate=\\begin{bmatrix} u_{00} & u_{01} \\\\ u_{10} & u_{11}\\end{bmatrix} $$</b></center>\n",
    "<br>\n",
    "<br>\n",
    "<center><b>$$U \\,Gate=u_{00}\\begin{bmatrix} 1 & 0 \\\\ 0 & 0\\end{bmatrix} + u_{01}\\begin{bmatrix} 0 & 1 \\\\ 0 & 0\\end{bmatrix} + u_{10}\\begin{bmatrix} 0 & 0 \\\\ 1 & 0\\end{bmatrix} + u_{11}\\begin{bmatrix} 0 & 0 \\\\ 0 & 1\\end{bmatrix} $$</b></center>\n",
    "<br>\n",
    "<center><b>$$U \\,Gate=u_{00}\\braket{0}{0} + u_{01}\\braket{0}{1} + u_{10}\\braket{1}{0} + u_{11}\\braket{1}{1}$$</b></center>\n",
    "<br>"
   ]
  },
  {
   "cell_type": "markdown",
   "metadata": {},
   "source": [
    "We can represent \n",
    "$$\\braket{0}{0} = \\begin{bmatrix} 1 & 0 \\\\ 0 & 0\\end{bmatrix} = \\frac{1}{2}(\\begin{bmatrix} 1 & 0 \\\\ 0 & 1\\end{bmatrix} + \\begin{bmatrix} 1 & 0 \\\\ 0 & -1\\end{bmatrix}) = \\frac{1}{2}(I + Z)$$\n",
    "<br>\n",
    "$$\\braket{0}{1} = \\braket{0}{0}X = \\frac{1}{2}(I + Z)X = \\frac{1}{2}(X + ZX) = \\frac{1}{2}(X + iY)  $$\n",
    "<br>\n",
    "$$\\braket{1}{1} = \\begin{bmatrix} 1 & 0 \\\\ 0 & 0\\end{bmatrix} = \\frac{1}{2}(\\begin{bmatrix} 1 & 0 \\\\ 0 & 1\\end{bmatrix} - \\begin{bmatrix} 1 & 0 \\\\ 0 & -1\\end{bmatrix}) = \\frac{1}{2}(I - Z)$$\n",
    "<br>\n",
    "$$\\braket{1}{0} = X\\braket{0}{0} = \\frac{1}{2}X(I + Z) = \\frac{1}{2}(X + XZ) = \\frac{1}{2}(X + \\frac{Y}{i}) = \\frac{1}{2}(X + -iY)  $$\n",
    "<br>\n",
    "So from the aforementioned calculations we conclude that\n",
    "$$\\braket{0}{0} = \\frac{1}{2}(I + Z)$$\n",
    "<br>\n",
    "$$\\braket{0}{1} = \\frac{1}{2}(X + iY)$$\n",
    "<br>\n",
    "$$\\braket{1}{1} = \\frac{1}{2}(I - Z)$$\n",
    "<br>\n",
    "$$\\braket{1}{0} = \\frac{1}{2}(X + -iY)$$\n",
    "<br>"
   ]
  },
  {
   "cell_type": "markdown",
   "metadata": {},
   "source": [
    "So we can represent any arbitary operation U as\n",
    "<center><b>$$U \\,Gate=u_{00}\\braket{0}{0} + u_{01}\\braket{0}{1} + u_{10}\\braket{1}{0} + u_{11}\\braket{1}{1}$$</b></center>\n",
    "<br>\n",
    "<center><b>$$U \\,Gate=u_{00}\\frac{1}{2}(I + Z) + u_{01}\\frac{1}{2}(X + iY) + u_{10}\\frac{1}{2}(I - Z) + u_{11}\\frac{1}{2}(X + -iY)$$</b></center>\n",
    "<br>\n",
    "Rearranging we get the following decomposition of the operator U in terms of Pauli Gates\n",
    "<br><br>\n",
    "<center><b>$$U \\,Gate= \\frac{u_{00} + u_{11}}{2}I + \\frac{u_{01} + u_{10}}{2}X + \\frac{u_{01} - u_{10}}{2}Y +\\frac{u_{00} - u_{11}}{2}Z $$</b></center>"
   ]
  },
  {
   "cell_type": "markdown",
   "metadata": {},
   "source": [
    "Multiqubits can be represented the sameway\n",
    "\n",
    "$\\braket{0}{0}$ = $\\frac{1}{2}(I + Z)$\n",
    "\n",
    "$\\braket{00}{00}$ = $\\frac{1}{2}(I + Z)\\otimes \\frac{1}{2}(I + Z)$\n",
    "\n",
    "$\\braket{000}{000}$ = $\\frac{1}{2}(I + Z)\\otimes \\frac{1}{2}(I + Z)\\otimes \\frac{1}{2}(I + Z)$\n",
    "\n",
    "And so on for n qubits\n",
    "\n",
    "By this concept n qubit gates can be decomposed as the summation of Pauli gate tensors multiplied by their coefficients.\n",
    "\n",
    "$$U = \\sum{C \\times P_{n}\\otimes P_{n-1} \\otimes ... \\otimes P_{0}} \\,where\\, P_{i} = {(I, X, Y, Z)}$$ "
   ]
  },
  {
   "cell_type": "markdown",
   "metadata": {},
   "source": [
    "## Clifford Gates\n",
    "U is a clifford gate when \n",
    "\n",
    "P is a Pauli gate and UPU$^{\\dagger}$ is also a Pauli Gate.\n",
    "\n",
    "All gates are unitary, so we can call UPU$^{\\dagger}$ as conjugation by unitary.\n",
    "\n",
    "Conjugation by Unitary transforms the eigenstates of the old pauli gate to the new pauli gate, but eigenvalues remain the same\n",
    "\n",
    "| Gate | Eigenstates | Eigenvalues\n",
    "| :-: | :-: | :-: |\n",
    "| Pauli X | $\\ket{+}\\,or\\,\\ket{-}$ | 1 or -1 |\n",
    "| Pauli Z | $\\ket{0}\\,or\\,\\ket{1}$ | 1 or -1 |\n",
    "| Pauli Y | $\\ket{+i}\\,or\\,\\ket{-i}$ | 1 or -1 |\n",
    "\n",
    "Because all Pauli Gates have the same eigenvalues, they transform into each other on conjugation by a unitary"
   ]
  },
  {
   "cell_type": "markdown",
   "metadata": {},
   "source": [
    "#### Examples of Clifford Gates\n",
    "#### 1) Hadamard Gate\n",
    "\n",
    "X gate is tranformed to Z gate by conjugation by hadamard gate\n",
    "\n",
    "**HXH=Z**\n",
    "\n",
    "Z gate is tranformed to X gate by conjugation by hadamard gate\n",
    "\n",
    "**HZH=X**\n",
    "\n",
    "#### 1) S Gate\n",
    "\n",
    "X gate is tranformed to Y gate by conjugation by S gate\n",
    "\n",
    "**SXS$^{\\dagger}$=Y**\n",
    "\n",
    "Y gate is tranformed to -Y gate by conjugation by hadamard gate\n",
    "\n",
    "**SYS$^{\\dagger}$=−Y**\n",
    "\n",
    "Z gate is tranformed to Z gate by conjugation by hadamard gate\n",
    "\n",
    "**SZS$^{\\dagger}$=Z**"
   ]
  },
  {
   "cell_type": "markdown",
   "metadata": {},
   "source": [
    "### Conjugation of Standard Rotations by a Unitary (clifford)\n",
    "Any unitary can be expressed in an exponential form using a Hermitian matrix, like so:\n",
    "$$U = e^{iH}$$\n",
    "A $\\theta$ degree rotation about x axis can be expressed like so using Hermitian metrix X\n",
    "$$R_{x} = e^{\\frac{i\\theta X}{2}}$$\n",
    "We can conjugate $R_{x}$ with a Unitary matrix U and its Hermitian U$^{\\dagger}$ as shown\n",
    "$$UR_{x}U^{\\dagger} = e^{\\frac{i\\theta UXU^{\\dagger}}{2}}$$"
   ]
  },
  {
   "cell_type": "markdown",
   "metadata": {},
   "source": [
    "### Multiple-qubit Clifford gates\n",
    "They transform tensor products of Paulis to other tensor products of Paulis. \n",
    "\n",
    "The most prominent two-qubit Clifford gate is the CNOT (It is a universal gate). \n",
    "\n",
    "Conjugating pauli gate tensors by CNOT gives other pauli gate tensors as shown in the following example"
   ]
  },
  {
   "cell_type": "markdown",
   "metadata": {},
   "source": [
    "$$CNOT (X\\otimes I) CNOT = X \\otimes X$$"
   ]
  },
  {
   "cell_type": "markdown",
   "metadata": {},
   "source": [
    "CNOT (X$\\otimes$ I) CNOT"
   ]
  },
  {
   "cell_type": "code",
   "execution_count": 1,
   "metadata": {},
   "outputs": [
    {
     "data": {
      "image/png": "[encoded data removed]",
      "text/plain": [
       "<Figure size 267.052x144.48 with 1 Axes>"
      ]
     },
     "execution_count": 1,
     "metadata": {},
     "output_type": "execute_result"
    }
   ],
   "source": [
    "from qiskit import QuantumCircuit\n",
    "qc = QuantumCircuit(2)\n",
    "qc.cx(0, 1)\n",
    "qc.x(0)\n",
    "qc.id(1)\n",
    "qc.cx(0,1)\n",
    "qc.draw('mpl')"
   ]
  },
  {
   "cell_type": "markdown",
   "metadata": {},
   "source": [
    "(X$\\otimes$ X)"
   ]
  },
  {
   "cell_type": "code",
   "execution_count": 2,
   "metadata": {},
   "outputs": [
    {
     "data": {
      "text/latex": [
       "$$\n",
       "\n",
       "\\begin{bmatrix}\n",
       "0 & 0 & 0 & 1  \\\\\n",
       " 0 & 0 & 1 & 0  \\\\\n",
       " 0 & 1 & 0 & 0  \\\\\n",
       " 1 & 0 & 0 & 0  \\\\\n",
       " \\end{bmatrix}\n",
       "$$"
      ],
      "text/plain": [
       "<IPython.core.display.Latex object>"
      ]
     },
     "execution_count": 2,
     "metadata": {},
     "output_type": "execute_result"
    }
   ],
   "source": [
    "from qiskit.quantum_info import Operator\n",
    "from qiskit.visualization import array_to_latex\n",
    "gate = Operator(qc)\n",
    "array_to_latex(gate)"
   ]
  },
  {
   "cell_type": "code",
   "execution_count": 3,
   "metadata": {},
   "outputs": [
    {
     "data": {
      "text/latex": [
       "$$\n",
       "\n",
       "\\begin{bmatrix}\n",
       "0 & 0 & 0 & 1  \\\\\n",
       " 0 & 0 & 1 & 0  \\\\\n",
       " 0 & 1 & 0 & 0  \\\\\n",
       " 1 & 0 & 0 & 0  \\\\\n",
       " \\end{bmatrix}\n",
       "$$"
      ],
      "text/plain": [
       "<IPython.core.display.Latex object>"
      ]
     },
     "execution_count": 3,
     "metadata": {},
     "output_type": "execute_result"
    }
   ],
   "source": [
    "from qiskit.circuit.library import XGate\n",
    "gate1 = Operator(XGate())\n",
    "gate1 = gate1^gate1\n",
    "array_to_latex(gate1)"
   ]
  },
  {
   "cell_type": "code",
   "execution_count": 4,
   "metadata": {},
   "outputs": [
    {
     "name": "stdout",
     "output_type": "stream",
     "text": [
      "Average Gate Fidelity: 1.0\n",
      "Process Fidelity: 1.0\n"
     ]
    }
   ],
   "source": [
    "from qiskit.quantum_info import average_gate_fidelity, process_fidelity\n",
    "print('Average Gate Fidelity: {}'.format(average_gate_fidelity(gate, gate1)))\n",
    "print('Process Fidelity: {}'.format(process_fidelity(gate, gate1)))"
   ]
  },
  {
   "cell_type": "markdown",
   "metadata": {},
   "source": [
    "### Conjugation of Standard Rotations by a CNOT (multi qubit clifford)\n",
    "This transforms the simple single-qubit rotation into a very powerful two-qubit gate, which is not just equivalent to implementing the same rotation individually on both qubits, but capable of generating and manipulating entangled states."
   ]
  },
  {
   "cell_type": "markdown",
   "metadata": {},
   "source": [
    "$$CNOT (R_{x}\\otimes I) CNOT$$\n",
    "$$CNOT (e^{\\frac{i\\theta X}{2}}\\otimes I) CNOT$$\n",
    "$$CNOT (e^{\\frac{i\\theta}{2}X\\otimes I}) CNOT$$\n",
    "$$ e^{\\frac{i\\theta}{2}CNOT (X\\otimes I) CNOT}$$\n",
    "$$ e^{\\frac{i\\theta}{2}(X\\otimes X)}$$"
   ]
  },
  {
   "cell_type": "code",
   "execution_count": 5,
   "metadata": {},
   "outputs": [
    {
     "data": {
      "image/png": "[encoded data removed]",
      "text/plain": [
       "<Figure size 267.052x144.48 with 1 Axes>"
      ]
     },
     "execution_count": 5,
     "metadata": {},
     "output_type": "execute_result"
    }
   ],
   "source": [
    "from qiskit.circuit import Parameter\n",
    "theta = Parameter('θ')\n",
    "qc = QuantumCircuit(2)\n",
    "qc.cx(0, 1)\n",
    "qc.rx(theta, 0)\n",
    "qc.id(1)\n",
    "qc.cx(0,1)\n",
    "qc.draw('mpl')"
   ]
  },
  {
   "cell_type": "markdown",
   "metadata": {},
   "source": [
    "This has the effect of applying $R_{x}$ to all the qubits at the same time. This can be done by implementing $R_{x}$ individually to all the qubits, but this won't be possible on entangled qubits unlike the former approach."
   ]
  },
  {
   "cell_type": "markdown",
   "metadata": {},
   "source": [
    "Similarly we can apply such operations on an increasing number of qubits by using n pairs of CNOTs where n is number of qubits\n",
    "$$ e^{\\frac{i\\theta}{2}(X\\otimes X \\otimes X)}$$"
   ]
  },
  {
   "cell_type": "code",
   "execution_count": 6,
   "metadata": {},
   "outputs": [
    {
     "data": {
      "image/png": "[encoded data removed]",
      "text/plain": [
       "<Figure size 387.597x204.68 with 1 Axes>"
      ]
     },
     "execution_count": 6,
     "metadata": {},
     "output_type": "execute_result"
    }
   ],
   "source": [
    "from qiskit.circuit import Parameter\n",
    "theta = Parameter('θ')\n",
    "qc = QuantumCircuit(3)\n",
    "qc.cx(0, 1)\n",
    "qc.cx(0, 2)\n",
    "qc.rx(theta, 0)\n",
    "qc.id(1)\n",
    "qc.id(2)\n",
    "qc.cx(0, 2)\n",
    "qc.cx(0,1)\n",
    "qc.draw('mpl')"
   ]
  },
  {
   "cell_type": "markdown",
   "metadata": {},
   "source": [
    "The following circuit has the effect of $$ e^{\\frac{i\\theta}{2}(X\\otimes Y)}$$\n",
    "\n",
    "By conjugating R$_{x}$ rotation by a multi qubit clifford like CNOT ans S gates wherever necessary, we can transform it to the same rotation around another axis. This advantage of clifford gates with non clifford gates makes them useful."
   ]
  },
  {
   "cell_type": "code",
   "execution_count": 7,
   "metadata": {},
   "outputs": [
    {
     "data": {
      "image/png": "[encoded data removed]",
      "text/plain": [
       "<Figure size 387.452x144.48 with 1 Axes>"
      ]
     },
     "execution_count": 7,
     "metadata": {},
     "output_type": "execute_result"
    }
   ],
   "source": [
    "qc = QuantumCircuit(2)\n",
    "qc.id(0)\n",
    "qc.s(1)\n",
    "qc.cx(0, 1)\n",
    "qc.rx(theta, 0)\n",
    "qc.id(1)\n",
    "qc.cx(0,1)\n",
    "qc.id(0)\n",
    "qc.sdg(1)\n",
    "qc.draw('mpl')"
   ]
  },
  {
   "cell_type": "markdown",
   "metadata": {},
   "source": [
    "### Summary\n",
    "1) We can form all other gates as a composition of H, T and CNOT gates.\n",
    "\n",
    "2) We can form all other gates as a composition of Pauli Gates.\n",
    "\n",
    "3) We can transform from a Pauli gate to another by using clifford gates as a conjugation.\n",
    "\n",
    "4) A common multi qubit clifford gate is CNOT and its conjugation with standard rotation gates gives multiqubit gates applicable on entangled states."
   ]
  }
 ],
 "metadata": {
  "kernelspec": {
   "display_name": "Python 3",
   "language": "python",
   "name": "python3"
  },
  "language_info": {
   "codemirror_mode": {
    "name": "ipython",
    "version": 3
   },
   "file_extension": ".py",
   "mimetype": "text/x-python",
   "name": "python",
   "nbconvert_exporter": "python",
   "pygments_lexer": "ipython3",
   "version": "3.7.9"
  }
 },
 "nbformat": 4,
 "nbformat_minor": 4
}
